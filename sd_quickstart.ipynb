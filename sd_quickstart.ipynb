{
  "cells": [
    {
      "cell_type": "markdown",
      "metadata": {
        "id": "view-in-github",
        "colab_type": "text"
      },
      "source": [
        "<a href=\"https://colab.research.google.com/github/ShivieD/collabexp/blob/main/sd_quickstart.ipynb\" target=\"_parent\"><img src=\"https://colab.research.google.com/assets/colab-badge.svg\" alt=\"Open In Colab\"/></a>"
      ]
    },
    {
      "cell_type": "markdown",
      "metadata": {
        "id": "X98QrQuvC--B"
      },
      "source": [
        "### VideoDB QuickStart\n",
        "\n",
        "<a href=\"https://colab.research.google.com/github/video-db/videodb-cookbook/blob/main/quickstart/quickstart.ipynb\" target=\"_parent\"><img src=\"https://colab.research.google.com/assets/colab-badge.svg\" alt=\"Open In Colab\"/></a>\n",
        "\n",
        "This notebook is designed to help you get started with [VideoDB](https://videodb.io)."
      ]
    },
    {
      "cell_type": "markdown",
      "source": [
        "First GitHub repo"
      ],
      "metadata": {
        "id": "JFJERdE3Tunu"
      }
    },
    {
      "cell_type": "markdown",
      "metadata": {
        "id": "AoBLj7-KC--C"
      },
      "source": [
        "<div style=\"height:40px;\"></div>\n",
        "\n",
        "### Setup\n",
        "---  "
      ]
    },
    {
      "cell_type": "markdown",
      "metadata": {
        "id": "ZWcjJpZ7C--D"
      },
      "source": [
        "\n",
        "##### 🔧 Installing VideoDB in your environment\n",
        "\n",
        "VideoDB is available as [python package 📦](https://pypi.org/project/videodb)  "
      ]
    },
    {
      "cell_type": "code",
      "execution_count": null,
      "metadata": {
        "id": "5jdvymjOC--D",
        "outputId": "0189ec07-ad5b-4dd3-dea3-3889fa1448ba",
        "colab": {
          "base_uri": "https://localhost:8080/"
        }
      },
      "outputs": [
        {
          "output_type": "stream",
          "name": "stdout",
          "text": [
            "Collecting videodb\n",
            "  Downloading videodb-0.0.2.tar.gz (19 kB)\n",
            "  Preparing metadata (setup.py) ... \u001b[?25l\u001b[?25hdone\n",
            "Requirement already satisfied: requests>=2.25.1 in /usr/local/lib/python3.10/dist-packages (from videodb) (2.31.0)\n",
            "Collecting backoff>=2.2.1 (from videodb)\n",
            "  Downloading backoff-2.2.1-py3-none-any.whl (15 kB)\n",
            "Requirement already satisfied: charset-normalizer<4,>=2 in /usr/local/lib/python3.10/dist-packages (from requests>=2.25.1->videodb) (3.3.2)\n",
            "Requirement already satisfied: idna<4,>=2.5 in /usr/local/lib/python3.10/dist-packages (from requests>=2.25.1->videodb) (3.6)\n",
            "Requirement already satisfied: urllib3<3,>=1.21.1 in /usr/local/lib/python3.10/dist-packages (from requests>=2.25.1->videodb) (2.0.7)\n",
            "Requirement already satisfied: certifi>=2017.4.17 in /usr/local/lib/python3.10/dist-packages (from requests>=2.25.1->videodb) (2023.11.17)\n",
            "Building wheels for collected packages: videodb\n",
            "  Building wheel for videodb (setup.py) ... \u001b[?25l\u001b[?25hdone\n",
            "  Created wheel for videodb: filename=videodb-0.0.2-py3-none-any.whl size=19170 sha256=148fde9ff7be111b313722381e9e9a1214ba92af3b49d06bff11575c7ff11562\n",
            "  Stored in directory: /root/.cache/pip/wheels/87/7f/9e/ada9a03445e16cdc1fbe9eda3315668c62c216d527d7f2e50f\n",
            "Successfully built videodb\n",
            "Installing collected packages: backoff, videodb\n",
            "Successfully installed backoff-2.2.1 videodb-0.0.2\n"
          ]
        }
      ],
      "source": [
        "!pip install videodb"
      ]
    },
    {
      "cell_type": "markdown",
      "metadata": {
        "id": "okLmkyuJC--D"
      },
      "source": [
        "##### 🔗 Setting Up a connection to db\n",
        "To connect to VideoDB, simply create a `Connection` object.\n",
        "\n",
        "This can be done by either providing your VideoDB API key directly to the constructor or by setting the `VIDEO_DB_API_KEY` environment variable with your API key.\n",
        "\n",
        ">💡\n",
        ">Get your API key from [VideoDB Console](https://console.videodb.io). ( Free for first 50 uploads, No credit card required ) 🎉."
      ]
    },
    {
      "cell_type": "code",
      "execution_count": null,
      "metadata": {
        "id": "__mkfO39C--D"
      },
      "outputs": [],
      "source": [
        "from videodb import connect, play_stream\n",
        "conn = connect(api_key=\"sk-fuJM2TB2WaBdQYfviRToi5OnEamP93JT4Gp3M6mlqCY\")"
      ]
    },
    {
      "cell_type": "markdown",
      "metadata": {
        "id": "KUajZdmOC--D"
      },
      "source": [
        "<div style=\"height:40px;\"></div>\n",
        "\n",
        "### Working with a single Video\n",
        "---"
      ]
    },
    {
      "cell_type": "markdown",
      "metadata": {
        "id": "7FHImiILC--D"
      },
      "source": [
        "<div style=\"height:10px;\"></div>\n",
        "\n",
        "##### ⬆️ Uploading a video\n",
        "Now that you have established a connection to VideoDB, you can now upload your videos using `conn.upload()`.\n",
        "\n",
        "You can upload your media by a `url` or from your `local file system`\n",
        "\n",
        "`upload` returns a `Video` Object, which can be used to access video"
      ]
    },
    {
      "cell_type": "code",
      "execution_count": null,
      "metadata": {
        "id": "cHV6wYuIC--D"
      },
      "outputs": [],
      "source": [
        "#Upload a video by url\n",
        "video = conn.upload(url=\"https://www.youtube.com/watch?v=wx1DmOPhxU8\")"
      ]
    },
    {
      "cell_type": "markdown",
      "metadata": {
        "id": "9EFDeWKNC--E"
      },
      "source": [
        "<div style=\"background-color: #ffffcc; color: black; padding: 10px; border-radius: 5px;\">\n",
        "VideoDB simplifies your upload by supporting links from Youtube, S3 or any Public URL with video\n",
        "\n",
        "\n",
        "> Doubt: how do I upload a local file?\n",
        "\n",
        "\n",
        "</div>"
      ]
    },
    {
      "cell_type": "markdown",
      "metadata": {
        "id": "I17mEZQTC--E"
      },
      "source": [
        "<div style=\"height:15px;\"></div>\n",
        "\n",
        "##### 📺 Viewing your video\n",
        "\n",
        "Your video is instantly available for viewing 720p resolution ⚡️\n",
        "\n",
        "* Generate a streamable url for video using `video.generate_stream()`\n",
        "* Preview the video using Video.play(). This will open the video in your default browser/notebook.\n",
        "\n",
        "<div style=\"background-color: #ffffcc; color: black; padding: 10px; border-radius: 5px;\">\n",
        "    <strong>Note:</strong>if you are viewing this notebook on github, you won't be able to see iframe player, because of security restrictions. <br>\n",
        "    Please open the printed link of player in your browser</div>\n"
      ]
    },
    {
      "cell_type": "code",
      "execution_count": null,
      "metadata": {
        "id": "bz9f2qV4C--E",
        "outputId": "420cde6e-f955-4e05-a4b0-7cfe52a22c8c",
        "colab": {
          "base_uri": "https://localhost:8080/",
          "height": 421
        }
      },
      "outputs": [
        {
          "output_type": "execute_result",
          "data": {
            "text/plain": [
              "<IPython.lib.display.IFrame at 0x7aadaef6ee00>"
            ],
            "text/html": [
              "\n",
              "        <iframe\n",
              "            width=\"800\"\n",
              "            height=\"400\"\n",
              "            src=\"https://console.videodb.io/player?url=https://stream.videodb.io/v3/published/manifests/07dce300-562f-48b6-9c1b-8e4bbd42953f.m3u8\"\n",
              "            frameborder=\"0\"\n",
              "            allowfullscreen\n",
              "            \n",
              "        ></iframe>\n",
              "        "
            ]
          },
          "metadata": {},
          "execution_count": 4
        }
      ],
      "source": [
        "video.generate_stream()\n",
        "video.play()"
      ]
    },
    {
      "cell_type": "markdown",
      "metadata": {
        "id": "95SWeAPNC--E"
      },
      "source": [
        "##### ✂️ Get Specific Sections of videos\n",
        "\n",
        "You can easily clip specific sections of a video by passing timeline  of start and end sections. It accepts seconds.   \n",
        "For example Here’s we are streaming only first 10 seconds and then 120 to 140 second of uploaded video"
      ]
    },
    {
      "cell_type": "code",
      "execution_count": null,
      "metadata": {
        "id": "znylMZeBC--E",
        "outputId": "a46879f2-c27e-45e4-e08d-c16e6a76070d",
        "colab": {
          "base_uri": "https://localhost:8080/",
          "height": 421
        }
      },
      "outputs": [
        {
          "output_type": "execute_result",
          "data": {
            "text/plain": [
              "<IPython.lib.display.IFrame at 0x7aadaef6e6b0>"
            ],
            "text/html": [
              "\n",
              "        <iframe\n",
              "            width=\"800\"\n",
              "            height=\"400\"\n",
              "            src=\"https://console.videodb.io/player?url=https://stream.videodb.io/v3/published/manifests/b16b00a0-bd6a-452b-abc7-6df35bd88b58.m3u8\"\n",
              "            frameborder=\"0\"\n",
              "            allowfullscreen\n",
              "            \n",
              "        ></iframe>\n",
              "        "
            ]
          },
          "metadata": {},
          "execution_count": 11
        }
      ],
      "source": [
        "stream_link = video.generate_stream(timeline=[[0,5], [45,25], [20,30]])\n",
        "play_stream(stream_link)"
      ]
    },
    {
      "cell_type": "markdown",
      "source": [
        "\n",
        "\n",
        "> Doubt: I noticed that the streaming doesn't happen if the sec int inside the tuple isn't in the right order [45,35] in this case; should cases like this be mentioned in the notebook/ returned as an error?\n",
        "\n"
      ],
      "metadata": {
        "id": "-Lntas7jGgiF"
      }
    },
    {
      "cell_type": "markdown",
      "metadata": {
        "id": "lQVekhXCC--E"
      },
      "source": [
        "<div style=\"height:15px;\"></div>\n",
        "\n",
        "##### 🔍 Searching inside a video\n",
        "To search bits inside a video — you  have to index the video first. This can be done by a simple command.\n",
        "`video.index_spoken_words()`\n",
        "\n",
        "<div style=\"background-color: #ffffcc; color: black; padding: 10px; border-radius: 5px;\">\n",
        "    <strong>Note:</strong>Index may take time for longer videos</div>"
      ]
    },
    {
      "cell_type": "code",
      "execution_count": null,
      "metadata": {
        "id": "gpXFzuwIC--E"
      },
      "outputs": [],
      "source": [
        "video.index_spoken_words()"
      ]
    },
    {
      "cell_type": "markdown",
      "metadata": {
        "id": "irJi6WgyC--E"
      },
      "source": [
        "**Searching inside video**:  \n",
        "  \n",
        "Search can peformed on indexed video using `video.search()`"
      ]
    },
    {
      "cell_type": "code",
      "execution_count": null,
      "metadata": {
        "colab": {
          "base_uri": "https://localhost:8080/",
          "height": 346
        },
        "id": "a1nRgKq8C--E",
        "outputId": "57dc6a88-7b81-47f7-c44a-f2e636d5d734"
      },
      "outputs": [
        {
          "output_type": "error",
          "ename": "SearchError",
          "evalue": "No shots found in search results to compile ",
          "traceback": [
            "\u001b[0;31m---------------------------------------------------------------------------\u001b[0m",
            "\u001b[0;31mSearchError\u001b[0m                               Traceback (most recent call last)",
            "\u001b[0;32m<ipython-input-13-17ae475dd332>\u001b[0m in \u001b[0;36m<cell line: 2>\u001b[0;34m()\u001b[0m\n\u001b[1;32m      1\u001b[0m \u001b[0mresult\u001b[0m \u001b[0;34m=\u001b[0m \u001b[0mvideo\u001b[0m\u001b[0;34m.\u001b[0m\u001b[0msearch\u001b[0m\u001b[0;34m(\u001b[0m\u001b[0;34m\"How to control sugar cravings?\"\u001b[0m\u001b[0;34m)\u001b[0m\u001b[0;34m\u001b[0m\u001b[0;34m\u001b[0m\u001b[0m\n\u001b[0;32m----> 2\u001b[0;31m \u001b[0mresult\u001b[0m\u001b[0;34m.\u001b[0m\u001b[0mplay\u001b[0m\u001b[0;34m(\u001b[0m\u001b[0;34m)\u001b[0m\u001b[0;34m\u001b[0m\u001b[0;34m\u001b[0m\u001b[0m\n\u001b[0m",
            "\u001b[0;32m/usr/local/lib/python3.10/dist-packages/videodb/search.py\u001b[0m in \u001b[0;36mplay\u001b[0;34m(self)\u001b[0m\n\u001b[1;32m     86\u001b[0m         \u001b[0;34m:\u001b[0m\u001b[0mrtype\u001b[0m\u001b[0;34m:\u001b[0m \u001b[0mstr\u001b[0m\u001b[0;34m\u001b[0m\u001b[0;34m\u001b[0m\u001b[0m\n\u001b[1;32m     87\u001b[0m         \"\"\"\n\u001b[0;32m---> 88\u001b[0;31m         \u001b[0mself\u001b[0m\u001b[0;34m.\u001b[0m\u001b[0mcompile\u001b[0m\u001b[0;34m(\u001b[0m\u001b[0;34m)\u001b[0m\u001b[0;34m\u001b[0m\u001b[0;34m\u001b[0m\u001b[0m\n\u001b[0m\u001b[1;32m     89\u001b[0m         \u001b[0;32mreturn\u001b[0m \u001b[0mplay_stream\u001b[0m\u001b[0;34m(\u001b[0m\u001b[0mself\u001b[0m\u001b[0;34m.\u001b[0m\u001b[0mstream_url\u001b[0m\u001b[0;34m)\u001b[0m\u001b[0;34m\u001b[0m\u001b[0;34m\u001b[0m\u001b[0m\n\u001b[1;32m     90\u001b[0m \u001b[0;34m\u001b[0m\u001b[0m\n",
            "\u001b[0;32m/usr/local/lib/python3.10/dist-packages/videodb/search.py\u001b[0m in \u001b[0;36mcompile\u001b[0;34m(self)\u001b[0m\n\u001b[1;32m     78\u001b[0m \u001b[0;34m\u001b[0m\u001b[0m\n\u001b[1;32m     79\u001b[0m         \u001b[0;32melse\u001b[0m\u001b[0;34m:\u001b[0m\u001b[0;34m\u001b[0m\u001b[0;34m\u001b[0m\u001b[0m\n\u001b[0;32m---> 80\u001b[0;31m             \u001b[0;32mraise\u001b[0m \u001b[0mSearchError\u001b[0m\u001b[0;34m(\u001b[0m\u001b[0;34m\"No shots found in search results to compile\"\u001b[0m\u001b[0;34m)\u001b[0m\u001b[0;34m\u001b[0m\u001b[0;34m\u001b[0m\u001b[0m\n\u001b[0m\u001b[1;32m     81\u001b[0m \u001b[0;34m\u001b[0m\u001b[0m\n\u001b[1;32m     82\u001b[0m     \u001b[0;32mdef\u001b[0m \u001b[0mplay\u001b[0m\u001b[0;34m(\u001b[0m\u001b[0mself\u001b[0m\u001b[0;34m)\u001b[0m \u001b[0;34m->\u001b[0m \u001b[0mstr\u001b[0m\u001b[0;34m:\u001b[0m\u001b[0;34m\u001b[0m\u001b[0;34m\u001b[0m\u001b[0m\n",
            "\u001b[0;31mSearchError\u001b[0m: No shots found in search results to compile "
          ]
        }
      ],
      "source": [
        "result = video.search(\"How to control sugar cravings?\")\n",
        "result.play()"
      ]
    },
    {
      "cell_type": "code",
      "source": [],
      "metadata": {
        "id": "GfCBbolXJ4vW"
      },
      "execution_count": null,
      "outputs": []
    },
    {
      "cell_type": "code",
      "execution_count": null,
      "metadata": {
        "outputId": "567da2f0-fd1a-4e3e-b87f-24ef5aa5045e",
        "colab": {
          "base_uri": "https://localhost:8080/",
          "height": 421
        },
        "id": "ZAKg3GNuJ5O7"
      },
      "outputs": [
        {
          "output_type": "execute_result",
          "data": {
            "text/plain": [
              "<IPython.lib.display.IFrame at 0x7aadaef6faf0>"
            ],
            "text/html": [
              "\n",
              "        <iframe\n",
              "            width=\"800\"\n",
              "            height=\"400\"\n",
              "            src=\"https://console.videodb.io/player?url=https://stream.videodb.io/v3/published/manifests/9bc9361d-4161-4136-b370-88a3a62c08dc.m3u8\"\n",
              "            frameborder=\"0\"\n",
              "            allowfullscreen\n",
              "            \n",
              "        ></iframe>\n",
              "        "
            ]
          },
          "metadata": {},
          "execution_count": 14
        }
      ],
      "source": [
        "result = video.search(\"Neurocentric bias\")\n",
        "result.play()"
      ]
    },
    {
      "cell_type": "markdown",
      "metadata": {
        "id": "gPvuor9TC--F"
      },
      "source": [
        "##### 📺 Viewing Search Results :\n",
        "\n",
        "`video.search()` will return a SearchResults object, which contains the sections/shots of videos which semantically match your search query\n",
        "\n",
        "* `result.get_shots()` - Returns a list of Shot that matched search query\n",
        "* `result.play()`  - This will open the video in your default browser/notebook"
      ]
    },
    {
      "cell_type": "markdown",
      "metadata": {
        "id": "OTIOOhEQC--F"
      },
      "source": [
        "##### 🗑️ Cleanup\n",
        "You can delete the video from database using `video.delete()`"
      ]
    },
    {
      "cell_type": "code",
      "execution_count": null,
      "metadata": {
        "id": "-UVNCqRyC--F"
      },
      "outputs": [],
      "source": [
        "video.delete()"
      ]
    },
    {
      "cell_type": "markdown",
      "source": [
        "\n",
        "\n",
        "> Doubt: does this happen automatically after every search query? Or do we store the compilation in the database until it's specifically removed?\n",
        "\n"
      ],
      "metadata": {
        "id": "cf38I-9nKlU9"
      }
    },
    {
      "cell_type": "markdown",
      "metadata": {
        "id": "bFeuN2m5C--F"
      },
      "source": [
        "<div style=\"height:40px;\"></div>\n",
        "\n",
        "### RAG: Working with Multiple Videos\n",
        "---\n",
        "`VideoDB` can store and search inside multiple videos with ease.  \n",
        "By default, videos are uploaded to your default collection."
      ]
    },
    {
      "cell_type": "markdown",
      "metadata": {
        "id": "LKBqBzl_C--F"
      },
      "source": [
        "<div style=\"height:15px;\"></div>\n",
        "\n",
        "##### 🔄 Using Collection to upload multiple Videos"
      ]
    },
    {
      "cell_type": "code",
      "execution_count": null,
      "metadata": {
        "id": "d2J-WkSmC--F",
        "outputId": "08618fff-fce2-4e81-e48c-58ecf11302d1",
        "colab": {
          "base_uri": "https://localhost:8080/"
        }
      },
      "outputs": [
        {
          "output_type": "execute_result",
          "data": {
            "text/plain": [
              "Video(id=m-379370a1-1bd8-4219-9608-4a7bea44a14c, collection_id=c-96cef505-9356-44db-bb39-9bbbc0d3fd62, stream_url=https://stream.videodb.io/v3/published/manifests/5b194ef0-ca74-44aa-923e-542a842d4b67.m3u8, player_url=https://console.videodb.io/player?url=https://stream.videodb.io/v3/published/manifests/5b194ef0-ca74-44aa-923e-542a842d4b67.m3u8, name=AMA #3: Adaptogens, Fasting & Fertility, Bluetooth/EMF Risks, Cognitive Load Limits & More, description=None, thumbnail_url=None, length=1921.2193)"
            ]
          },
          "metadata": {},
          "execution_count": 16
        }
      ],
      "source": [
        "# Get a collection\n",
        "coll = conn.get_collection()\n",
        "\n",
        "# Upload Videos to a collection\n",
        "coll.upload(url=\"https://www.youtube.com/watch?v=lsODSDmY4CY\")\n",
        "coll.upload(url=\"https://www.youtube.com/watch?v=vZ4kOr38JhY\")\n",
        "coll.upload(url=\"https://www.youtube.com/watch?v=uak_dXHh6s4\")"
      ]
    },
    {
      "cell_type": "markdown",
      "metadata": {
        "id": "oFJKDTX5C--F"
      },
      "source": [
        "* `conn.get_collection()` : Returns Collection object, the default collection\n",
        "* `coll.get_videos()` : Returns list of Video, all videos in collections\n",
        "* `coll.get_video(video_id)` : Returns Video, respective video object from given video_id\n",
        "* `coll.delete_video(video_id)` : Deletes the video from Collection"
      ]
    },
    {
      "cell_type": "markdown",
      "metadata": {
        "id": "jexBJQyAC--F"
      },
      "source": [
        "<div style=\"height:15px;\"></div>\n",
        "\n",
        "##### 📂 Search on Multiple Videos from a collection\n",
        "\n",
        "You can simply Index all the videos in a collection and use search method on collection to find relevant results.   \n",
        "Here we are indexing spoken content of a collection and searching\n",
        "\n",
        "<div style=\"background-color: #ffffcc; color: black; padding: 10px; border-radius: 5px;\">\n",
        "    <strong>Note:</strong>Index may take time for longer videos</div>"
      ]
    },
    {
      "cell_type": "code",
      "execution_count": null,
      "metadata": {
        "id": "ujfN_Fb-C--F",
        "outputId": "c8fb516f-7640-4a38-f4ed-140087a3743c",
        "colab": {
          "base_uri": "https://localhost:8080/"
        }
      },
      "outputs": [
        {
          "output_type": "stream",
          "name": "stdout",
          "text": [
            "Indexed AMA #3: Adaptogens, Fasting & Fertility, Bluetooth/EMF Risks, Cognitive Load Limits & More\n",
            "Indexed AMA #2: Improve Sleep, Reduce Sugar Cravings, Optimal Protein Intake, Stretching Frequency & More\n",
            "Indexed AMA #1: Leveraging Ultradian Cycles, How to Protect Your Brain, Seed Oils Examined and More\n",
            "Indexed How we built a 1000x Growth Product in 1 Year | Perplexity AI, Aravind Srinivas\n"
          ]
        }
      ],
      "source": [
        "for video in coll.get_videos():\n",
        "    video.index_spoken_words()\n",
        "    print(f\"Indexed {video.name}\")"
      ]
    },
    {
      "cell_type": "markdown",
      "metadata": {
        "id": "EvZ9m6LHC--F"
      },
      "source": [
        "**Searching Inside Collection** :   \n",
        "  \n",
        "Search can peformed on collection using `coll.search()`"
      ]
    },
    {
      "cell_type": "code",
      "execution_count": null,
      "metadata": {
        "id": "AEAf9RloC--F",
        "outputId": "9323f9ec-026e-46ce-99ff-b2e208f5e6fc",
        "colab": {
          "base_uri": "https://localhost:8080/",
          "height": 421
        }
      },
      "outputs": [
        {
          "output_type": "execute_result",
          "data": {
            "text/plain": [
              "<IPython.lib.display.IFrame at 0x7aadd3579630>"
            ],
            "text/html": [
              "\n",
              "        <iframe\n",
              "            width=\"800\"\n",
              "            height=\"400\"\n",
              "            src=\"https://console.videodb.io/player?url=https://stream.videodb.io/v3/published/manifests/407cd171-1665-4fa7-91b5-89f164fce2cd.m3u8\"\n",
              "            frameborder=\"0\"\n",
              "            allowfullscreen\n",
              "            \n",
              "        ></iframe>\n",
              "        "
            ]
          },
          "metadata": {},
          "execution_count": 21
        }
      ],
      "source": [
        "# search in the collection of videos\n",
        "results = coll.search(query = \"Sleep and brain\")\n",
        "results.play()"
      ]
    },
    {
      "cell_type": "code",
      "execution_count": null,
      "metadata": {
        "id": "SHwKIDIqC--F",
        "outputId": "0210780f-5ccb-4919-c4a9-aee3522bf9f7",
        "colab": {
          "base_uri": "https://localhost:8080/",
          "height": 421
        }
      },
      "outputs": [
        {
          "output_type": "execute_result",
          "data": {
            "text/plain": [
              "<IPython.lib.display.IFrame at 0x7aadaef6fdf0>"
            ],
            "text/html": [
              "\n",
              "        <iframe\n",
              "            width=\"800\"\n",
              "            height=\"400\"\n",
              "            src=\"https://console.videodb.io/player?url=https://stream.videodb.io/v3/published/manifests/38a6005d-c6ae-4a63-8cca-54b51d6936be.m3u8\"\n",
              "            frameborder=\"0\"\n",
              "            allowfullscreen\n",
              "            \n",
              "        ></iframe>\n",
              "        "
            ]
          },
          "metadata": {},
          "execution_count": 19
        }
      ],
      "source": [
        "results = coll.search(query= \"What are the benifits of morning sunlight?\")\n",
        "results.play()"
      ]
    },
    {
      "cell_type": "code",
      "execution_count": null,
      "metadata": {
        "id": "v0azoybXC--F",
        "outputId": "44856f25-b7f3-4090-80d0-dd0aa47ffa13",
        "colab": {
          "base_uri": "https://localhost:8080/",
          "height": 421
        }
      },
      "outputs": [
        {
          "output_type": "execute_result",
          "data": {
            "text/plain": [
              "<IPython.lib.display.IFrame at 0x7aadaef6f130>"
            ],
            "text/html": [
              "\n",
              "        <iframe\n",
              "            width=\"800\"\n",
              "            height=\"400\"\n",
              "            src=\"https://console.videodb.io/player?url=https://stream.videodb.io/v3/published/manifests/22d8f065-b17e-4ce1-80b5-f5acc0d78670.m3u8\"\n",
              "            frameborder=\"0\"\n",
              "            allowfullscreen\n",
              "            \n",
              "        ></iframe>\n",
              "        "
            ]
          },
          "metadata": {},
          "execution_count": 20
        }
      ],
      "source": [
        "results = coll.search(query= \"What are Adaptogens?\")\n",
        "results.play()"
      ]
    },
    {
      "cell_type": "markdown",
      "metadata": {
        "id": "fMlGBp81C--F"
      },
      "source": [
        "##### 📺 Viewing Search Results :\n",
        "\n",
        "`video.search()` will return a SearchResults object, which contains the sections/shots of videos which semantically match your search query\n",
        "\n",
        "* `result.get_shots()` - Returns a list of Shot that matched search query\n",
        "* `result.play()`  - This will open the video in your default browser/notebook"
      ]
    },
    {
      "cell_type": "markdown",
      "metadata": {
        "id": "c0Xyt1BqC--F"
      },
      "source": [
        "<div style=\"background-color: #ffffcc; color: black; padding: 10px; border-radius: 5px;\">\n",
        "As you can see VideoDB fundamentally removes the limitation of files and gives you power to access and stream videos in a very seamless way. Stay tuned for exciting features in our upcoming version and keep building awesome stuff with VideoDB 🤘\n",
        "</div>"
      ]
    },
    {
      "cell_type": "markdown",
      "metadata": {
        "id": "tt7UvzWsC--F"
      },
      "source": [
        "### 🌟 Explore more with Video object\n",
        "There are multiple methods available on a Video Object, that can be helpful for your use-case."
      ]
    },
    {
      "cell_type": "markdown",
      "metadata": {
        "id": "Q4N-RJcbC--G"
      },
      "source": [
        "##### Access Transcript"
      ]
    },
    {
      "cell_type": "code",
      "execution_count": null,
      "metadata": {
        "id": "kuGyUGIVC--G",
        "outputId": "1fcc9f47-5727-4ed1-f087-2d06f19a3515",
        "colab": {
          "base_uri": "https://localhost:8080/"
        }
      },
      "outputs": [
        {
          "output_type": "stream",
          "name": "stdout",
          "text": [
            "Hi Marvin, srinivasan MD co-founder and CEO of robloxia. Dai black city is a conversational intervention that aims to deliver answers to use whatever questions. You may ask your trying to revolutionize how people give information online instead of getting Thin Blue Line. So you can just ask questions and natural language into scared answer instantly when we launched the product on December 7th, 2020 to 1004 period of one year. So I grew up in India selling one of the items there and I was really into algorithms programming ever since the beginning a friend of mine's like I told me about imagine learning on test. You know what machine learning was what all they told me was a there's two status at and you can figure out a way to get into it and it was fun and I won the contest and I didn't spend a lot of time so I decided to go deeper into it. I went and did my PhD in Berkeley on a i n d burning in 2018 summer as a research into I thought I was good in the Berkeley. I'm like definitely one of the dog they have to be issued. And then I meant opening I have felt like really bad so much better than me. It was a big reality check that okay, I could improve a lot more programming to unlock more enforcement's was thinking the clarity of thought after internship. Autopia in 2018. That was when GPT one was published me realize that there is this new form of learning using all them. They can learn from it. I figured that was going to More important. I told my advisors in this is the right thing to do. We should go work on this and he was actually like pretty open-minded and said, okay, you know what like I'm not a specialist here, but let's try I mean if there's a next time the best way to learn a new topic has two forces us to teach it to others that we spend a lot of time all of these weekends just learning including Into Sunshine. All these things are to yours all that help me find a new research topic which is how to combine territory and are together which is what results in these amazing technology section chief is not just protecting. The next word on the Internet is doing that and then making sure that you know how to communicate with you. I'd always been interested in your shame because I've been in the Bay Area I watch the TV show Silicon Valley which is pretty real but never really found an example of an academic I really resonated with it was all like underground dropouts at one point and I was in the library in the late-night reading books. And then I stumbled Upon This Book for the story of Larry and Sergey in the book how Google works Larry had when the forward and I had only two career Pathways for myself. It was either to be a professor or an entrepreneur. And the reason is that no other career pathway would let me execute on my own. Wish I would have to be working on someone else's Mission. I wouldn't be able to bring out what ideas I have in my head into reality. Artificial intelligence would be the ultimate version of Google. So we're the ultimate search engine. It would understand everything on the web. He would understand, you know exactly what you wanted and I'll give you the right thing. Yeah, perplexity is the world's worst conversational answering. What is that mean earlier? We were used to entering something like keywords are bunch of phrases and blue gives you ten duel links in the open each of them in stock rating reflects. He's trying to build a future where you don't have to do this. You can just come and ask a question just like how you would ask her friend and that AI replies to you with the answer but not just the answer every sentence that it says also has a corresponding reference. Are we call it a citation? This is all coming from an academic background like my co-founder Dennis and I are each tsv figured that we would use this principle that everything in a paper that you write in Academia. You have to back it up with reference from them out of paper. And that's how perplexity works. It's almost like how of journalist essays written research papers working. How can I help you? If you don't know what do you want? Who are not expert prompt engineers and never going to be don't blame you use it for not having a good prompt blame the AI for not being able to expand or help them expand themselves to the front. That's why I hope I left on our side. We're as you ask a question boo pilot for the last clarifying questions and your prom just basically getting expanded interacted with similar talking to a friend like, you know what I'm figuring out which school to go to. Okay, cool. What are you actually interested interested in like English majors? Are you interested in computer science? And then I think I might be in English in computer science you talk to a friend, right? We want that experienced to come to the search engine to document intelligence need to do that is being done by a I know and we think this is the future of how people are going to interact with information on the Internet Launch the product. On December 7th 2022 our first day I think we saw around 2000 3000 Perry's now we serve more than 3 to 4 million cartridges a day is basically grown thousand X silver. Of one year road so far has been somebody says charged me doesn't work for this particular sucks at this thing and then like people discrete or anything just get it comes down to improving every single high-quality. How good are you at writing that amazing concise summary without whose initials are playing the orchestra here. These are all the individual musicians in any one musician failing will make the results failed. That's why this is a hard thing to build. That's why this is not something we're all because you're going to lose because even for a big company bling orchestra's heart If you're more money, you can hire better musicians and IQ is a better artist overtime, but that's still a part of orchestrating for the user doesn't care where it goes wrong in any of these for the user is there in an answer? I'll just buy this particular product is super hard and that's why I like we're so focused on improving every aspect of a heart problem. We believe it can be solved overtime as we gather more data from users as improve our own like where of stocks in each of these components. Your experience is going to keep getting better. So the Pro Plan is priced at $20 a month in exact same pricing a stretchy petite. Plus I'll tell you why do we use opening ask if we priced lower than chaturvedi? Plus he will come and pay for it but not necessarily for what we're of probably because Subsidized 54 and give it to the sub city in any industry as Park Market, but then do you have birthmarks appear as a company because you're subsidizing something everybody wants which is you or are they have brought my guitar for your core offering which is combining at all of them since search together and it's very important for you to not inflate something with something else besides OK Google price of the same price and then see how many plus tubing for a product because they realize that we are the best provider search and it seems together either. They had to cancel Channel subscription. Come here or you pay for HBO. That's why we decided to do this. We are super happy that their work because that means what if user comes in peace for us communicate to us one thing which has a value that you are providing the best service of this one pretty good thing that they want the highest quality. You're the best strategy for startups has to focus on very few things like little even one thing because there's not much time at the start of his supposed to move fast. And as a start-up you have very few shots of failure. You're also supposed to ship high-quality things so that the user trust you so physically impossible for you to do anything with a small team around 30 people when you have fewer people you can only do fewer things. So therefore he spent a lot of time thinking about what to do and once you decided to do it, there is a coat. I really like from the Airbnb founder that you have to earn the right to ship a new feature from your user ID user one's already a bunch of your job is to actually go and do that for them. And once they're happy electronic. Give me new features when you're doing pretty well. That's when you got to go and ship near future we have this mentality. Do you say yes to every single obvious idea that he can do try to really think about what the user wants and how does it work in the context of our mission which is to make the world's most eccentric company ultimate knowledge and once we have described as I said, well, we will just focus on execution. We wouldn't get this truck. I want this ship and it's in a good enough State we would finish the project in what is the next thing and then it becomes like a repeatable. It's also the culture you want to set up like you tell people. Okay. I'll do it tomorrow. Why can't you do it today just asked a question. Don't tell them you do today. Can we do today? And if they have a solid explanation for why it cannot be done today in fair, but maybe they didn't even consider the thought of you can do it tomorrow trying to push them towards urgency. Hey, look we are at startup. I need pics of cute. Like if we don't all our potential just in case if you have a rolling ball and you do nothing a lot of automatic. But if y'all rolling ball and you keep thinking it'll go even faster something as complex because there's a lot of information then force your brain to say. Okay, that's good. But what is a 1 most important thing as usually does not more than two plus two choices and there are three things. I hate choices. Now your brain is not able to process a choices at want to see you guys really afford best. So your job is actually to figure out what is that two choices. In fact, there is like a spice from Reid Hoffman that's his life. And we're going to make decisions people usually do pros and cons. Are they write down the pros write down the cons and then see which has more and the pic that option but that's like the wrong way of doing things. Stop it, you're saying everything equally important but things are equally important. Usually some things have been more important than other so you got to be able to pick something and pick the most important thing out of it and focus on that usually works reformulate the problem better. And so the convicts problem becomes my soup there and then it right. Look I'm not saying I'm really good at this today. I can still improve and so can everybody still believe in the improvement process don't believe in life being perfect and we all learn we all make mistakes and it's fine so I can give him this advice and I'll continue to say there's no consistency. I really believe in it when you starting a company do what you really love cuz the world is not something that started it changes Dynamic really fast. I would say what you love doesn't usually change to start with that. The mission is not about making money. That's it. Mission requires money and therefore we will make money in order to like the metric should never be like Oh by Xerox month. I'm going to increase evaluation by alpha x x it should be really focus on what I should make a product better. I should have more users. I should have air quality product or accuracy lot of people in when they wake up they feel like going back to bed if you like. Honestly you one or two more hours more and nothing sweetie going to change for me. It's the opposite. I'm like being up sooner than I wanted to sleeping later than I wanted to spend the day and say I always feel like I was more stuff I could have done so that's actually a privilege. I also feel stressed but the opposite would make me feel any of it. So it's very fulfilling. It's definitely a Division. I want to keep going this way. \n"
          ]
        }
      ],
      "source": [
        "# words with timestamps\n",
        "text_json = video.get_transcript()\n",
        "text = video.get_transcript_text()\n",
        "print(text)"
      ]
    },
    {
      "cell_type": "markdown",
      "source": [
        "\n",
        "\n",
        "> Doubt: How does it choose which video to process? And the duration of this clip?\n",
        "\n"
      ],
      "metadata": {
        "id": "LlFyz4nRPXv5"
      }
    },
    {
      "cell_type": "markdown",
      "metadata": {
        "id": "QXMBklVhC--G"
      },
      "source": [
        "##### Add Subtitle to a video\n",
        "It returns a new stream instantly with subtitle added into the video."
      ]
    },
    {
      "cell_type": "code",
      "execution_count": null,
      "metadata": {
        "id": "4gfrJ41RC--G",
        "outputId": "75bbe092-2fde-4a5e-ff1e-c24c1bbbdbde",
        "colab": {
          "base_uri": "https://localhost:8080/",
          "height": 421
        }
      },
      "outputs": [
        {
          "output_type": "execute_result",
          "data": {
            "text/plain": [
              "<IPython.lib.display.IFrame at 0x7aadaef6e5c0>"
            ],
            "text/html": [
              "\n",
              "        <iframe\n",
              "            width=\"800\"\n",
              "            height=\"400\"\n",
              "            src=\"https://console.videodb.io/player?url=https://stream.videodb.io/v3/published/manifests/a14d9b21-d4af-4c4a-8e13-2571ade264eb.m3u8\"\n",
              "            frameborder=\"0\"\n",
              "            allowfullscreen\n",
              "            \n",
              "        ></iframe>\n",
              "        "
            ]
          },
          "metadata": {},
          "execution_count": 23
        }
      ],
      "source": [
        "new_stream = video.add_subtitle()\n",
        "play_stream(new_stream)"
      ]
    },
    {
      "cell_type": "markdown",
      "metadata": {
        "id": "qEMyc8NcC--G"
      },
      "source": [
        "In upcoming versions, VideoDB would support subtitle in multiple languages and more options to style your subtitles."
      ]
    },
    {
      "cell_type": "markdown",
      "metadata": {
        "id": "_nVSYpxmC--O"
      },
      "source": [
        "##### Generate Thumbnail of Video :\n",
        "\n",
        "You can use `video.generate_thumbnail()` to generate a thumbnail image of video."
      ]
    },
    {
      "cell_type": "code",
      "execution_count": null,
      "metadata": {
        "id": "Vy2lvrMVC--O",
        "outputId": "a5593381-be81-477b-e0e7-6810f2136071",
        "colab": {
          "base_uri": "https://localhost:8080/",
          "height": 381
        }
      },
      "outputs": [
        {
          "output_type": "execute_result",
          "data": {
            "text/html": [
              "<img src=\"https://storage.videodb.io/public/m-f6113bce-58dc-4d43-a63a-1172889a8987/97c4036a-c9b2-49d1-815c-11d05472f3bc.jpg\"/>"
            ],
            "text/plain": [
              "<IPython.core.display.Image object>"
            ]
          },
          "metadata": {},
          "execution_count": 24
        }
      ],
      "source": [
        "from IPython.display import Image\n",
        "\n",
        "thumbnail_url = video.generate_thumbnail()\n",
        "Image(url=thumbnail_url)"
      ]
    },
    {
      "cell_type": "markdown",
      "metadata": {
        "id": "V_a25XbZC--O"
      },
      "source": [
        "##### Delete a video :\n",
        "\n",
        "* `video.delete()` :deletes a video."
      ]
    },
    {
      "cell_type": "code",
      "execution_count": null,
      "metadata": {
        "id": "2Vj5WePwC--O"
      },
      "outputs": [],
      "source": [
        "video.delete()"
      ]
    },
    {
      "cell_type": "markdown",
      "metadata": {
        "id": "B9dRRKVZC--O"
      },
      "source": [
        "\n",
        "<div style=\"background-color: #ffffcc; color: black; padding: 10px; border-radius: 5px;\">\n",
        "Checkout more examples and tutorials 👉 <a href=\"https://docs.videodb.io/build-with-videodb-35\"> Build with VideoDB </a> to explore what you can build with VideoDB\n",
        "</div>"
      ]
    }
  ],
  "metadata": {
    "kernelspec": {
      "display_name": "venv",
      "language": "python",
      "name": "python3"
    },
    "language_info": {
      "codemirror_mode": {
        "name": "ipython",
        "version": 3
      },
      "file_extension": ".py",
      "mimetype": "text/x-python",
      "name": "python",
      "nbconvert_exporter": "python",
      "pygments_lexer": "ipython3",
      "version": "3.9.12"
    },
    "colab": {
      "provenance": [],
      "include_colab_link": true
    }
  },
  "nbformat": 4,
  "nbformat_minor": 0
}