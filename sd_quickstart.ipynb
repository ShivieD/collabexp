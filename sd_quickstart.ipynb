{
  "cells": [
    {
      "cell_type": "markdown",
      "metadata": {
        "id": "view-in-github",
        "colab_type": "text"
      },
      "source": [
        "<a href=\"https://colab.research.google.com/github/ShivieD/collabexp/blob/main/sd_quickstart.ipynb\" target=\"_parent\"><img src=\"https://colab.research.google.com/assets/colab-badge.svg\" alt=\"Open In Colab\"/></a>"
      ]
    },
    {
      "cell_type": "markdown",
      "metadata": {
        "id": "X98QrQuvC--B"
      },
      "source": [
        "### VideoDB QuickStart\n",
        "\n",
        "<a href=\"https://colab.research.google.com/github/video-db/videodb-cookbook/blob/main/quickstart/quickstart.ipynb\" target=\"_parent\"><img src=\"https://colab.research.google.com/assets/colab-badge.svg\" alt=\"Open In Colab\"/></a>\n",
        "\n",
        "This notebook is designed to help you get started with [VideoDB](https://videodb.io)."
      ]
    },
    {
      "cell_type": "markdown",
      "source": [
        "First GitHub repo"
      ],
      "metadata": {
        "id": "JFJERdE3Tunu"
      }
    },
    {
      "cell_type": "markdown",
      "metadata": {
        "id": "AoBLj7-KC--C"
      },
      "source": [
        "<div style=\"height:40px;\"></div>\n",
        "\n",
        "### Setup\n",
        "---  "
      ]
    },
    {
      "cell_type": "markdown",
      "metadata": {
        "id": "ZWcjJpZ7C--D"
      },
      "source": [
        "\n",
        "##### 🔧 Installing VideoDB in your environment\n",
        "\n",
        "VideoDB is available as [python package 📦](https://pypi.org/project/videodb)  "
      ]
    },
    {
      "cell_type": "code",
      "execution_count": 71,
      "metadata": {
        "id": "5jdvymjOC--D",
        "outputId": "f1112a65-cef9-418a-9e01-5b4298fb1c70",
        "colab": {
          "base_uri": "https://localhost:8080/"
        }
      },
      "outputs": [
        {
          "output_type": "stream",
          "name": "stdout",
          "text": [
            "Requirement already satisfied: videodb in /usr/local/lib/python3.10/dist-packages (0.0.2)\n",
            "Requirement already satisfied: requests>=2.25.1 in /usr/local/lib/python3.10/dist-packages (from videodb) (2.31.0)\n",
            "Requirement already satisfied: backoff>=2.2.1 in /usr/local/lib/python3.10/dist-packages (from videodb) (2.2.1)\n",
            "Requirement already satisfied: charset-normalizer<4,>=2 in /usr/local/lib/python3.10/dist-packages (from requests>=2.25.1->videodb) (3.3.2)\n",
            "Requirement already satisfied: idna<4,>=2.5 in /usr/local/lib/python3.10/dist-packages (from requests>=2.25.1->videodb) (3.6)\n",
            "Requirement already satisfied: urllib3<3,>=1.21.1 in /usr/local/lib/python3.10/dist-packages (from requests>=2.25.1->videodb) (2.0.7)\n",
            "Requirement already satisfied: certifi>=2017.4.17 in /usr/local/lib/python3.10/dist-packages (from requests>=2.25.1->videodb) (2023.11.17)\n"
          ]
        }
      ],
      "source": [
        "!pip install videodb"
      ]
    },
    {
      "cell_type": "markdown",
      "metadata": {
        "id": "okLmkyuJC--D"
      },
      "source": [
        "##### 🔗 Setting Up a connection to db\n",
        "To connect to VideoDB, simply create a `Connection` object.\n",
        "\n",
        "This can be done by either providing your VideoDB API key directly to the constructor or by setting the `VIDEO_DB_API_KEY` environment variable with your API key.\n",
        "\n",
        ">💡\n",
        ">Get your API key from [VideoDB Console](https://console.videodb.io). ( Free for first 50 uploads, No credit card required ) 🎉."
      ]
    },
    {
      "cell_type": "code",
      "execution_count": 72,
      "metadata": {
        "id": "__mkfO39C--D"
      },
      "outputs": [],
      "source": [
        "# @title Link to VDB console { display-mode: \"form\" }\n",
        "from videodb import connect, play_stream\n",
        "conn = connect(api_key=\"sk-fx6nfF16RECg6wnVDhue_Ce24Qz1xK53wlFaanUnGIY\")"
      ]
    },
    {
      "cell_type": "markdown",
      "metadata": {
        "id": "KUajZdmOC--D"
      },
      "source": [
        "<div style=\"height:40px;\"></div>\n",
        "\n",
        "### Working with a single Video\n",
        "---"
      ]
    },
    {
      "cell_type": "markdown",
      "metadata": {
        "id": "7FHImiILC--D"
      },
      "source": [
        "<div style=\"height:10px;\"></div>\n",
        "\n",
        "##### ⬆️ Uploading a video\n",
        "Now that you have established a connection to VideoDB, you can now upload your videos using `conn.upload()`.\n",
        "\n",
        "You can upload your media by a `url` or from your `local file system`\n",
        "\n",
        "`upload` returns a `Video` Object, which can be used to access video"
      ]
    },
    {
      "cell_type": "code",
      "execution_count": 73,
      "metadata": {
        "id": "cHV6wYuIC--D"
      },
      "outputs": [],
      "source": [
        "#Upload a video by url\n",
        "video = conn.upload (file_path=\"./YoheiTED.mp4\")"
      ]
    },
    {
      "cell_type": "markdown",
      "metadata": {
        "id": "9EFDeWKNC--E"
      },
      "source": [
        "<div style=\"background-color: #ffffcc; color: black; padding: 10px; border-radius: 5px;\">\n",
        "VideoDB simplifies your upload by supporting links from Youtube, S3 or any Public URL with video\n",
        "\n",
        "\n",
        "> Doubt: how do I upload a local file?\n",
        "\n",
        "\n",
        "</div>"
      ]
    },
    {
      "cell_type": "markdown",
      "metadata": {
        "id": "I17mEZQTC--E"
      },
      "source": [
        "<div style=\"height:15px;\"></div>\n",
        "\n",
        "##### 📺 Viewing your video\n",
        "\n",
        "Your video is instantly available for viewing 720p resolution ⚡️\n",
        "\n",
        "* Generate a streamable url for video using `video.generate_stream()`\n",
        "* Preview the video using Video.play(). This will open the video in your default browser/notebook.\n",
        "\n",
        "<div style=\"background-color: #ffffcc; color: black; padding: 10px; border-radius: 5px;\">\n",
        "    <strong>Note:</strong>if you are viewing this notebook on github, you won't be able to see iframe player, because of security restrictions. <br>\n",
        "    Please open the printed link of player in your browser</div>\n"
      ]
    },
    {
      "cell_type": "code",
      "execution_count": 74,
      "metadata": {
        "id": "bz9f2qV4C--E",
        "outputId": "b4f48b42-4e5e-44e7-cfdd-62b976644023",
        "colab": {
          "base_uri": "https://localhost:8080/",
          "height": 421
        }
      },
      "outputs": [
        {
          "output_type": "execute_result",
          "data": {
            "text/plain": [
              "<IPython.lib.display.IFrame at 0x79cb58b01e10>"
            ],
            "text/html": [
              "\n",
              "        <iframe\n",
              "            width=\"800\"\n",
              "            height=\"400\"\n",
              "            src=\"https://console.videodb.io/player?url=https://stream.videodb.io/v3/published/manifests/79612ddf-dfed-4dc6-a2e5-4bf133c54b51.m3u8\"\n",
              "            frameborder=\"0\"\n",
              "            allowfullscreen\n",
              "            \n",
              "        ></iframe>\n",
              "        "
            ]
          },
          "metadata": {},
          "execution_count": 74
        }
      ],
      "source": [
        "video.generate_stream()\n",
        "video.play()"
      ]
    },
    {
      "cell_type": "markdown",
      "metadata": {
        "id": "95SWeAPNC--E"
      },
      "source": [
        "##### ✂️ Get Specific Sections of videos\n",
        "\n",
        "You can easily clip specific sections of a video by passing timeline  of start and end sections. It accepts seconds.   \n",
        "For example Here’s we are streaming only first 10 seconds and then 120 to 140 second of uploaded video"
      ]
    },
    {
      "cell_type": "code",
      "execution_count": 75,
      "metadata": {
        "id": "znylMZeBC--E",
        "outputId": "ad02c40e-e613-4231-f222-70d6c212df5d",
        "colab": {
          "base_uri": "https://localhost:8080/",
          "height": 421
        }
      },
      "outputs": [
        {
          "output_type": "execute_result",
          "data": {
            "text/plain": [
              "<IPython.lib.display.IFrame at 0x79cb58b03fd0>"
            ],
            "text/html": [
              "\n",
              "        <iframe\n",
              "            width=\"800\"\n",
              "            height=\"400\"\n",
              "            src=\"https://console.videodb.io/player?url=https://stream.videodb.io/v3/published/manifests/85f75d79-5192-4237-854c-a3864eb08691.m3u8\"\n",
              "            frameborder=\"0\"\n",
              "            allowfullscreen\n",
              "            \n",
              "        ></iframe>\n",
              "        "
            ]
          },
          "metadata": {},
          "execution_count": 75
        }
      ],
      "source": [
        "stream_link = video.generate_stream(timeline=[[0,5], [45,25], [20,30]])\n",
        "play_stream(stream_link)"
      ]
    },
    {
      "cell_type": "markdown",
      "source": [
        "\n",
        "\n",
        "> Doubt: I noticed that the streaming doesn't happen if the sec int inside the tuple isn't in the right order [45,25] in this case; should cases like this be mentioned in the notebook/ returned as an error?\n",
        "\n"
      ],
      "metadata": {
        "id": "-Lntas7jGgiF"
      }
    },
    {
      "cell_type": "markdown",
      "metadata": {
        "id": "lQVekhXCC--E"
      },
      "source": [
        "<div style=\"height:15px;\"></div>\n",
        "\n",
        "##### 🔍 Searching inside a video\n",
        "To search bits inside a video — you  have to index the video first. This can be done by a simple command.\n",
        "`video.index_spoken_words()`\n",
        "\n",
        "<div style=\"background-color: #ffffcc; color: black; padding: 10px; border-radius: 5px;\">\n",
        "    <strong>Note:</strong>Index may take time for longer videos</div>"
      ]
    },
    {
      "cell_type": "code",
      "execution_count": 85,
      "metadata": {
        "id": "gpXFzuwIC--E",
        "colab": {
          "base_uri": "https://localhost:8080/",
          "height": 328
        },
        "outputId": "41ea57a0-d8d6-4813-98cd-71326c1efb1b"
      },
      "outputs": [
        {
          "output_type": "error",
          "ename": "InvalidRequestError",
          "evalue": "Invalid request: semantic index for video already exists ",
          "traceback": [
            "\u001b[0;31m---------------------------------------------------------------------------\u001b[0m",
            "\u001b[0;31mInvalidRequestError\u001b[0m                       Traceback (most recent call last)",
            "\u001b[0;32m<ipython-input-85-04a60c410c8d>\u001b[0m in \u001b[0;36m<cell line: 1>\u001b[0;34m()\u001b[0m\n\u001b[0;32m----> 1\u001b[0;31m \u001b[0mvideo\u001b[0m\u001b[0;34m.\u001b[0m\u001b[0mindex_spoken_words\u001b[0m\u001b[0;34m(\u001b[0m\u001b[0;34m)\u001b[0m\u001b[0;34m\u001b[0m\u001b[0;34m\u001b[0m\u001b[0m\n\u001b[0m",
            "\u001b[0;32m/usr/local/lib/python3.10/dist-packages/videodb/video.py\u001b[0m in \u001b[0;36mindex_spoken_words\u001b[0;34m(self)\u001b[0m\n\u001b[1;32m    122\u001b[0m         \"\"\"\n\u001b[1;32m    123\u001b[0m         \u001b[0mself\u001b[0m\u001b[0;34m.\u001b[0m\u001b[0m_fetch_transcript\u001b[0m\u001b[0;34m(\u001b[0m\u001b[0;34m)\u001b[0m\u001b[0;34m\u001b[0m\u001b[0;34m\u001b[0m\u001b[0m\n\u001b[0;32m--> 124\u001b[0;31m         self._connection.post(\n\u001b[0m\u001b[1;32m    125\u001b[0m             \u001b[0mpath\u001b[0m\u001b[0;34m=\u001b[0m\u001b[0;34mf\"{ApiPath.video}/{self.id}/{ApiPath.index}\"\u001b[0m\u001b[0;34m,\u001b[0m\u001b[0;34m\u001b[0m\u001b[0;34m\u001b[0m\u001b[0m\n\u001b[1;32m    126\u001b[0m             data={\n",
            "\u001b[0;32m/usr/local/lib/python3.10/dist-packages/videodb/_utils/_http_client.py\u001b[0m in \u001b[0;36mpost\u001b[0;34m(self, path, data, **kwargs)\u001b[0m\n\u001b[1;32m    175\u001b[0m     \u001b[0;32mdef\u001b[0m \u001b[0mpost\u001b[0m\u001b[0;34m(\u001b[0m\u001b[0mself\u001b[0m\u001b[0;34m,\u001b[0m \u001b[0mpath\u001b[0m\u001b[0;34m:\u001b[0m \u001b[0mstr\u001b[0m\u001b[0;34m,\u001b[0m \u001b[0mdata\u001b[0m\u001b[0;34m=\u001b[0m\u001b[0;32mNone\u001b[0m\u001b[0;34m,\u001b[0m \u001b[0;34m**\u001b[0m\u001b[0mkwargs\u001b[0m\u001b[0;34m)\u001b[0m \u001b[0;34m->\u001b[0m \u001b[0mrequests\u001b[0m\u001b[0;34m.\u001b[0m\u001b[0mResponse\u001b[0m\u001b[0;34m:\u001b[0m\u001b[0;34m\u001b[0m\u001b[0;34m\u001b[0m\u001b[0m\n\u001b[1;32m    176\u001b[0m         \u001b[0;34m\"\"\"Make a post request\"\"\"\u001b[0m\u001b[0;34m\u001b[0m\u001b[0;34m\u001b[0m\u001b[0m\n\u001b[0;32m--> 177\u001b[0;31m         \u001b[0;32mreturn\u001b[0m \u001b[0mself\u001b[0m\u001b[0;34m.\u001b[0m\u001b[0m_make_request\u001b[0m\u001b[0;34m(\u001b[0m\u001b[0mself\u001b[0m\u001b[0;34m.\u001b[0m\u001b[0msession\u001b[0m\u001b[0;34m.\u001b[0m\u001b[0mpost\u001b[0m\u001b[0;34m,\u001b[0m \u001b[0mpath\u001b[0m\u001b[0;34m,\u001b[0m \u001b[0mjson\u001b[0m\u001b[0;34m=\u001b[0m\u001b[0mdata\u001b[0m\u001b[0;34m,\u001b[0m \u001b[0;34m**\u001b[0m\u001b[0mkwargs\u001b[0m\u001b[0;34m)\u001b[0m\u001b[0;34m\u001b[0m\u001b[0;34m\u001b[0m\u001b[0m\n\u001b[0m\u001b[1;32m    178\u001b[0m \u001b[0;34m\u001b[0m\u001b[0m\n\u001b[1;32m    179\u001b[0m     \u001b[0;32mdef\u001b[0m \u001b[0mput\u001b[0m\u001b[0;34m(\u001b[0m\u001b[0mself\u001b[0m\u001b[0;34m,\u001b[0m \u001b[0mpath\u001b[0m\u001b[0;34m:\u001b[0m \u001b[0mstr\u001b[0m\u001b[0;34m,\u001b[0m \u001b[0mdata\u001b[0m\u001b[0;34m=\u001b[0m\u001b[0;32mNone\u001b[0m\u001b[0;34m,\u001b[0m \u001b[0;34m**\u001b[0m\u001b[0mkwargs\u001b[0m\u001b[0;34m)\u001b[0m \u001b[0;34m->\u001b[0m \u001b[0mrequests\u001b[0m\u001b[0;34m.\u001b[0m\u001b[0mResponse\u001b[0m\u001b[0;34m:\u001b[0m\u001b[0;34m\u001b[0m\u001b[0;34m\u001b[0m\u001b[0m\n",
            "\u001b[0;32m/usr/local/lib/python3.10/dist-packages/videodb/_utils/_http_client.py\u001b[0m in \u001b[0;36m_make_request\u001b[0;34m(self, method, path, base_url, headers, **kwargs)\u001b[0m\n\u001b[1;32m     78\u001b[0m             \u001b[0mresponse\u001b[0m \u001b[0;34m=\u001b[0m \u001b[0mmethod\u001b[0m\u001b[0;34m(\u001b[0m\u001b[0murl\u001b[0m\u001b[0;34m,\u001b[0m \u001b[0mheaders\u001b[0m\u001b[0;34m=\u001b[0m\u001b[0mrequest_headers\u001b[0m\u001b[0;34m,\u001b[0m \u001b[0mtimeout\u001b[0m\u001b[0;34m=\u001b[0m\u001b[0mtimeout\u001b[0m\u001b[0;34m,\u001b[0m \u001b[0;34m**\u001b[0m\u001b[0mkwargs\u001b[0m\u001b[0;34m)\u001b[0m\u001b[0;34m\u001b[0m\u001b[0;34m\u001b[0m\u001b[0m\n\u001b[1;32m     79\u001b[0m             \u001b[0mresponse\u001b[0m\u001b[0;34m.\u001b[0m\u001b[0mraise_for_status\u001b[0m\u001b[0;34m(\u001b[0m\u001b[0;34m)\u001b[0m\u001b[0;34m\u001b[0m\u001b[0;34m\u001b[0m\u001b[0m\n\u001b[0;32m---> 80\u001b[0;31m             \u001b[0;32mreturn\u001b[0m \u001b[0mself\u001b[0m\u001b[0;34m.\u001b[0m\u001b[0m_parse_response\u001b[0m\u001b[0;34m(\u001b[0m\u001b[0mresponse\u001b[0m\u001b[0;34m)\u001b[0m\u001b[0;34m\u001b[0m\u001b[0;34m\u001b[0m\u001b[0m\n\u001b[0m\u001b[1;32m     81\u001b[0m \u001b[0;34m\u001b[0m\u001b[0m\n\u001b[1;32m     82\u001b[0m         \u001b[0;32mexcept\u001b[0m \u001b[0mrequests\u001b[0m\u001b[0;34m.\u001b[0m\u001b[0mexceptions\u001b[0m\u001b[0;34m.\u001b[0m\u001b[0mRequestException\u001b[0m \u001b[0;32mas\u001b[0m \u001b[0me\u001b[0m\u001b[0;34m:\u001b[0m\u001b[0;34m\u001b[0m\u001b[0;34m\u001b[0m\u001b[0m\n",
            "\u001b[0;32m/usr/local/lib/python3.10/dist-packages/videodb/_utils/_http_client.py\u001b[0m in \u001b[0;36m_parse_response\u001b[0;34m(self, response)\u001b[0m\n\u001b[1;32m    160\u001b[0m \u001b[0;34m\u001b[0m\u001b[0m\n\u001b[1;32m    161\u001b[0m             \u001b[0;32melse\u001b[0m\u001b[0;34m:\u001b[0m\u001b[0;34m\u001b[0m\u001b[0;34m\u001b[0m\u001b[0m\n\u001b[0;32m--> 162\u001b[0;31m                 raise InvalidRequestError(\n\u001b[0m\u001b[1;32m    163\u001b[0m                     \u001b[0;34mf\"Invalid request: {response_json.get('message')}\"\u001b[0m\u001b[0;34m,\u001b[0m \u001b[0mresponse\u001b[0m\u001b[0;34m\u001b[0m\u001b[0;34m\u001b[0m\u001b[0m\n\u001b[1;32m    164\u001b[0m                 ) from None\n",
            "\u001b[0;31mInvalidRequestError\u001b[0m: Invalid request: semantic index for video already exists "
          ]
        }
      ],
      "source": [
        "video.index_spoken_words()"
      ]
    },
    {
      "cell_type": "code",
      "source": [
        "#Accessing transcript\n",
        "# words with timestamps\n",
        "text_json = video.get_transcript()\n",
        "text = video.get_transcript_text()\n",
        "print (text)"
      ],
      "metadata": {
        "colab": {
          "base_uri": "https://localhost:8080/",
          "height": 214
        },
        "id": "Q49YvJ5EN_jF",
        "outputId": "d2542b8d-f95c-424b-ab7e-a094de899257"
      },
      "execution_count": 86,
      "outputs": [
        {
          "output_type": "error",
          "ename": "TypeError",
          "evalue": "'list' object is not callable",
          "traceback": [
            "\u001b[0;31m---------------------------------------------------------------------------\u001b[0m",
            "\u001b[0;31mTypeError\u001b[0m                                 Traceback (most recent call last)",
            "\u001b[0;32m<ipython-input-86-c8998c16e1e6>\u001b[0m in \u001b[0;36m<cell line: 5>\u001b[0;34m()\u001b[0m\n\u001b[1;32m      3\u001b[0m \u001b[0mtext_json\u001b[0m \u001b[0;34m=\u001b[0m \u001b[0mvideo\u001b[0m\u001b[0;34m.\u001b[0m\u001b[0mget_transcript\u001b[0m\u001b[0;34m(\u001b[0m\u001b[0;34m)\u001b[0m\u001b[0;34m\u001b[0m\u001b[0;34m\u001b[0m\u001b[0m\n\u001b[1;32m      4\u001b[0m \u001b[0mtext\u001b[0m \u001b[0;34m=\u001b[0m \u001b[0mvideo\u001b[0m\u001b[0;34m.\u001b[0m\u001b[0mget_transcript_text\u001b[0m\u001b[0;34m(\u001b[0m\u001b[0;34m)\u001b[0m\u001b[0;34m\u001b[0m\u001b[0;34m\u001b[0m\u001b[0m\n\u001b[0;32m----> 5\u001b[0;31m \u001b[0mprint\u001b[0m \u001b[0;34m(\u001b[0m\u001b[0mtext\u001b[0m\u001b[0;34m)\u001b[0m\u001b[0;34m\u001b[0m\u001b[0;34m\u001b[0m\u001b[0m\n\u001b[0m",
            "\u001b[0;31mTypeError\u001b[0m: 'list' object is not callable"
          ]
        }
      ]
    },
    {
      "cell_type": "markdown",
      "metadata": {
        "id": "irJi6WgyC--E"
      },
      "source": [
        "**Searching inside video**:  \n",
        "  \n",
        "Search can peformed on indexed video using `video.search()`"
      ]
    },
    {
      "cell_type": "code",
      "execution_count": 87,
      "metadata": {
        "colab": {
          "base_uri": "https://localhost:8080/",
          "height": 363
        },
        "id": "a1nRgKq8C--E",
        "outputId": "80d28ff6-c9dc-4e4e-c3ba-b0827b40775c"
      },
      "outputs": [
        {
          "output_type": "error",
          "ename": "SearchError",
          "evalue": "No shots found in search results to compile ",
          "traceback": [
            "\u001b[0;31m---------------------------------------------------------------------------\u001b[0m",
            "\u001b[0;31mSearchError\u001b[0m                               Traceback (most recent call last)",
            "\u001b[0;32m<ipython-input-87-ec07126f53c7>\u001b[0m in \u001b[0;36m<cell line: 3>\u001b[0;34m()\u001b[0m\n\u001b[1;32m      1\u001b[0m \u001b[0;31m#Irrelevant search\u001b[0m\u001b[0;34m\u001b[0m\u001b[0;34m\u001b[0m\u001b[0m\n\u001b[1;32m      2\u001b[0m \u001b[0mresult\u001b[0m \u001b[0;34m=\u001b[0m \u001b[0mvideo\u001b[0m\u001b[0;34m.\u001b[0m\u001b[0msearch\u001b[0m\u001b[0;34m(\u001b[0m\u001b[0;34m\"How to control sugar cravings?\"\u001b[0m\u001b[0;34m)\u001b[0m\u001b[0;34m\u001b[0m\u001b[0;34m\u001b[0m\u001b[0m\n\u001b[0;32m----> 3\u001b[0;31m \u001b[0mresult\u001b[0m\u001b[0;34m.\u001b[0m\u001b[0mplay\u001b[0m\u001b[0;34m(\u001b[0m\u001b[0;34m)\u001b[0m\u001b[0;34m\u001b[0m\u001b[0;34m\u001b[0m\u001b[0m\n\u001b[0m",
            "\u001b[0;32m/usr/local/lib/python3.10/dist-packages/videodb/search.py\u001b[0m in \u001b[0;36mplay\u001b[0;34m(self)\u001b[0m\n\u001b[1;32m     86\u001b[0m         \u001b[0;34m:\u001b[0m\u001b[0mrtype\u001b[0m\u001b[0;34m:\u001b[0m \u001b[0mstr\u001b[0m\u001b[0;34m\u001b[0m\u001b[0;34m\u001b[0m\u001b[0m\n\u001b[1;32m     87\u001b[0m         \"\"\"\n\u001b[0;32m---> 88\u001b[0;31m         \u001b[0mself\u001b[0m\u001b[0;34m.\u001b[0m\u001b[0mcompile\u001b[0m\u001b[0;34m(\u001b[0m\u001b[0;34m)\u001b[0m\u001b[0;34m\u001b[0m\u001b[0;34m\u001b[0m\u001b[0m\n\u001b[0m\u001b[1;32m     89\u001b[0m         \u001b[0;32mreturn\u001b[0m \u001b[0mplay_stream\u001b[0m\u001b[0;34m(\u001b[0m\u001b[0mself\u001b[0m\u001b[0;34m.\u001b[0m\u001b[0mstream_url\u001b[0m\u001b[0;34m)\u001b[0m\u001b[0;34m\u001b[0m\u001b[0;34m\u001b[0m\u001b[0m\n\u001b[1;32m     90\u001b[0m \u001b[0;34m\u001b[0m\u001b[0m\n",
            "\u001b[0;32m/usr/local/lib/python3.10/dist-packages/videodb/search.py\u001b[0m in \u001b[0;36mcompile\u001b[0;34m(self)\u001b[0m\n\u001b[1;32m     78\u001b[0m \u001b[0;34m\u001b[0m\u001b[0m\n\u001b[1;32m     79\u001b[0m         \u001b[0;32melse\u001b[0m\u001b[0;34m:\u001b[0m\u001b[0;34m\u001b[0m\u001b[0;34m\u001b[0m\u001b[0m\n\u001b[0;32m---> 80\u001b[0;31m             \u001b[0;32mraise\u001b[0m \u001b[0mSearchError\u001b[0m\u001b[0;34m(\u001b[0m\u001b[0;34m\"No shots found in search results to compile\"\u001b[0m\u001b[0;34m)\u001b[0m\u001b[0;34m\u001b[0m\u001b[0;34m\u001b[0m\u001b[0m\n\u001b[0m\u001b[1;32m     81\u001b[0m \u001b[0;34m\u001b[0m\u001b[0m\n\u001b[1;32m     82\u001b[0m     \u001b[0;32mdef\u001b[0m \u001b[0mplay\u001b[0m\u001b[0;34m(\u001b[0m\u001b[0mself\u001b[0m\u001b[0;34m)\u001b[0m \u001b[0;34m->\u001b[0m \u001b[0mstr\u001b[0m\u001b[0;34m:\u001b[0m\u001b[0;34m\u001b[0m\u001b[0;34m\u001b[0m\u001b[0m\n",
            "\u001b[0;31mSearchError\u001b[0m: No shots found in search results to compile "
          ]
        }
      ],
      "source": [
        "#Irrelevant search\n",
        "result = video.search(\"How to control sugar cravings?\")\n",
        "result.play()"
      ]
    },
    {
      "cell_type": "code",
      "source": [
        "#Exact match (in transcript)\n",
        "result = video.search(\"father of Baby AGI\")\n",
        "result.play()"
      ],
      "metadata": {
        "id": "GfCBbolXJ4vW",
        "colab": {
          "base_uri": "https://localhost:8080/",
          "height": 421
        },
        "outputId": "dc084893-324d-4b50-d6df-0f1ca504e0f3"
      },
      "execution_count": 88,
      "outputs": [
        {
          "output_type": "execute_result",
          "data": {
            "text/plain": [
              "<IPython.lib.display.IFrame at 0x79cb2b7710c0>"
            ],
            "text/html": [
              "\n",
              "        <iframe\n",
              "            width=\"800\"\n",
              "            height=\"400\"\n",
              "            src=\"https://console.videodb.io/player?url=https://stream.videodb.io/v3/published/manifests/47dffb4a-f911-4db8-ae67-ccd1da773087.m3u8\"\n",
              "            frameborder=\"0\"\n",
              "            allowfullscreen\n",
              "            \n",
              "        ></iframe>\n",
              "        "
            ]
          },
          "metadata": {},
          "execution_count": 88
        }
      ]
    },
    {
      "cell_type": "code",
      "source": [
        "#List of matching shots\n",
        "result.get_shots()"
      ],
      "metadata": {
        "colab": {
          "base_uri": "https://localhost:8080/"
        },
        "id": "trfnNMKDPiiN",
        "outputId": "19901f7b-c565-4ed7-c649-c52e3bc38463"
      },
      "execution_count": 89,
      "outputs": [
        {
          "output_type": "execute_result",
          "data": {
            "text/plain": [
              "[Shot(video_id=m-7a68a71c-a747-41d8-ba0e-80bf06e6767b, video_title=YoheiTED, start=82.5, end=165.2, text= I kept coming back inside the area of identity cvvhd I was a weekend project that unexpectedly went viral. The quick back story is actually challenged myself to build a autonomous startup founder. And when I shared a video online people with loud asking if you could do more which I could My friend Jenny commented bro. Did you just filled baby AGI? Which is where the name came from relevantly the development of baby. ATI tell has been weird the introspective. I'm trying to get it to do all my work. So a lot of the ideation is watching it do things thinking about how I do it better and trying to close the gap. I often joke about replacing myself at work with a guy someday, but I'm pretty sure I'm not joking. I have an experimental chatbot called Mineo hate that startup Founders can talk to you and it sends me some reason it's conversation is is Mineo an extension of who I am. You see my conversations worth having so let's talk about identity and we shall start at the beginning and the beginning of all life that were single cell organisms, which became multiple cell organisms in the cell started to specialized some cells work. Light and converting it to energy somewhere this summer for the restoring it and some are better at using it to the pail. And as he's organisms became more complex. They self organized into complex intertwined groups of cells in subgroups within this pattern is common baby a g., search_score=0.368637949, stream_url=None, player_url=None)]"
            ]
          },
          "metadata": {},
          "execution_count": 89
        }
      ]
    },
    {
      "cell_type": "code",
      "execution_count": 90,
      "metadata": {
        "outputId": "8f73b20c-05da-4ee4-e9b7-a3464b647968",
        "colab": {
          "base_uri": "https://localhost:8080/",
          "height": 363
        },
        "id": "ZAKg3GNuJ5O7"
      },
      "outputs": [
        {
          "output_type": "error",
          "ename": "SearchError",
          "evalue": "No shots found in search results to compile ",
          "traceback": [
            "\u001b[0;31m---------------------------------------------------------------------------\u001b[0m",
            "\u001b[0;31mSearchError\u001b[0m                               Traceback (most recent call last)",
            "\u001b[0;32m<ipython-input-90-9b104abba922>\u001b[0m in \u001b[0;36m<cell line: 3>\u001b[0;34m()\u001b[0m\n\u001b[1;32m      1\u001b[0m \u001b[0;31m#Contextual search (not exact match)\u001b[0m\u001b[0;34m\u001b[0m\u001b[0;34m\u001b[0m\u001b[0m\n\u001b[1;32m      2\u001b[0m \u001b[0mresult\u001b[0m \u001b[0;34m=\u001b[0m \u001b[0mvideo\u001b[0m\u001b[0;34m.\u001b[0m\u001b[0msearch\u001b[0m\u001b[0;34m(\u001b[0m\u001b[0;34m\"father\"\u001b[0m\u001b[0;34m)\u001b[0m\u001b[0;34m\u001b[0m\u001b[0;34m\u001b[0m\u001b[0m\n\u001b[0;32m----> 3\u001b[0;31m \u001b[0mresult\u001b[0m\u001b[0;34m.\u001b[0m\u001b[0mplay\u001b[0m\u001b[0;34m(\u001b[0m\u001b[0;34m)\u001b[0m\u001b[0;34m\u001b[0m\u001b[0;34m\u001b[0m\u001b[0m\n\u001b[0m",
            "\u001b[0;32m/usr/local/lib/python3.10/dist-packages/videodb/search.py\u001b[0m in \u001b[0;36mplay\u001b[0;34m(self)\u001b[0m\n\u001b[1;32m     86\u001b[0m         \u001b[0;34m:\u001b[0m\u001b[0mrtype\u001b[0m\u001b[0;34m:\u001b[0m \u001b[0mstr\u001b[0m\u001b[0;34m\u001b[0m\u001b[0;34m\u001b[0m\u001b[0m\n\u001b[1;32m     87\u001b[0m         \"\"\"\n\u001b[0;32m---> 88\u001b[0;31m         \u001b[0mself\u001b[0m\u001b[0;34m.\u001b[0m\u001b[0mcompile\u001b[0m\u001b[0;34m(\u001b[0m\u001b[0;34m)\u001b[0m\u001b[0;34m\u001b[0m\u001b[0;34m\u001b[0m\u001b[0m\n\u001b[0m\u001b[1;32m     89\u001b[0m         \u001b[0;32mreturn\u001b[0m \u001b[0mplay_stream\u001b[0m\u001b[0;34m(\u001b[0m\u001b[0mself\u001b[0m\u001b[0;34m.\u001b[0m\u001b[0mstream_url\u001b[0m\u001b[0;34m)\u001b[0m\u001b[0;34m\u001b[0m\u001b[0;34m\u001b[0m\u001b[0m\n\u001b[1;32m     90\u001b[0m \u001b[0;34m\u001b[0m\u001b[0m\n",
            "\u001b[0;32m/usr/local/lib/python3.10/dist-packages/videodb/search.py\u001b[0m in \u001b[0;36mcompile\u001b[0;34m(self)\u001b[0m\n\u001b[1;32m     78\u001b[0m \u001b[0;34m\u001b[0m\u001b[0m\n\u001b[1;32m     79\u001b[0m         \u001b[0;32melse\u001b[0m\u001b[0;34m:\u001b[0m\u001b[0;34m\u001b[0m\u001b[0;34m\u001b[0m\u001b[0m\n\u001b[0;32m---> 80\u001b[0;31m             \u001b[0;32mraise\u001b[0m \u001b[0mSearchError\u001b[0m\u001b[0;34m(\u001b[0m\u001b[0;34m\"No shots found in search results to compile\"\u001b[0m\u001b[0;34m)\u001b[0m\u001b[0;34m\u001b[0m\u001b[0;34m\u001b[0m\u001b[0m\n\u001b[0m\u001b[1;32m     81\u001b[0m \u001b[0;34m\u001b[0m\u001b[0m\n\u001b[1;32m     82\u001b[0m     \u001b[0;32mdef\u001b[0m \u001b[0mplay\u001b[0m\u001b[0;34m(\u001b[0m\u001b[0mself\u001b[0m\u001b[0;34m)\u001b[0m \u001b[0;34m->\u001b[0m \u001b[0mstr\u001b[0m\u001b[0;34m:\u001b[0m\u001b[0;34m\u001b[0m\u001b[0;34m\u001b[0m\u001b[0m\n",
            "\u001b[0;31mSearchError\u001b[0m: No shots found in search results to compile "
          ]
        }
      ],
      "source": [
        "#Contextual search (not exact match)\n",
        "result = video.search(\"father\")\n",
        "result.play()"
      ]
    },
    {
      "cell_type": "code",
      "source": [
        "#List of matching shots\n",
        "result.get_shots()"
      ],
      "metadata": {
        "colab": {
          "base_uri": "https://localhost:8080/"
        },
        "id": "4lafCbssPwuv",
        "outputId": "7e1dda8a-237b-404a-9ebc-3bd947be4d36"
      },
      "execution_count": 91,
      "outputs": [
        {
          "output_type": "execute_result",
          "data": {
            "text/plain": [
              "[]"
            ]
          },
          "metadata": {},
          "execution_count": 91
        }
      ]
    },
    {
      "cell_type": "markdown",
      "source": [
        "\n",
        "> Doubt: \"father\" actually exists in the transcript (check above); but it still doesn't reflect here- is this an error?\n",
        "\n"
      ],
      "metadata": {
        "id": "NwNjnlokP2-9"
      }
    },
    {
      "cell_type": "markdown",
      "metadata": {
        "id": "gPvuor9TC--F"
      },
      "source": [
        "##### 📺 Viewing Search Results :\n",
        "\n",
        "`video.search()` will return a SearchResults object, which contains the sections/shots of videos which semantically match your search query\n",
        "\n",
        "* `result.get_shots()` - Returns a list of Shot that matched search query\n",
        "* `result.play()`  - This will open the video in your default browser/notebook"
      ]
    },
    {
      "cell_type": "code",
      "source": [
        "#List of matching shots\n",
        "result.get_shots()"
      ],
      "metadata": {
        "colab": {
          "base_uri": "https://localhost:8080/"
        },
        "id": "TTnWxfd-PFx1",
        "outputId": "d3e798af-568f-4d69-c98a-eb663d839e6f"
      },
      "execution_count": 92,
      "outputs": [
        {
          "output_type": "execute_result",
          "data": {
            "text/plain": [
              "[]"
            ]
          },
          "metadata": {},
          "execution_count": 92
        }
      ]
    },
    {
      "cell_type": "markdown",
      "source": [
        "\n",
        "> Doubt: with empty parenthesis, does it return results based on the last recall only?\n",
        "\n"
      ],
      "metadata": {
        "id": "4ihPOlk4YT-s"
      }
    },
    {
      "cell_type": "markdown",
      "metadata": {
        "id": "OTIOOhEQC--F"
      },
      "source": [
        "##### 🗑️ Cleanup\n",
        "You can delete the video from database using `video.delete()`"
      ]
    },
    {
      "cell_type": "code",
      "execution_count": 93,
      "metadata": {
        "id": "-UVNCqRyC--F"
      },
      "outputs": [],
      "source": [
        "video.delete()"
      ]
    },
    {
      "cell_type": "markdown",
      "source": [
        "\n",
        "\n",
        "> Doubt: does this happen automatically after every search query? Or do we store the compilation in the database until it's specifically removed?\n",
        "\n"
      ],
      "metadata": {
        "id": "cf38I-9nKlU9"
      }
    },
    {
      "cell_type": "markdown",
      "metadata": {
        "id": "bFeuN2m5C--F"
      },
      "source": [
        "<div style=\"height:40px;\"></div>\n",
        "\n",
        "### RAG: Working with Multiple Videos\n",
        "---\n",
        "`VideoDB` can store and search inside multiple videos with ease.  \n",
        "By default, videos are uploaded to your default collection."
      ]
    },
    {
      "cell_type": "markdown",
      "metadata": {
        "id": "LKBqBzl_C--F"
      },
      "source": [
        "<div style=\"height:15px;\"></div>\n",
        "\n",
        "##### 🔄 Using Collection to upload multiple Videos"
      ]
    },
    {
      "cell_type": "code",
      "execution_count": 94,
      "metadata": {
        "id": "d2J-WkSmC--F",
        "outputId": "374641c2-365d-44cb-8f6c-654a6200220e",
        "colab": {
          "base_uri": "https://localhost:8080/"
        }
      },
      "outputs": [
        {
          "output_type": "execute_result",
          "data": {
            "text/plain": [
              "Video(id=m-f272ee99-880b-46db-a3ed-9f5da5597f28, collection_id=c-96cef505-9356-44db-bb39-9bbbc0d3fd62, stream_url=https://stream.videodb.io/v3/published/manifests/103bd08d-0a7b-4c9a-9872-18d17caf564a.m3u8, player_url=https://console.videodb.io/player?url=https://stream.videodb.io/v3/published/manifests/103bd08d-0a7b-4c9a-9872-18d17caf564a.m3u8, name=YoheiTED, description=None, thumbnail_url=None, length=505.284833)"
            ]
          },
          "metadata": {},
          "execution_count": 94
        }
      ],
      "source": [
        "# Get a collection\n",
        "coll = conn.get_collection()\n",
        "\n",
        "# Upload Videos to a collection\n",
        "coll.upload(url=\"https://www.youtube.com/watch?v=lsODSDmY4CY\")\n",
        "coll.upload(url=\"https://www.youtube.com/watch?v=vZ4kOr38JhY\")\n",
        "coll.upload(url=\"https://www.youtube.com/watch?v=uak_dXHh6s4\")\n",
        "coll.upload(file_path=\"./YoheiTED.mp4\")"
      ]
    },
    {
      "cell_type": "markdown",
      "metadata": {
        "id": "oFJKDTX5C--F"
      },
      "source": [
        "* `conn.get_collection()` : Returns Collection object, the default collection\n",
        "* `coll.get_videos()` : Returns list of Video, all videos in collections\n",
        "* `coll.get_video(video_id)` : Returns Video, respective video object from given video_id\n",
        "* `coll.delete_video(video_id)` : Deletes the video from Collection"
      ]
    },
    {
      "cell_type": "markdown",
      "metadata": {
        "id": "jexBJQyAC--F"
      },
      "source": [
        "<div style=\"height:15px;\"></div>\n",
        "\n",
        "##### 📂 Search on Multiple Videos from a collection\n",
        "\n",
        "You can simply Index all the videos in a collection and use search method on collection to find relevant results.   \n",
        "Here we are indexing spoken content of a collection and searching\n",
        "\n",
        "<div style=\"background-color: #ffffcc; color: black; padding: 10px; border-radius: 5px;\">\n",
        "    <strong>Note:</strong>Index may take time for longer videos</div>"
      ]
    },
    {
      "cell_type": "code",
      "execution_count": 95,
      "metadata": {
        "id": "ujfN_Fb-C--F",
        "outputId": "e32c7847-7a51-4b09-9fc8-321fa17a2361",
        "colab": {
          "base_uri": "https://localhost:8080/",
          "height": 363
        }
      },
      "outputs": [
        {
          "output_type": "error",
          "ename": "InvalidRequestError",
          "evalue": "Invalid request: semantic index for video already exists ",
          "traceback": [
            "\u001b[0;31m---------------------------------------------------------------------------\u001b[0m",
            "\u001b[0;31mInvalidRequestError\u001b[0m                       Traceback (most recent call last)",
            "\u001b[0;32m<ipython-input-95-270ea5166b71>\u001b[0m in \u001b[0;36m<cell line: 1>\u001b[0;34m()\u001b[0m\n\u001b[1;32m      1\u001b[0m \u001b[0;32mfor\u001b[0m \u001b[0mvideo\u001b[0m \u001b[0;32min\u001b[0m \u001b[0mcoll\u001b[0m\u001b[0;34m.\u001b[0m\u001b[0mget_videos\u001b[0m\u001b[0;34m(\u001b[0m\u001b[0;34m)\u001b[0m\u001b[0;34m:\u001b[0m\u001b[0;34m\u001b[0m\u001b[0;34m\u001b[0m\u001b[0m\n\u001b[0;32m----> 2\u001b[0;31m     \u001b[0mvideo\u001b[0m\u001b[0;34m.\u001b[0m\u001b[0mindex_spoken_words\u001b[0m\u001b[0;34m(\u001b[0m\u001b[0;34m)\u001b[0m\u001b[0;34m\u001b[0m\u001b[0;34m\u001b[0m\u001b[0m\n\u001b[0m\u001b[1;32m      3\u001b[0m     \u001b[0mprint\u001b[0m\u001b[0;34m(\u001b[0m\u001b[0;34mf\"Indexed {video.name}\"\u001b[0m\u001b[0;34m)\u001b[0m\u001b[0;34m\u001b[0m\u001b[0;34m\u001b[0m\u001b[0m\n",
            "\u001b[0;32m/usr/local/lib/python3.10/dist-packages/videodb/video.py\u001b[0m in \u001b[0;36mindex_spoken_words\u001b[0;34m(self)\u001b[0m\n\u001b[1;32m    122\u001b[0m         \"\"\"\n\u001b[1;32m    123\u001b[0m         \u001b[0mself\u001b[0m\u001b[0;34m.\u001b[0m\u001b[0m_fetch_transcript\u001b[0m\u001b[0;34m(\u001b[0m\u001b[0;34m)\u001b[0m\u001b[0;34m\u001b[0m\u001b[0;34m\u001b[0m\u001b[0m\n\u001b[0;32m--> 124\u001b[0;31m         self._connection.post(\n\u001b[0m\u001b[1;32m    125\u001b[0m             \u001b[0mpath\u001b[0m\u001b[0;34m=\u001b[0m\u001b[0;34mf\"{ApiPath.video}/{self.id}/{ApiPath.index}\"\u001b[0m\u001b[0;34m,\u001b[0m\u001b[0;34m\u001b[0m\u001b[0;34m\u001b[0m\u001b[0m\n\u001b[1;32m    126\u001b[0m             data={\n",
            "\u001b[0;32m/usr/local/lib/python3.10/dist-packages/videodb/_utils/_http_client.py\u001b[0m in \u001b[0;36mpost\u001b[0;34m(self, path, data, **kwargs)\u001b[0m\n\u001b[1;32m    175\u001b[0m     \u001b[0;32mdef\u001b[0m \u001b[0mpost\u001b[0m\u001b[0;34m(\u001b[0m\u001b[0mself\u001b[0m\u001b[0;34m,\u001b[0m \u001b[0mpath\u001b[0m\u001b[0;34m:\u001b[0m \u001b[0mstr\u001b[0m\u001b[0;34m,\u001b[0m \u001b[0mdata\u001b[0m\u001b[0;34m=\u001b[0m\u001b[0;32mNone\u001b[0m\u001b[0;34m,\u001b[0m \u001b[0;34m**\u001b[0m\u001b[0mkwargs\u001b[0m\u001b[0;34m)\u001b[0m \u001b[0;34m->\u001b[0m \u001b[0mrequests\u001b[0m\u001b[0;34m.\u001b[0m\u001b[0mResponse\u001b[0m\u001b[0;34m:\u001b[0m\u001b[0;34m\u001b[0m\u001b[0;34m\u001b[0m\u001b[0m\n\u001b[1;32m    176\u001b[0m         \u001b[0;34m\"\"\"Make a post request\"\"\"\u001b[0m\u001b[0;34m\u001b[0m\u001b[0;34m\u001b[0m\u001b[0m\n\u001b[0;32m--> 177\u001b[0;31m         \u001b[0;32mreturn\u001b[0m \u001b[0mself\u001b[0m\u001b[0;34m.\u001b[0m\u001b[0m_make_request\u001b[0m\u001b[0;34m(\u001b[0m\u001b[0mself\u001b[0m\u001b[0;34m.\u001b[0m\u001b[0msession\u001b[0m\u001b[0;34m.\u001b[0m\u001b[0mpost\u001b[0m\u001b[0;34m,\u001b[0m \u001b[0mpath\u001b[0m\u001b[0;34m,\u001b[0m \u001b[0mjson\u001b[0m\u001b[0;34m=\u001b[0m\u001b[0mdata\u001b[0m\u001b[0;34m,\u001b[0m \u001b[0;34m**\u001b[0m\u001b[0mkwargs\u001b[0m\u001b[0;34m)\u001b[0m\u001b[0;34m\u001b[0m\u001b[0;34m\u001b[0m\u001b[0m\n\u001b[0m\u001b[1;32m    178\u001b[0m \u001b[0;34m\u001b[0m\u001b[0m\n\u001b[1;32m    179\u001b[0m     \u001b[0;32mdef\u001b[0m \u001b[0mput\u001b[0m\u001b[0;34m(\u001b[0m\u001b[0mself\u001b[0m\u001b[0;34m,\u001b[0m \u001b[0mpath\u001b[0m\u001b[0;34m:\u001b[0m \u001b[0mstr\u001b[0m\u001b[0;34m,\u001b[0m \u001b[0mdata\u001b[0m\u001b[0;34m=\u001b[0m\u001b[0;32mNone\u001b[0m\u001b[0;34m,\u001b[0m \u001b[0;34m**\u001b[0m\u001b[0mkwargs\u001b[0m\u001b[0;34m)\u001b[0m \u001b[0;34m->\u001b[0m \u001b[0mrequests\u001b[0m\u001b[0;34m.\u001b[0m\u001b[0mResponse\u001b[0m\u001b[0;34m:\u001b[0m\u001b[0;34m\u001b[0m\u001b[0;34m\u001b[0m\u001b[0m\n",
            "\u001b[0;32m/usr/local/lib/python3.10/dist-packages/videodb/_utils/_http_client.py\u001b[0m in \u001b[0;36m_make_request\u001b[0;34m(self, method, path, base_url, headers, **kwargs)\u001b[0m\n\u001b[1;32m     78\u001b[0m             \u001b[0mresponse\u001b[0m \u001b[0;34m=\u001b[0m \u001b[0mmethod\u001b[0m\u001b[0;34m(\u001b[0m\u001b[0murl\u001b[0m\u001b[0;34m,\u001b[0m \u001b[0mheaders\u001b[0m\u001b[0;34m=\u001b[0m\u001b[0mrequest_headers\u001b[0m\u001b[0;34m,\u001b[0m \u001b[0mtimeout\u001b[0m\u001b[0;34m=\u001b[0m\u001b[0mtimeout\u001b[0m\u001b[0;34m,\u001b[0m \u001b[0;34m**\u001b[0m\u001b[0mkwargs\u001b[0m\u001b[0;34m)\u001b[0m\u001b[0;34m\u001b[0m\u001b[0;34m\u001b[0m\u001b[0m\n\u001b[1;32m     79\u001b[0m             \u001b[0mresponse\u001b[0m\u001b[0;34m.\u001b[0m\u001b[0mraise_for_status\u001b[0m\u001b[0;34m(\u001b[0m\u001b[0;34m)\u001b[0m\u001b[0;34m\u001b[0m\u001b[0;34m\u001b[0m\u001b[0m\n\u001b[0;32m---> 80\u001b[0;31m             \u001b[0;32mreturn\u001b[0m \u001b[0mself\u001b[0m\u001b[0;34m.\u001b[0m\u001b[0m_parse_response\u001b[0m\u001b[0;34m(\u001b[0m\u001b[0mresponse\u001b[0m\u001b[0;34m)\u001b[0m\u001b[0;34m\u001b[0m\u001b[0;34m\u001b[0m\u001b[0m\n\u001b[0m\u001b[1;32m     81\u001b[0m \u001b[0;34m\u001b[0m\u001b[0m\n\u001b[1;32m     82\u001b[0m         \u001b[0;32mexcept\u001b[0m \u001b[0mrequests\u001b[0m\u001b[0;34m.\u001b[0m\u001b[0mexceptions\u001b[0m\u001b[0;34m.\u001b[0m\u001b[0mRequestException\u001b[0m \u001b[0;32mas\u001b[0m \u001b[0me\u001b[0m\u001b[0;34m:\u001b[0m\u001b[0;34m\u001b[0m\u001b[0;34m\u001b[0m\u001b[0m\n",
            "\u001b[0;32m/usr/local/lib/python3.10/dist-packages/videodb/_utils/_http_client.py\u001b[0m in \u001b[0;36m_parse_response\u001b[0;34m(self, response)\u001b[0m\n\u001b[1;32m    160\u001b[0m \u001b[0;34m\u001b[0m\u001b[0m\n\u001b[1;32m    161\u001b[0m             \u001b[0;32melse\u001b[0m\u001b[0;34m:\u001b[0m\u001b[0;34m\u001b[0m\u001b[0;34m\u001b[0m\u001b[0m\n\u001b[0;32m--> 162\u001b[0;31m                 raise InvalidRequestError(\n\u001b[0m\u001b[1;32m    163\u001b[0m                     \u001b[0;34mf\"Invalid request: {response_json.get('message')}\"\u001b[0m\u001b[0;34m,\u001b[0m \u001b[0mresponse\u001b[0m\u001b[0;34m\u001b[0m\u001b[0;34m\u001b[0m\u001b[0m\n\u001b[1;32m    164\u001b[0m                 ) from None\n",
            "\u001b[0;31mInvalidRequestError\u001b[0m: Invalid request: semantic index for video already exists "
          ]
        }
      ],
      "source": [
        "for video in coll.get_videos():\n",
        "    video.index_spoken_words()\n",
        "    print(f\"Indexed {video.name}\")"
      ]
    },
    {
      "cell_type": "markdown",
      "metadata": {
        "id": "EvZ9m6LHC--F"
      },
      "source": [
        "**Searching Inside Collection** :   \n",
        "  \n",
        "Search can peformed on collection using `coll.search()`"
      ]
    },
    {
      "cell_type": "code",
      "execution_count": 97,
      "metadata": {
        "id": "AEAf9RloC--F",
        "outputId": "d99da848-23f7-4db1-9b3d-281a7b6efa14",
        "colab": {
          "base_uri": "https://localhost:8080/",
          "height": 421
        }
      },
      "outputs": [
        {
          "output_type": "execute_result",
          "data": {
            "text/plain": [
              "<IPython.lib.display.IFrame at 0x79cb2b770610>"
            ],
            "text/html": [
              "\n",
              "        <iframe\n",
              "            width=\"800\"\n",
              "            height=\"400\"\n",
              "            src=\"https://console.videodb.io/player?url=https://stream.videodb.io/v3/published/manifests/0fcdd95a-dacc-4b1a-a306-59fdfdbd0714.m3u8\"\n",
              "            frameborder=\"0\"\n",
              "            allowfullscreen\n",
              "            \n",
              "        ></iframe>\n",
              "        "
            ]
          },
          "metadata": {},
          "execution_count": 97
        }
      ],
      "source": [
        "# search in the collection of videos\n",
        "results = coll.search(query = \"Sleep and brain\")\n",
        "results.play()"
      ]
    },
    {
      "cell_type": "code",
      "execution_count": 98,
      "metadata": {
        "id": "SHwKIDIqC--F",
        "outputId": "67ccf7b8-c22b-40f8-f38d-9f4ed820c224",
        "colab": {
          "base_uri": "https://localhost:8080/",
          "height": 421
        }
      },
      "outputs": [
        {
          "output_type": "execute_result",
          "data": {
            "text/plain": [
              "<IPython.lib.display.IFrame at 0x79cb2b773af0>"
            ],
            "text/html": [
              "\n",
              "        <iframe\n",
              "            width=\"800\"\n",
              "            height=\"400\"\n",
              "            src=\"https://console.videodb.io/player?url=https://stream.videodb.io/v3/published/manifests/ff6f84a7-bd34-4f21-b141-0b00ef658f1d.m3u8\"\n",
              "            frameborder=\"0\"\n",
              "            allowfullscreen\n",
              "            \n",
              "        ></iframe>\n",
              "        "
            ]
          },
          "metadata": {},
          "execution_count": 98
        }
      ],
      "source": [
        "results = coll.search(query= \"What are the benefits of morning sunlight?\")\n",
        "results.play()"
      ]
    },
    {
      "cell_type": "code",
      "execution_count": 99,
      "metadata": {
        "id": "v0azoybXC--F",
        "outputId": "08026200-4ef0-4046-98c3-b81147f218a8",
        "colab": {
          "base_uri": "https://localhost:8080/",
          "height": 421
        }
      },
      "outputs": [
        {
          "output_type": "execute_result",
          "data": {
            "text/plain": [
              "<IPython.lib.display.IFrame at 0x79cb2b7716c0>"
            ],
            "text/html": [
              "\n",
              "        <iframe\n",
              "            width=\"800\"\n",
              "            height=\"400\"\n",
              "            src=\"https://console.videodb.io/player?url=https://stream.videodb.io/v3/published/manifests/b7bede8d-6d38-4bf4-a227-2f1bf97e19dd.m3u8\"\n",
              "            frameborder=\"0\"\n",
              "            allowfullscreen\n",
              "            \n",
              "        ></iframe>\n",
              "        "
            ]
          },
          "metadata": {},
          "execution_count": 99
        }
      ],
      "source": [
        "results = coll.search(query= \"What are Adaptogens?\")\n",
        "results.play()"
      ]
    },
    {
      "cell_type": "code",
      "source": [
        "results = coll.search(query= \"intelligence\")\n",
        "results.play()"
      ],
      "metadata": {
        "colab": {
          "base_uri": "https://localhost:8080/",
          "height": 421
        },
        "id": "q4XHyYQBUaSN",
        "outputId": "5ff2ee27-9911-43b4-8b71-ccd3d85e0434"
      },
      "execution_count": 100,
      "outputs": [
        {
          "output_type": "execute_result",
          "data": {
            "text/plain": [
              "<IPython.lib.display.IFrame at 0x79cb2b772bf0>"
            ],
            "text/html": [
              "\n",
              "        <iframe\n",
              "            width=\"800\"\n",
              "            height=\"400\"\n",
              "            src=\"https://console.videodb.io/player?url=https://stream.videodb.io/v3/published/manifests/b34470ba-817e-4502-a0ac-1cc44f709dd6.m3u8\"\n",
              "            frameborder=\"0\"\n",
              "            allowfullscreen\n",
              "            \n",
              "        ></iframe>\n",
              "        "
            ]
          },
          "metadata": {},
          "execution_count": 100
        }
      ]
    },
    {
      "cell_type": "code",
      "source": [
        "result.get_shots()"
      ],
      "metadata": {
        "colab": {
          "base_uri": "https://localhost:8080/"
        },
        "id": "J1PV_EnDVCqZ",
        "outputId": "14b860af-f3a2-4c7c-fc43-9099d4f8b237"
      },
      "execution_count": 101,
      "outputs": [
        {
          "output_type": "execute_result",
          "data": {
            "text/plain": [
              "[]"
            ]
          },
          "metadata": {},
          "execution_count": 101
        }
      ]
    },
    {
      "cell_type": "markdown",
      "source": [
        "\n",
        "\n",
        "\n",
        "> Doubt: Is result.get_shots() only for single videos? Why doesn't it work in this case?\n",
        "\n",
        "\n",
        "\n"
      ],
      "metadata": {
        "id": "NXkre39oVhxs"
      }
    },
    {
      "cell_type": "markdown",
      "metadata": {
        "id": "fMlGBp81C--F"
      },
      "source": [
        "##### 📺 Viewing Search Results :\n",
        "\n",
        "`video.search()` will return a SearchResults object, which contains the sections/shots of videos which semantically match your search query\n",
        "\n",
        "* `result.get_shots()` - Returns a list of Shot that matched search query\n",
        "* `result.play()`  - This will open the video in your default browser/notebook"
      ]
    },
    {
      "cell_type": "markdown",
      "metadata": {
        "id": "c0Xyt1BqC--F"
      },
      "source": [
        "<div style=\"background-color: #ffffcc; color: black; padding: 10px; border-radius: 5px;\">\n",
        "As you can see VideoDB fundamentally removes the limitation of files and gives you power to access and stream videos in a very seamless way. Stay tuned for exciting features in our upcoming version and keep building awesome stuff with VideoDB 🤘\n",
        "</div>"
      ]
    },
    {
      "cell_type": "markdown",
      "metadata": {
        "id": "tt7UvzWsC--F"
      },
      "source": [
        "### 🌟 Explore more with Video object\n",
        "There are multiple methods available on a Video Object, that can be helpful for your use-case."
      ]
    },
    {
      "cell_type": "markdown",
      "metadata": {
        "id": "Q4N-RJcbC--G"
      },
      "source": [
        "##### Access Transcript"
      ]
    },
    {
      "cell_type": "code",
      "execution_count": 102,
      "metadata": {
        "id": "kuGyUGIVC--G",
        "outputId": "a79e0722-7f04-41c4-eeec-573f89259bff",
        "colab": {
          "base_uri": "https://localhost:8080/",
          "height": 214
        }
      },
      "outputs": [
        {
          "output_type": "error",
          "ename": "TypeError",
          "evalue": "'list' object is not callable",
          "traceback": [
            "\u001b[0;31m---------------------------------------------------------------------------\u001b[0m",
            "\u001b[0;31mTypeError\u001b[0m                                 Traceback (most recent call last)",
            "\u001b[0;32m<ipython-input-102-949105a5250f>\u001b[0m in \u001b[0;36m<cell line: 4>\u001b[0;34m()\u001b[0m\n\u001b[1;32m      2\u001b[0m \u001b[0mtext_json\u001b[0m \u001b[0;34m=\u001b[0m \u001b[0mvideo\u001b[0m\u001b[0;34m.\u001b[0m\u001b[0mget_transcript\u001b[0m\u001b[0;34m(\u001b[0m\u001b[0;34m)\u001b[0m\u001b[0;34m\u001b[0m\u001b[0;34m\u001b[0m\u001b[0m\n\u001b[1;32m      3\u001b[0m \u001b[0mtext\u001b[0m \u001b[0;34m=\u001b[0m \u001b[0mvideo\u001b[0m\u001b[0;34m.\u001b[0m\u001b[0mget_transcript_text\u001b[0m\u001b[0;34m(\u001b[0m\u001b[0;34m)\u001b[0m\u001b[0;34m\u001b[0m\u001b[0;34m\u001b[0m\u001b[0m\n\u001b[0;32m----> 4\u001b[0;31m \u001b[0mprint\u001b[0m\u001b[0;34m(\u001b[0m\u001b[0mtext\u001b[0m\u001b[0;34m)\u001b[0m\u001b[0;34m\u001b[0m\u001b[0;34m\u001b[0m\u001b[0m\n\u001b[0m",
            "\u001b[0;31mTypeError\u001b[0m: 'list' object is not callable"
          ]
        }
      ],
      "source": [
        "# words with timestamps\n",
        "text_json = video.get_transcript()\n",
        "text = video.get_transcript_text()\n",
        "print(text)"
      ]
    },
    {
      "cell_type": "markdown",
      "source": [
        "\n",
        "\n",
        "> Doubt: How does it choose which video to process? And the duration of this clip?\n",
        "\n"
      ],
      "metadata": {
        "id": "LlFyz4nRPXv5"
      }
    },
    {
      "cell_type": "markdown",
      "metadata": {
        "id": "QXMBklVhC--G"
      },
      "source": [
        "##### Add Subtitle to a video\n",
        "It returns a new stream instantly with subtitle added into the video."
      ]
    },
    {
      "cell_type": "code",
      "execution_count": 103,
      "metadata": {
        "id": "4gfrJ41RC--G",
        "outputId": "674afe37-ce54-4865-860b-5bd695772cb6",
        "colab": {
          "base_uri": "https://localhost:8080/",
          "height": 421
        }
      },
      "outputs": [
        {
          "output_type": "execute_result",
          "data": {
            "text/plain": [
              "<IPython.lib.display.IFrame at 0x79cb2b7711e0>"
            ],
            "text/html": [
              "\n",
              "        <iframe\n",
              "            width=\"800\"\n",
              "            height=\"400\"\n",
              "            src=\"https://console.videodb.io/player?url=https://stream.videodb.io/v3/published/manifests/afa80e96-a671-4856-a7fc-41b35a9308f3.m3u8\"\n",
              "            frameborder=\"0\"\n",
              "            allowfullscreen\n",
              "            \n",
              "        ></iframe>\n",
              "        "
            ]
          },
          "metadata": {},
          "execution_count": 103
        }
      ],
      "source": [
        "new_stream = video.add_subtitle()\n",
        "play_stream(new_stream)"
      ]
    },
    {
      "cell_type": "markdown",
      "metadata": {
        "id": "qEMyc8NcC--G"
      },
      "source": [
        "In upcoming versions, VideoDB would support subtitle in multiple languages and more options to style your subtitles."
      ]
    },
    {
      "cell_type": "markdown",
      "metadata": {
        "id": "_nVSYpxmC--O"
      },
      "source": [
        "##### Generate Thumbnail of Video :\n",
        "\n",
        "You can use `video.generate_thumbnail()` to generate a thumbnail image of video."
      ]
    },
    {
      "cell_type": "code",
      "execution_count": 104,
      "metadata": {
        "id": "Vy2lvrMVC--O",
        "outputId": "2acddcbf-9cee-405b-9d80-3d4c5ec78a19",
        "colab": {
          "base_uri": "https://localhost:8080/",
          "height": 381
        }
      },
      "outputs": [
        {
          "output_type": "execute_result",
          "data": {
            "text/html": [
              "<img src=\"https://storage.videodb.io/public/m-30c3caac-08e3-4f9a-8d74-a095d534a520/13896da1-85bc-4f77-b62b-d2f35b676c6a.jpg\"/>"
            ],
            "text/plain": [
              "<IPython.core.display.Image object>"
            ]
          },
          "metadata": {},
          "execution_count": 104
        }
      ],
      "source": [
        "from IPython.display import Image\n",
        "\n",
        "thumbnail_url = video.generate_thumbnail()\n",
        "Image(url=thumbnail_url)"
      ]
    },
    {
      "cell_type": "markdown",
      "metadata": {
        "id": "V_a25XbZC--O"
      },
      "source": [
        "##### Delete a video :\n",
        "\n",
        "* `video.delete()` :deletes a video."
      ]
    },
    {
      "cell_type": "code",
      "execution_count": null,
      "metadata": {
        "id": "2Vj5WePwC--O"
      },
      "outputs": [],
      "source": [
        "video.delete()"
      ]
    },
    {
      "cell_type": "markdown",
      "metadata": {
        "id": "B9dRRKVZC--O"
      },
      "source": [
        "\n",
        "<div style=\"background-color: #ffffcc; color: black; padding: 10px; border-radius: 5px;\">\n",
        "Checkout more examples and tutorials 👉 <a href=\"https://docs.videodb.io/build-with-videodb-35\"> Build with VideoDB </a> to explore what you can build with VideoDB\n",
        "</div>"
      ]
    }
  ],
  "metadata": {
    "kernelspec": {
      "display_name": "venv",
      "language": "python",
      "name": "python3"
    },
    "language_info": {
      "codemirror_mode": {
        "name": "ipython",
        "version": 3
      },
      "file_extension": ".py",
      "mimetype": "text/x-python",
      "name": "python",
      "nbconvert_exporter": "python",
      "pygments_lexer": "ipython3",
      "version": "3.9.12"
    },
    "colab": {
      "provenance": [],
      "toc_visible": true,
      "include_colab_link": true
    }
  },
  "nbformat": 4,
  "nbformat_minor": 0
}