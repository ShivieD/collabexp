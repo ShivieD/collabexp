{
  "cells": [
    {
      "cell_type": "markdown",
      "metadata": {
        "id": "view-in-github",
        "colab_type": "text"
      },
      "source": [
        "<a href=\"https://colab.research.google.com/github/ShivieD/collabexp/blob/main/Beep_Curse_Words_SD.ipynb\" target=\"_parent\"><img src=\"https://colab.research.google.com/assets/colab-badge.svg\" alt=\"Open In Colab\"/></a>"
      ]
    },
    {
      "cell_type": "code",
      "execution_count": 115,
      "id": "b22e22c5-2110-4720-8530-9527cf1cf789",
      "metadata": {
        "colab": {
          "base_uri": "https://localhost:8080/"
        },
        "id": "b22e22c5-2110-4720-8530-9527cf1cf789",
        "outputId": "a49d34ab-bcff-46fd-d886-dc4a116bbefe"
      },
      "outputs": [
        {
          "output_type": "stream",
          "name": "stdout",
          "text": [
            "Requirement already satisfied: videodb in /usr/local/lib/python3.10/dist-packages (0.0.3)\n",
            "Requirement already satisfied: requests>=2.25.1 in /usr/local/lib/python3.10/dist-packages (from videodb) (2.31.0)\n",
            "Requirement already satisfied: backoff>=2.2.1 in /usr/local/lib/python3.10/dist-packages (from videodb) (2.2.1)\n",
            "Requirement already satisfied: tqdm>=4.66.1 in /usr/local/lib/python3.10/dist-packages (from videodb) (4.66.1)\n",
            "Requirement already satisfied: charset-normalizer<4,>=2 in /usr/local/lib/python3.10/dist-packages (from requests>=2.25.1->videodb) (3.3.2)\n",
            "Requirement already satisfied: idna<4,>=2.5 in /usr/local/lib/python3.10/dist-packages (from requests>=2.25.1->videodb) (3.6)\n",
            "Requirement already satisfied: urllib3<3,>=1.21.1 in /usr/local/lib/python3.10/dist-packages (from requests>=2.25.1->videodb) (2.0.7)\n",
            "Requirement already satisfied: certifi>=2017.4.17 in /usr/local/lib/python3.10/dist-packages (from requests>=2.25.1->videodb) (2023.11.17)\n"
          ]
        }
      ],
      "source": [
        "#update to latest version\n",
        "!pip install -U videodb"
      ]
    },
    {
      "cell_type": "code",
      "execution_count": 116,
      "id": "98d0c77b-c8b7-49a9-8e6c-1deb72dffcdf",
      "metadata": {
        "colab": {
          "base_uri": "https://localhost:8080/"
        },
        "id": "98d0c77b-c8b7-49a9-8e6c-1deb72dffcdf",
        "outputId": "9690f5ab-9f72-420d-e82a-ff8b36013b91"
      },
      "outputs": [
        {
          "output_type": "stream",
          "name": "stdout",
          "text": [
            "Requirement already satisfied: spacy in /usr/local/lib/python3.10/dist-packages (3.6.1)\n",
            "Requirement already satisfied: spacy-legacy<3.1.0,>=3.0.11 in /usr/local/lib/python3.10/dist-packages (from spacy) (3.0.12)\n",
            "Requirement already satisfied: spacy-loggers<2.0.0,>=1.0.0 in /usr/local/lib/python3.10/dist-packages (from spacy) (1.0.5)\n",
            "Requirement already satisfied: murmurhash<1.1.0,>=0.28.0 in /usr/local/lib/python3.10/dist-packages (from spacy) (1.0.10)\n",
            "Requirement already satisfied: cymem<2.1.0,>=2.0.2 in /usr/local/lib/python3.10/dist-packages (from spacy) (2.0.8)\n",
            "Requirement already satisfied: preshed<3.1.0,>=3.0.2 in /usr/local/lib/python3.10/dist-packages (from spacy) (3.0.9)\n",
            "Requirement already satisfied: thinc<8.2.0,>=8.1.8 in /usr/local/lib/python3.10/dist-packages (from spacy) (8.1.12)\n",
            "Requirement already satisfied: wasabi<1.2.0,>=0.9.1 in /usr/local/lib/python3.10/dist-packages (from spacy) (1.1.2)\n",
            "Requirement already satisfied: srsly<3.0.0,>=2.4.3 in /usr/local/lib/python3.10/dist-packages (from spacy) (2.4.8)\n",
            "Requirement already satisfied: catalogue<2.1.0,>=2.0.6 in /usr/local/lib/python3.10/dist-packages (from spacy) (2.0.10)\n",
            "Requirement already satisfied: typer<0.10.0,>=0.3.0 in /usr/local/lib/python3.10/dist-packages (from spacy) (0.9.0)\n",
            "Requirement already satisfied: pathy>=0.10.0 in /usr/local/lib/python3.10/dist-packages (from spacy) (0.11.0)\n",
            "Requirement already satisfied: smart-open<7.0.0,>=5.2.1 in /usr/local/lib/python3.10/dist-packages (from spacy) (6.4.0)\n",
            "Requirement already satisfied: tqdm<5.0.0,>=4.38.0 in /usr/local/lib/python3.10/dist-packages (from spacy) (4.66.1)\n",
            "Requirement already satisfied: numpy>=1.15.0 in /usr/local/lib/python3.10/dist-packages (from spacy) (1.23.5)\n",
            "Requirement already satisfied: requests<3.0.0,>=2.13.0 in /usr/local/lib/python3.10/dist-packages (from spacy) (2.31.0)\n",
            "Requirement already satisfied: pydantic!=1.8,!=1.8.1,<3.0.0,>=1.7.4 in /usr/local/lib/python3.10/dist-packages (from spacy) (1.10.14)\n",
            "Requirement already satisfied: jinja2 in /usr/local/lib/python3.10/dist-packages (from spacy) (3.1.3)\n",
            "Requirement already satisfied: setuptools in /usr/local/lib/python3.10/dist-packages (from spacy) (67.7.2)\n",
            "Requirement already satisfied: packaging>=20.0 in /usr/local/lib/python3.10/dist-packages (from spacy) (23.2)\n",
            "Requirement already satisfied: langcodes<4.0.0,>=3.2.0 in /usr/local/lib/python3.10/dist-packages (from spacy) (3.3.0)\n",
            "Requirement already satisfied: pathlib-abc==0.1.1 in /usr/local/lib/python3.10/dist-packages (from pathy>=0.10.0->spacy) (0.1.1)\n",
            "Requirement already satisfied: typing-extensions>=4.2.0 in /usr/local/lib/python3.10/dist-packages (from pydantic!=1.8,!=1.8.1,<3.0.0,>=1.7.4->spacy) (4.5.0)\n",
            "Requirement already satisfied: charset-normalizer<4,>=2 in /usr/local/lib/python3.10/dist-packages (from requests<3.0.0,>=2.13.0->spacy) (3.3.2)\n",
            "Requirement already satisfied: idna<4,>=2.5 in /usr/local/lib/python3.10/dist-packages (from requests<3.0.0,>=2.13.0->spacy) (3.6)\n",
            "Requirement already satisfied: urllib3<3,>=1.21.1 in /usr/local/lib/python3.10/dist-packages (from requests<3.0.0,>=2.13.0->spacy) (2.0.7)\n",
            "Requirement already satisfied: certifi>=2017.4.17 in /usr/local/lib/python3.10/dist-packages (from requests<3.0.0,>=2.13.0->spacy) (2023.11.17)\n",
            "Requirement already satisfied: blis<0.8.0,>=0.7.8 in /usr/local/lib/python3.10/dist-packages (from thinc<8.2.0,>=8.1.8->spacy) (0.7.11)\n",
            "Requirement already satisfied: confection<1.0.0,>=0.0.1 in /usr/local/lib/python3.10/dist-packages (from thinc<8.2.0,>=8.1.8->spacy) (0.1.4)\n",
            "Requirement already satisfied: click<9.0.0,>=7.1.1 in /usr/local/lib/python3.10/dist-packages (from typer<0.10.0,>=0.3.0->spacy) (8.1.7)\n",
            "Requirement already satisfied: MarkupSafe>=2.0 in /usr/local/lib/python3.10/dist-packages (from jinja2->spacy) (2.1.4)\n"
          ]
        }
      ],
      "source": [
        "!pip install spacy"
      ]
    },
    {
      "cell_type": "code",
      "execution_count": 117,
      "id": "40c98098-be52-4575-ab04-7299e71bf8db",
      "metadata": {
        "colab": {
          "base_uri": "https://localhost:8080/"
        },
        "id": "40c98098-be52-4575-ab04-7299e71bf8db",
        "outputId": "3450f82c-6be6-428d-bd7a-ed3a3dfbf175"
      },
      "outputs": [
        {
          "output_type": "stream",
          "name": "stdout",
          "text": [
            "2024-02-01 12:14:29.073529: E external/local_xla/xla/stream_executor/cuda/cuda_dnn.cc:9261] Unable to register cuDNN factory: Attempting to register factory for plugin cuDNN when one has already been registered\n",
            "2024-02-01 12:14:29.073602: E external/local_xla/xla/stream_executor/cuda/cuda_fft.cc:607] Unable to register cuFFT factory: Attempting to register factory for plugin cuFFT when one has already been registered\n",
            "2024-02-01 12:14:29.074978: E external/local_xla/xla/stream_executor/cuda/cuda_blas.cc:1515] Unable to register cuBLAS factory: Attempting to register factory for plugin cuBLAS when one has already been registered\n",
            "2024-02-01 12:14:30.399194: W tensorflow/compiler/tf2tensorrt/utils/py_utils.cc:38] TF-TRT Warning: Could not find TensorRT\n",
            "Collecting en-core-web-sm==3.6.0\n",
            "  Downloading https://github.com/explosion/spacy-models/releases/download/en_core_web_sm-3.6.0/en_core_web_sm-3.6.0-py3-none-any.whl (12.8 MB)\n",
            "\u001b[2K     \u001b[90m━━━━━━━━━━━━━━━━━━━━━━━━━━━━━━━━━━━━━━━━\u001b[0m \u001b[32m12.8/12.8 MB\u001b[0m \u001b[31m46.3 MB/s\u001b[0m eta \u001b[36m0:00:00\u001b[0m\n",
            "\u001b[?25hRequirement already satisfied: spacy<3.7.0,>=3.6.0 in /usr/local/lib/python3.10/dist-packages (from en-core-web-sm==3.6.0) (3.6.1)\n",
            "Requirement already satisfied: spacy-legacy<3.1.0,>=3.0.11 in /usr/local/lib/python3.10/dist-packages (from spacy<3.7.0,>=3.6.0->en-core-web-sm==3.6.0) (3.0.12)\n",
            "Requirement already satisfied: spacy-loggers<2.0.0,>=1.0.0 in /usr/local/lib/python3.10/dist-packages (from spacy<3.7.0,>=3.6.0->en-core-web-sm==3.6.0) (1.0.5)\n",
            "Requirement already satisfied: murmurhash<1.1.0,>=0.28.0 in /usr/local/lib/python3.10/dist-packages (from spacy<3.7.0,>=3.6.0->en-core-web-sm==3.6.0) (1.0.10)\n",
            "Requirement already satisfied: cymem<2.1.0,>=2.0.2 in /usr/local/lib/python3.10/dist-packages (from spacy<3.7.0,>=3.6.0->en-core-web-sm==3.6.0) (2.0.8)\n",
            "Requirement already satisfied: preshed<3.1.0,>=3.0.2 in /usr/local/lib/python3.10/dist-packages (from spacy<3.7.0,>=3.6.0->en-core-web-sm==3.6.0) (3.0.9)\n",
            "Requirement already satisfied: thinc<8.2.0,>=8.1.8 in /usr/local/lib/python3.10/dist-packages (from spacy<3.7.0,>=3.6.0->en-core-web-sm==3.6.0) (8.1.12)\n",
            "Requirement already satisfied: wasabi<1.2.0,>=0.9.1 in /usr/local/lib/python3.10/dist-packages (from spacy<3.7.0,>=3.6.0->en-core-web-sm==3.6.0) (1.1.2)\n",
            "Requirement already satisfied: srsly<3.0.0,>=2.4.3 in /usr/local/lib/python3.10/dist-packages (from spacy<3.7.0,>=3.6.0->en-core-web-sm==3.6.0) (2.4.8)\n",
            "Requirement already satisfied: catalogue<2.1.0,>=2.0.6 in /usr/local/lib/python3.10/dist-packages (from spacy<3.7.0,>=3.6.0->en-core-web-sm==3.6.0) (2.0.10)\n",
            "Requirement already satisfied: typer<0.10.0,>=0.3.0 in /usr/local/lib/python3.10/dist-packages (from spacy<3.7.0,>=3.6.0->en-core-web-sm==3.6.0) (0.9.0)\n",
            "Requirement already satisfied: pathy>=0.10.0 in /usr/local/lib/python3.10/dist-packages (from spacy<3.7.0,>=3.6.0->en-core-web-sm==3.6.0) (0.11.0)\n",
            "Requirement already satisfied: smart-open<7.0.0,>=5.2.1 in /usr/local/lib/python3.10/dist-packages (from spacy<3.7.0,>=3.6.0->en-core-web-sm==3.6.0) (6.4.0)\n",
            "Requirement already satisfied: tqdm<5.0.0,>=4.38.0 in /usr/local/lib/python3.10/dist-packages (from spacy<3.7.0,>=3.6.0->en-core-web-sm==3.6.0) (4.66.1)\n",
            "Requirement already satisfied: numpy>=1.15.0 in /usr/local/lib/python3.10/dist-packages (from spacy<3.7.0,>=3.6.0->en-core-web-sm==3.6.0) (1.23.5)\n",
            "Requirement already satisfied: requests<3.0.0,>=2.13.0 in /usr/local/lib/python3.10/dist-packages (from spacy<3.7.0,>=3.6.0->en-core-web-sm==3.6.0) (2.31.0)\n",
            "Requirement already satisfied: pydantic!=1.8,!=1.8.1,<3.0.0,>=1.7.4 in /usr/local/lib/python3.10/dist-packages (from spacy<3.7.0,>=3.6.0->en-core-web-sm==3.6.0) (1.10.14)\n",
            "Requirement already satisfied: jinja2 in /usr/local/lib/python3.10/dist-packages (from spacy<3.7.0,>=3.6.0->en-core-web-sm==3.6.0) (3.1.3)\n",
            "Requirement already satisfied: setuptools in /usr/local/lib/python3.10/dist-packages (from spacy<3.7.0,>=3.6.0->en-core-web-sm==3.6.0) (67.7.2)\n",
            "Requirement already satisfied: packaging>=20.0 in /usr/local/lib/python3.10/dist-packages (from spacy<3.7.0,>=3.6.0->en-core-web-sm==3.6.0) (23.2)\n",
            "Requirement already satisfied: langcodes<4.0.0,>=3.2.0 in /usr/local/lib/python3.10/dist-packages (from spacy<3.7.0,>=3.6.0->en-core-web-sm==3.6.0) (3.3.0)\n",
            "Requirement already satisfied: pathlib-abc==0.1.1 in /usr/local/lib/python3.10/dist-packages (from pathy>=0.10.0->spacy<3.7.0,>=3.6.0->en-core-web-sm==3.6.0) (0.1.1)\n",
            "Requirement already satisfied: typing-extensions>=4.2.0 in /usr/local/lib/python3.10/dist-packages (from pydantic!=1.8,!=1.8.1,<3.0.0,>=1.7.4->spacy<3.7.0,>=3.6.0->en-core-web-sm==3.6.0) (4.5.0)\n",
            "Requirement already satisfied: charset-normalizer<4,>=2 in /usr/local/lib/python3.10/dist-packages (from requests<3.0.0,>=2.13.0->spacy<3.7.0,>=3.6.0->en-core-web-sm==3.6.0) (3.3.2)\n",
            "Requirement already satisfied: idna<4,>=2.5 in /usr/local/lib/python3.10/dist-packages (from requests<3.0.0,>=2.13.0->spacy<3.7.0,>=3.6.0->en-core-web-sm==3.6.0) (3.6)\n",
            "Requirement already satisfied: urllib3<3,>=1.21.1 in /usr/local/lib/python3.10/dist-packages (from requests<3.0.0,>=2.13.0->spacy<3.7.0,>=3.6.0->en-core-web-sm==3.6.0) (2.0.7)\n",
            "Requirement already satisfied: certifi>=2017.4.17 in /usr/local/lib/python3.10/dist-packages (from requests<3.0.0,>=2.13.0->spacy<3.7.0,>=3.6.0->en-core-web-sm==3.6.0) (2023.11.17)\n",
            "Requirement already satisfied: blis<0.8.0,>=0.7.8 in /usr/local/lib/python3.10/dist-packages (from thinc<8.2.0,>=8.1.8->spacy<3.7.0,>=3.6.0->en-core-web-sm==3.6.0) (0.7.11)\n",
            "Requirement already satisfied: confection<1.0.0,>=0.0.1 in /usr/local/lib/python3.10/dist-packages (from thinc<8.2.0,>=8.1.8->spacy<3.7.0,>=3.6.0->en-core-web-sm==3.6.0) (0.1.4)\n",
            "Requirement already satisfied: click<9.0.0,>=7.1.1 in /usr/local/lib/python3.10/dist-packages (from typer<0.10.0,>=0.3.0->spacy<3.7.0,>=3.6.0->en-core-web-sm==3.6.0) (8.1.7)\n",
            "Requirement already satisfied: MarkupSafe>=2.0 in /usr/local/lib/python3.10/dist-packages (from jinja2->spacy<3.7.0,>=3.6.0->en-core-web-sm==3.6.0) (2.1.4)\n",
            "\u001b[38;5;2m✔ Download and installation successful\u001b[0m\n",
            "You can now load the package via spacy.load('en_core_web_sm')\n"
          ]
        }
      ],
      "source": [
        "!python -m spacy download en_core_web_sm"
      ]
    },
    {
      "cell_type": "code",
      "execution_count": 118,
      "id": "3c5d3ea5-e80c-4381-b768-6a90cf96f302",
      "metadata": {
        "id": "3c5d3ea5-e80c-4381-b768-6a90cf96f302"
      },
      "outputs": [],
      "source": [
        "from videodb import connect, play_stream\n",
        "conn = connect(api_key=\"\")"
      ]
    },
    {
      "cell_type": "code",
      "execution_count": 210,
      "id": "5e3c82b2-5655-4eaa-887b-fb19678b0aab",
      "metadata": {
        "id": "5e3c82b2-5655-4eaa-887b-fb19678b0aab"
      },
      "outputs": [],
      "source": [
        "# upload a video with curse words\n",
        "video = conn.upload(url='https://www.youtube.com/watch?v=WbliHNs4q14')"
      ]
    },
    {
      "cell_type": "code",
      "execution_count": 211,
      "id": "d53afa75-5438-4a7b-b0ea-0ad09c03c517",
      "metadata": {
        "colab": {
          "base_uri": "https://localhost:8080/"
        },
        "id": "d53afa75-5438-4a7b-b0ea-0ad09c03c517",
        "outputId": "8e05d556-e564-4840-e63e-94c96664d8fb"
      },
      "outputs": [
        {
          "output_type": "stream",
          "name": "stderr",
          "text": [
            "100%|████████████████████████████████████████████████████████████████████████████████████████████████████| 100/100 [00:50<00:00,  1.98it/s]\n"
          ]
        }
      ],
      "source": [
        "video.index_spoken_words()"
      ]
    },
    {
      "cell_type": "code",
      "execution_count": 224,
      "id": "34852693-5717-4251-a7fe-5615a388ed5a",
      "metadata": {
        "id": "34852693-5717-4251-a7fe-5615a388ed5a"
      },
      "outputs": [],
      "source": [
        "# find and upload a beep sound\n",
        "from videodb import MediaType\n",
        "audio = conn.upload (file_path=\"./BeeBuzz.mp3\")\n",
        "\n",
        "beep = audio"
      ]
    },
    {
      "cell_type": "code",
      "execution_count": 225,
      "id": "96f4b4f4-e085-4e67-babc-b4ba8f9a98ff",
      "metadata": {
        "id": "96f4b4f4-e085-4e67-babc-b4ba8f9a98ff"
      },
      "outputs": [],
      "source": [
        "from videodb.asset import VideoAsset, AudioAsset\n",
        "from videodb.timeline import Timeline"
      ]
    },
    {
      "cell_type": "code",
      "execution_count": 226,
      "id": "30634d3a-ad33-428d-9c2f-a088f96f81a5",
      "metadata": {
        "colab": {
          "base_uri": "https://localhost:8080/"
        },
        "id": "30634d3a-ad33-428d-9c2f-a088f96f81a5",
        "outputId": "8f18f1af-d617-467a-d1aa-5a559d459722"
      },
      "outputs": [
        {
          "output_type": "execute_result",
          "data": {
            "text/plain": [
              "AudioAsset(asset_id=a-39da7c13-de35-4d88-81ce-128b231380b4, start=0, end=None, disable_other_tracks=True, fade_in_duration=0, fade_out_duration=0)"
            ]
          },
          "metadata": {},
          "execution_count": 226
        }
      ],
      "source": [
        "AudioAsset(asset_id=beep.id)"
      ]
    },
    {
      "cell_type": "code",
      "execution_count": 227,
      "id": "8c4b842f-5c19-44b4-9657-1ece2bec23a0",
      "metadata": {
        "scrolled": true,
        "colab": {
          "base_uri": "https://localhost:8080/",
          "height": 178
        },
        "id": "8c4b842f-5c19-44b4-9657-1ece2bec23a0",
        "outputId": "6b157a1c-3b45-4d94-ff06-2bd5fbff39a8"
      },
      "outputs": [
        {
          "output_type": "execute_result",
          "data": {
            "text/plain": [
              "\"killed history Wall Street guy Okay. I'm waiting for the punchline. There's no punchline. Not a joke. You're serious, aren't you? You're telling us you killed those three young men on the subway. And why should we believe you? Is it going to rain anymore? My life is nothing but a comedy. Let me get this straight. You think that killing those guys is funny. I do and I'm tired of pretending it's not comedy is subjective Murray so much you decide what's right or wrong the same way if you decide what's funny or not? Okay, I think I might understand that you did this to start a movement to become a symbol come on Marais that look like they kind of clown kill those guys because they were awful. Everybody is awful these days. It's enough to make anyone crazy. Okay, so that's it. You're crazy. That's your defense for killing three young men. They couldn't carry a tune to save their lives. Why is everybody so upset about these guys? If it was me dying on the sidewalk, you'd walk right over me. I pass you everyday and you don't notice me but these guys, Swain wouldn't write about them on TV. You have a problem with Thomas when I guess I do. Have you seen what it's like out there Murray you ever actually leave the studio? Everybody just yells and screams at each other. Nobody's civil anymore. You think men like, Swain ever pick what it's like to be someone like me to be somebody but them. They don't they think that will just sit there and take it like good little boys that we won't werewolf and go wild. I mean, it's so much self-pity Arthur you sound like you're making excuses for killing those young men not everybody and I'll tell you this not everyone is awful. You're off me. I'm awful. Oh, yeah, how am I awful? You just wanted to make fun of me. You're just like the rest of them. You don't know the first thing about me pal. Look what happened because of what you did what and led to the riots out there two policemen are in critical condition. You're laughing. You're laughing someone was killed today because of what you did. I know. How about another joke Murray? Good night, and always remember that. breaking news TV talk show host Murray Franklin shot dead tonight in Braintree Are we just having fun trying to a chair?\""
            ],
            "application/vnd.google.colaboratory.intrinsic+json": {
              "type": "string"
            }
          },
          "metadata": {},
          "execution_count": 227
        }
      ],
      "source": [
        "video.get_transcript_text()"
      ]
    },
    {
      "cell_type": "code",
      "execution_count": 228,
      "id": "c190cc4e-8a94-4fe0-a448-6fb36f47ed33",
      "metadata": {
        "id": "c190cc4e-8a94-4fe0-a448-6fb36f47ed33"
      },
      "outputs": [],
      "source": [
        "curse_words_list = ['killed', 'killing', 'kill', 'carry a tune', 'dying', 'yells and screams', 'critical condition', 'shot dead', 'awful']"
      ]
    },
    {
      "cell_type": "code",
      "execution_count": 229,
      "id": "4f5e93cf-61b3-44f2-83ec-65956359052d",
      "metadata": {
        "id": "4f5e93cf-61b3-44f2-83ec-65956359052d"
      },
      "outputs": [],
      "source": [
        "import spacy\n",
        "import re\n",
        "nlp = spacy.load(\"en_core_web_sm\")"
      ]
    },
    {
      "cell_type": "code",
      "execution_count": 230,
      "id": "af6001f1-4bea-47fd-babc-fe1d7baf2ed5",
      "metadata": {
        "colab": {
          "base_uri": "https://localhost:8080/"
        },
        "id": "af6001f1-4bea-47fd-babc-fe1d7baf2ed5",
        "outputId": "58ad5fcf-e95f-4ebf-f0ae-0423fa2356f7"
      },
      "outputs": [
        {
          "output_type": "stream",
          "name": "stdout",
          "text": [
            "kill\n"
          ]
        }
      ],
      "source": [
        "def get_root_word(word):\n",
        "    try:\n",
        "        cleaned_word = re.sub(r'[^\\w\\s]', '', word)\n",
        "        # Load the English language model\n",
        "\n",
        "        # Process the sentence\n",
        "        doc = nlp(cleaned_word)\n",
        "\n",
        "        # Lemmatize the word\n",
        "        lemmatized_word = [token.lemma_ for token in doc][0]  # Assuming single word input\n",
        "\n",
        "        return lemmatized_word\n",
        "    except Exception as e:\n",
        "        print(f\"some issue with lemma for the word {word}\")\n",
        "        return word\n",
        "\n",
        "count = len(curse_words_list)\n",
        "for i in range(count):\n",
        "  resulting_root = get_root_word(curse_words_list[i])\n",
        "  curse_words_list.append(resulting_root)\n",
        "\n",
        "print(get_root_word('kill'))\n"
      ]
    },
    {
      "cell_type": "code",
      "source": [
        "print (curse_words_list)"
      ],
      "metadata": {
        "colab": {
          "base_uri": "https://localhost:8080/"
        },
        "id": "nkQZqs7I9IrO",
        "outputId": "816a06f9-5bab-4a54-ddf5-bc5cd6a88a98"
      },
      "id": "nkQZqs7I9IrO",
      "execution_count": 231,
      "outputs": [
        {
          "output_type": "stream",
          "name": "stdout",
          "text": [
            "['killed', 'killing', 'kill', 'carry a tune', 'dying', 'yells and screams', 'critical condition', 'shot dead', 'awful', 'kill', 'kill', 'kill', 'carry', 'die', 'yell', 'critical', 'shoot', 'awful']\n"
          ]
        }
      ]
    },
    {
      "cell_type": "code",
      "execution_count": 232,
      "id": "855abba9-7f91-43e5-a123-f1a4e00bed3a",
      "metadata": {
        "id": "855abba9-7f91-43e5-a123-f1a4e00bed3a"
      },
      "outputs": [],
      "source": [
        "transcript = video.get_transcript()"
      ]
    },
    {
      "cell_type": "code",
      "execution_count": 233,
      "id": "c04d162e-1474-475b-8ebe-69b6a147533a",
      "metadata": {
        "colab": {
          "base_uri": "https://localhost:8080/"
        },
        "id": "c04d162e-1474-475b-8ebe-69b6a147533a",
        "outputId": "cd0be984-1ebb-47d4-a0df-b20f18cf1eba"
      },
      "outputs": [
        {
          "output_type": "execute_result",
          "data": {
            "text/plain": [
              "[{'end': '2', 'start': '0', 'text': '-'},\n",
              " {'end': '2.6', 'start': '2', 'text': 'killed'},\n",
              " {'end': '3.1', 'start': '2.6', 'text': 'history'},\n",
              " {'end': '3.4', 'start': '3.1', 'text': 'Wall'},\n",
              " {'end': '3.8', 'start': '3.4', 'text': 'Street'},\n",
              " {'end': '4', 'start': '3.8', 'text': 'guy'},\n",
              " {'end': '10.8', 'start': '4', 'text': '-'},\n",
              " {'end': '11.4', 'start': '10.8', 'text': 'Okay.'},\n",
              " {'end': '11.5', 'start': '11.4', 'text': \"I'm\"},\n",
              " {'end': '11.6', 'start': '11.5', 'text': 'waiting'},\n",
              " {'end': '11.8', 'start': '11.6', 'text': 'for'},\n",
              " {'end': '11.9', 'start': '11.8', 'text': 'the'},\n",
              " {'end': '12.2', 'start': '11.9', 'text': 'punchline.'},\n",
              " {'end': '14.2', 'start': '12.2', 'text': '-'},\n",
              " {'end': '14.7', 'start': '14.2', 'text': \"There's\"},\n",
              " {'end': '14.8', 'start': '14.7', 'text': 'no'},\n",
              " {'end': '15.1', 'start': '14.8', 'text': 'punchline.'},\n",
              " {'end': '17.4', 'start': '15.1', 'text': '-'},\n",
              " {'end': '17.9', 'start': '17.4', 'text': 'Not'},\n",
              " {'end': '18', 'start': '17.9', 'text': 'a'},\n",
              " {'end': '18.2', 'start': '18', 'text': 'joke.'},\n",
              " {'end': '23.9', 'start': '18.2', 'text': '-'},\n",
              " {'end': '24.3', 'start': '23.9', 'text': \"You're\"},\n",
              " {'end': '24.8', 'start': '24.3', 'text': 'serious,'},\n",
              " {'end': '24.9', 'start': '24.8', 'text': \"aren't\"},\n",
              " {'end': '25.1', 'start': '24.9', 'text': 'you?'},\n",
              " {'end': '25.3', 'start': '25.1', 'text': \"You're\"},\n",
              " {'end': '25.6', 'start': '25.3', 'text': 'telling'},\n",
              " {'end': '25.6', 'start': '25.6', 'text': 'us'},\n",
              " {'end': '25.7', 'start': '25.6', 'text': 'you'},\n",
              " {'end': '26', 'start': '25.7', 'text': 'killed'},\n",
              " {'end': '26.1', 'start': '26', 'text': 'those'},\n",
              " {'end': '26.2', 'start': '26.1', 'text': 'three'},\n",
              " {'end': '26.5', 'start': '26.2', 'text': 'young'},\n",
              " {'end': '26.6', 'start': '26.5', 'text': 'men'},\n",
              " {'end': '26.9', 'start': '26.6', 'text': 'on'},\n",
              " {'end': '26.9', 'start': '26.9', 'text': 'the'},\n",
              " {'end': '27.4', 'start': '26.9', 'text': 'subway.'},\n",
              " {'end': '29.1', 'start': '27.4', 'text': 'And'},\n",
              " {'end': '29.4', 'start': '29.1', 'text': 'why'},\n",
              " {'end': '29.7', 'start': '29.4', 'text': 'should'},\n",
              " {'end': '29.7', 'start': '29.7', 'text': 'we'},\n",
              " {'end': '29.9', 'start': '29.7', 'text': 'believe'},\n",
              " {'end': '30.2', 'start': '29.9', 'text': 'you?'},\n",
              " {'end': '34.6', 'start': '30.2', 'text': '-'},\n",
              " {'end': '35', 'start': '34.6', 'text': 'Is'},\n",
              " {'end': '35.1', 'start': '35', 'text': 'it'},\n",
              " {'end': '35.2', 'start': '35.1', 'text': 'going'},\n",
              " {'end': '35.3', 'start': '35.2', 'text': 'to'},\n",
              " {'end': '35.4', 'start': '35.3', 'text': 'rain'},\n",
              " {'end': '35.8', 'start': '35.4', 'text': 'anymore?'},\n",
              " {'end': '39.7', 'start': '35.8', 'text': '-'},\n",
              " {'end': '40.1', 'start': '39.7', 'text': 'My'},\n",
              " {'end': '40.6', 'start': '40.1', 'text': 'life'},\n",
              " {'end': '41.2', 'start': '40.6', 'text': 'is'},\n",
              " {'end': '41.5', 'start': '41.2', 'text': 'nothing'},\n",
              " {'end': '41.6', 'start': '41.5', 'text': 'but'},\n",
              " {'end': '41.8', 'start': '41.6', 'text': 'a'},\n",
              " {'end': '42.3', 'start': '41.8', 'text': 'comedy.'},\n",
              " {'end': '46', 'start': '42.3', 'text': '-'},\n",
              " {'end': '46.5', 'start': '46', 'text': 'Let'},\n",
              " {'end': '46.5', 'start': '46.5', 'text': 'me'},\n",
              " {'end': '46.7', 'start': '46.5', 'text': 'get'},\n",
              " {'end': '46.8', 'start': '46.7', 'text': 'this'},\n",
              " {'end': '46.9', 'start': '46.8', 'text': 'straight.'},\n",
              " {'end': '47.3', 'start': '46.9', 'text': 'You'},\n",
              " {'end': '47.5', 'start': '47.3', 'text': 'think'},\n",
              " {'end': '47.7', 'start': '47.5', 'text': 'that'},\n",
              " {'end': '48', 'start': '47.7', 'text': 'killing'},\n",
              " {'end': '48.4', 'start': '48', 'text': 'those'},\n",
              " {'end': '48.8', 'start': '48.4', 'text': 'guys'},\n",
              " {'end': '49', 'start': '48.8', 'text': 'is'},\n",
              " {'end': '49.4', 'start': '49', 'text': 'funny.'},\n",
              " {'end': '50', 'start': '49.4', 'text': '-'},\n",
              " {'end': '50.4', 'start': '50', 'text': '-'},\n",
              " {'end': '50.7', 'start': '50.4', 'text': 'I'},\n",
              " {'end': '51', 'start': '50.7', 'text': 'do'},\n",
              " {'end': '52.3', 'start': '51', 'text': 'and'},\n",
              " {'end': '52.4', 'start': '52.3', 'text': \"I'm\"},\n",
              " {'end': '52.8', 'start': '52.4', 'text': 'tired'},\n",
              " {'end': '53', 'start': '52.8', 'text': 'of'},\n",
              " {'end': '53.3', 'start': '53', 'text': 'pretending'},\n",
              " {'end': '53.8', 'start': '53.3', 'text': \"it's\"},\n",
              " {'end': '53.8', 'start': '53.8', 'text': 'not'},\n",
              " {'end': '55.4', 'start': '53.8', 'text': 'comedy'},\n",
              " {'end': '55.6', 'start': '55.4', 'text': 'is'},\n",
              " {'end': '55.7', 'start': '55.6', 'text': 'subjective'},\n",
              " {'end': '56.7', 'start': '55.7', 'text': 'Murray'},\n",
              " {'end': '62.5', 'start': '56.7', 'text': 'so'},\n",
              " {'end': '63.1', 'start': '62.5', 'text': 'much'},\n",
              " {'end': '64', 'start': '63.1', 'text': 'you'},\n",
              " {'end': '64.6', 'start': '64', 'text': 'decide'},\n",
              " {'end': '65.1', 'start': '64.6', 'text': \"what's\"},\n",
              " {'end': '65.4', 'start': '65.1', 'text': 'right'},\n",
              " {'end': '65.9', 'start': '65.4', 'text': 'or'},\n",
              " {'end': '66', 'start': '65.9', 'text': 'wrong'},\n",
              " {'end': '67', 'start': '66', 'text': 'the'},\n",
              " {'end': '67.4', 'start': '67', 'text': 'same'},\n",
              " {'end': '67.7', 'start': '67.4', 'text': 'way'},\n",
              " {'end': '68.4', 'start': '67.7', 'text': 'if'},\n",
              " {'end': '68.7', 'start': '68.4', 'text': 'you'},\n",
              " {'end': '69.3', 'start': '68.7', 'text': 'decide'},\n",
              " {'end': '69.9', 'start': '69.3', 'text': \"what's\"},\n",
              " {'end': '70.4', 'start': '69.9', 'text': 'funny'},\n",
              " {'end': '71.2', 'start': '70.4', 'text': 'or'},\n",
              " {'end': '71.6', 'start': '71.2', 'text': 'not?'},\n",
              " {'end': '74.8', 'start': '71.6', 'text': '-'},\n",
              " {'end': '75.5', 'start': '74.8', 'text': 'Okay,'},\n",
              " {'end': '75.8', 'start': '75.5', 'text': 'I'},\n",
              " {'end': '76', 'start': '75.8', 'text': 'think'},\n",
              " {'end': '77', 'start': '76', 'text': 'I'},\n",
              " {'end': '77.2', 'start': '77', 'text': 'might'},\n",
              " {'end': '77.9', 'start': '77.2', 'text': 'understand'},\n",
              " {'end': '78', 'start': '77.9', 'text': 'that'},\n",
              " {'end': '78.2', 'start': '78', 'text': 'you'},\n",
              " {'end': '79.2', 'start': '78.2', 'text': 'did'},\n",
              " {'end': '79.3', 'start': '79.2', 'text': 'this'},\n",
              " {'end': '79.5', 'start': '79.3', 'text': 'to'},\n",
              " {'end': '79.8', 'start': '79.5', 'text': 'start'},\n",
              " {'end': '79.8', 'start': '79.8', 'text': 'a'},\n",
              " {'end': '80.3', 'start': '79.8', 'text': 'movement'},\n",
              " {'end': '80.8', 'start': '80.3', 'text': 'to'},\n",
              " {'end': '81.6', 'start': '80.8', 'text': 'become'},\n",
              " {'end': '81.7', 'start': '81.6', 'text': 'a'},\n",
              " {'end': '82.2', 'start': '81.7', 'text': 'symbol'},\n",
              " {'end': '83.4', 'start': '82.2', 'text': 'come'},\n",
              " {'end': '83.6', 'start': '83.4', 'text': 'on'},\n",
              " {'end': '84.2', 'start': '83.6', 'text': 'Marais'},\n",
              " {'end': '85.1', 'start': '84.2', 'text': 'that'},\n",
              " {'end': '85.2', 'start': '85.1', 'text': 'look'},\n",
              " {'end': '85.3', 'start': '85.2', 'text': 'like'},\n",
              " {'end': '85.5', 'start': '85.3', 'text': 'they'},\n",
              " {'end': '85.6', 'start': '85.5', 'text': 'kind'},\n",
              " {'end': '85.7', 'start': '85.6', 'text': 'of'},\n",
              " {'end': '86', 'start': '85.7', 'text': 'clown'},\n",
              " {'end': '88.3', 'start': '86', 'text': 'kill'},\n",
              " {'end': '88.4', 'start': '88.3', 'text': 'those'},\n",
              " {'end': '88.7', 'start': '88.4', 'text': 'guys'},\n",
              " {'end': '89.1', 'start': '88.7', 'text': 'because'},\n",
              " {'end': '89.2', 'start': '89.1', 'text': 'they'},\n",
              " {'end': '89.4', 'start': '89.2', 'text': 'were'},\n",
              " {'end': '90', 'start': '89.4', 'text': 'awful.'},\n",
              " {'end': '91.9', 'start': '90', 'text': 'Everybody'},\n",
              " {'end': '92.1', 'start': '91.9', 'text': 'is'},\n",
              " {'end': '92.8', 'start': '92.1', 'text': 'awful'},\n",
              " {'end': '93', 'start': '92.8', 'text': 'these'},\n",
              " {'end': '93.4', 'start': '93', 'text': 'days.'},\n",
              " {'end': '94', 'start': '93.4', 'text': \"It's\"},\n",
              " {'end': '94.3', 'start': '94', 'text': 'enough'},\n",
              " {'end': '94.4', 'start': '94.3', 'text': 'to'},\n",
              " {'end': '94.4', 'start': '94.4', 'text': 'make'},\n",
              " {'end': '94.7', 'start': '94.4', 'text': 'anyone'},\n",
              " {'end': '95.2', 'start': '94.7', 'text': 'crazy.'},\n",
              " {'end': '96.4', 'start': '95.2', 'text': 'Okay,'},\n",
              " {'end': '96.6', 'start': '96.4', 'text': 'so'},\n",
              " {'end': '96.7', 'start': '96.6', 'text': \"that's\"},\n",
              " {'end': '97', 'start': '96.7', 'text': 'it.'},\n",
              " {'end': '97.1', 'start': '97', 'text': \"You're\"},\n",
              " {'end': '97.6', 'start': '97.1', 'text': 'crazy.'},\n",
              " {'end': '97.8', 'start': '97.6', 'text': \"That's\"},\n",
              " {'end': '98', 'start': '97.8', 'text': 'your'},\n",
              " {'end': '98.3', 'start': '98', 'text': 'defense'},\n",
              " {'end': '98.9', 'start': '98.3', 'text': 'for'},\n",
              " {'end': '99.2', 'start': '98.9', 'text': 'killing'},\n",
              " {'end': '99.4', 'start': '99.2', 'text': 'three'},\n",
              " {'end': '99.6', 'start': '99.4', 'text': 'young'},\n",
              " {'end': '99.7', 'start': '99.6', 'text': 'men.'},\n",
              " {'end': '100', 'start': '99.7', 'text': '-'},\n",
              " {'end': '102.4', 'start': '100', 'text': '-'},\n",
              " {'end': '102.9', 'start': '102.4', 'text': 'They'},\n",
              " {'end': '103.3', 'start': '102.9', 'text': \"couldn't\"},\n",
              " {'end': '103.7', 'start': '103.3', 'text': 'carry'},\n",
              " {'end': '103.8', 'start': '103.7', 'text': 'a'},\n",
              " {'end': '103.8', 'start': '103.8', 'text': 'tune'},\n",
              " {'end': '104.4', 'start': '103.8', 'text': 'to'},\n",
              " {'end': '104.6', 'start': '104.4', 'text': 'save'},\n",
              " {'end': '105', 'start': '104.6', 'text': 'their'},\n",
              " {'end': '105.3', 'start': '105', 'text': 'lives.'},\n",
              " {'end': '107.6', 'start': '105.3', 'text': '-'},\n",
              " {'end': '108.5', 'start': '107.6', 'text': 'Why'},\n",
              " {'end': '108.8', 'start': '108.5', 'text': 'is'},\n",
              " {'end': '109.1', 'start': '108.8', 'text': 'everybody'},\n",
              " {'end': '109.4', 'start': '109.1', 'text': 'so'},\n",
              " {'end': '109.6', 'start': '109.4', 'text': 'upset'},\n",
              " {'end': '110.2', 'start': '109.6', 'text': 'about'},\n",
              " {'end': '110.5', 'start': '110.2', 'text': 'these'},\n",
              " {'end': '110.7', 'start': '110.5', 'text': 'guys?'},\n",
              " {'end': '111.8', 'start': '110.7', 'text': '-'},\n",
              " {'end': '112.2', 'start': '111.8', 'text': 'If'},\n",
              " {'end': '112.3', 'start': '112.2', 'text': 'it'},\n",
              " {'end': '112.5', 'start': '112.3', 'text': 'was'},\n",
              " {'end': '112.7', 'start': '112.5', 'text': 'me'},\n",
              " {'end': '113.2', 'start': '112.7', 'text': 'dying'},\n",
              " {'end': '113.3', 'start': '113.2', 'text': 'on'},\n",
              " {'end': '113.4', 'start': '113.3', 'text': 'the'},\n",
              " {'end': '114', 'start': '113.4', 'text': 'sidewalk,'},\n",
              " {'end': '114.1', 'start': '114', 'text': \"you'd\"},\n",
              " {'end': '114.5', 'start': '114.1', 'text': 'walk'},\n",
              " {'end': '114.6', 'start': '114.5', 'text': 'right'},\n",
              " {'end': '114.9', 'start': '114.6', 'text': 'over'},\n",
              " {'end': '115.2', 'start': '114.9', 'text': 'me.'},\n",
              " {'end': '115.6', 'start': '115.2', 'text': 'I'},\n",
              " {'end': '116', 'start': '115.6', 'text': 'pass'},\n",
              " {'end': '116.1', 'start': '116', 'text': 'you'},\n",
              " {'end': '116.5', 'start': '116.1', 'text': 'everyday'},\n",
              " {'end': '116.8', 'start': '116.5', 'text': 'and'},\n",
              " {'end': '116.8', 'start': '116.8', 'text': 'you'},\n",
              " {'end': '117.1', 'start': '116.8', 'text': \"don't\"},\n",
              " {'end': '117.3', 'start': '117.1', 'text': 'notice'},\n",
              " {'end': '117.5', 'start': '117.3', 'text': 'me'},\n",
              " {'end': '117.9', 'start': '117.5', 'text': 'but'},\n",
              " {'end': '118', 'start': '117.9', 'text': 'these'},\n",
              " {'end': '119.4', 'start': '118', 'text': 'guys,'},\n",
              " {'end': '120', 'start': '119.4', 'text': 'Swain'},\n",
              " {'end': '120.3', 'start': '120', 'text': \"wouldn't\"},\n",
              " {'end': '120.6', 'start': '120.3', 'text': 'write'},\n",
              " {'end': '120.7', 'start': '120.6', 'text': 'about'},\n",
              " {'end': '120.9', 'start': '120.7', 'text': 'them'},\n",
              " {'end': '121.1', 'start': '120.9', 'text': 'on'},\n",
              " {'end': '121.1', 'start': '121.1', 'text': 'TV.'},\n",
              " {'end': '122.2', 'start': '121.1', 'text': 'You'},\n",
              " {'end': '122.3', 'start': '122.2', 'text': 'have'},\n",
              " {'end': '122.4', 'start': '122.3', 'text': 'a'},\n",
              " {'end': '122.7', 'start': '122.4', 'text': 'problem'},\n",
              " {'end': '123.2', 'start': '122.7', 'text': 'with'},\n",
              " {'end': '123.6', 'start': '123.2', 'text': 'Thomas'},\n",
              " {'end': '123.8', 'start': '123.6', 'text': 'when'},\n",
              " {'end': '123.9', 'start': '123.8', 'text': 'I'},\n",
              " {'end': '124.4', 'start': '123.9', 'text': 'guess'},\n",
              " {'end': '124.6', 'start': '124.4', 'text': 'I'},\n",
              " {'end': '125.2', 'start': '124.6', 'text': 'do.'},\n",
              " {'end': '126.1', 'start': '125.2', 'text': '-'},\n",
              " {'end': '126.5', 'start': '126.1', 'text': 'Have'},\n",
              " {'end': '126.7', 'start': '126.5', 'text': 'you'},\n",
              " {'end': '127.1', 'start': '126.7', 'text': 'seen'},\n",
              " {'end': '127.3', 'start': '127.1', 'text': 'what'},\n",
              " {'end': '127.5', 'start': '127.3', 'text': \"it's\"},\n",
              " {'end': '127.6', 'start': '127.5', 'text': 'like'},\n",
              " {'end': '128.1', 'start': '127.6', 'text': 'out'},\n",
              " {'end': '128.2', 'start': '128.1', 'text': 'there'},\n",
              " {'end': '128.9', 'start': '128.2', 'text': 'Murray'},\n",
              " {'end': '130', 'start': '128.9', 'text': 'you'},\n",
              " {'end': '130.2', 'start': '130', 'text': 'ever'},\n",
              " {'end': '130.5', 'start': '130.2', 'text': 'actually'},\n",
              " {'end': '130.8', 'start': '130.5', 'text': 'leave'},\n",
              " {'end': '131.3', 'start': '130.8', 'text': 'the'},\n",
              " {'end': '131.5', 'start': '131.3', 'text': 'studio?'},\n",
              " {'end': '133', 'start': '131.5', 'text': '-'},\n",
              " {'end': '133.9', 'start': '133', 'text': 'Everybody'},\n",
              " {'end': '134.2', 'start': '133.9', 'text': 'just'},\n",
              " {'end': '135.1', 'start': '134.2', 'text': 'yells'},\n",
              " {'end': '135.3', 'start': '135.1', 'text': 'and'},\n",
              " {'end': '135.7', 'start': '135.3', 'text': 'screams'},\n",
              " {'end': '136.1', 'start': '135.7', 'text': 'at'},\n",
              " {'end': '136.3', 'start': '136.1', 'text': 'each'},\n",
              " {'end': '136.6', 'start': '136.3', 'text': 'other.'},\n",
              " {'end': '137.5', 'start': '136.6', 'text': \"Nobody's\"},\n",
              " {'end': '137.9', 'start': '137.5', 'text': 'civil'},\n",
              " {'end': '138.4', 'start': '137.9', 'text': 'anymore.'},\n",
              " {'end': '143.5', 'start': '138.4', 'text': '-'},\n",
              " {'end': '143.8', 'start': '143.5', 'text': 'You'},\n",
              " {'end': '144.1', 'start': '143.8', 'text': 'think'},\n",
              " {'end': '144.3', 'start': '144.1', 'text': 'men'},\n",
              " {'end': '144.7', 'start': '144.3', 'text': 'like,'},\n",
              " {'end': '145.3', 'start': '144.7', 'text': 'Swain'},\n",
              " {'end': '146', 'start': '145.3', 'text': 'ever'},\n",
              " {'end': '146.3', 'start': '146', 'text': 'pick'},\n",
              " {'end': '146.4', 'start': '146.3', 'text': 'what'},\n",
              " {'end': '146.5', 'start': '146.4', 'text': \"it's\"},\n",
              " {'end': '146.8', 'start': '146.5', 'text': 'like'},\n",
              " {'end': '146.9', 'start': '146.8', 'text': 'to'},\n",
              " {'end': '147', 'start': '146.9', 'text': 'be'},\n",
              " {'end': '147.3', 'start': '147', 'text': 'someone'},\n",
              " {'end': '147.6', 'start': '147.3', 'text': 'like'},\n",
              " {'end': '147.9', 'start': '147.6', 'text': 'me'},\n",
              " {'end': '148.7', 'start': '147.9', 'text': 'to'},\n",
              " {'end': '148.9', 'start': '148.7', 'text': 'be'},\n",
              " {'end': '149.3', 'start': '148.9', 'text': 'somebody'},\n",
              " {'end': '149.6', 'start': '149.3', 'text': 'but'},\n",
              " {'end': '149.9', 'start': '149.6', 'text': 'them.'},\n",
              " {'end': '150', 'start': '149.9', 'text': '-'},\n",
              " {'end': '150.1', 'start': '150', 'text': '-'},\n",
              " {'end': '150.5', 'start': '150.1', 'text': 'They'},\n",
              " {'end': '150.8', 'start': '150.5', 'text': \"don't\"},\n",
              " {'end': '151.8', 'start': '150.8', 'text': 'they'},\n",
              " {'end': '152', 'start': '151.8', 'text': 'think'},\n",
              " {'end': '152.5', 'start': '152', 'text': 'that'},\n",
              " {'end': '152.7', 'start': '152.5', 'text': 'will'},\n",
              " {'end': '152.9', 'start': '152.7', 'text': 'just'},\n",
              " {'end': '153.3', 'start': '152.9', 'text': 'sit'},\n",
              " {'end': '153.5', 'start': '153.3', 'text': 'there'},\n",
              " {'end': '153.9', 'start': '153.5', 'text': 'and'},\n",
              " {'end': '154.2', 'start': '153.9', 'text': 'take'},\n",
              " {'end': '154.4', 'start': '154.2', 'text': 'it'},\n",
              " {'end': '154.9', 'start': '154.4', 'text': 'like'},\n",
              " {'end': '155.2', 'start': '154.9', 'text': 'good'},\n",
              " {'end': '155.4', 'start': '155.2', 'text': 'little'},\n",
              " {'end': '155.7', 'start': '155.4', 'text': 'boys'},\n",
              " {'end': '156.6', 'start': '155.7', 'text': 'that'},\n",
              " {'end': '156.7', 'start': '156.6', 'text': 'we'},\n",
              " {'end': '156.9', 'start': '156.7', 'text': \"won't\"},\n",
              " {'end': '157.6', 'start': '156.9', 'text': 'werewolf'},\n",
              " {'end': '157.9', 'start': '157.6', 'text': 'and'},\n",
              " {'end': '158', 'start': '157.9', 'text': 'go'},\n",
              " {'end': '158.5', 'start': '158', 'text': 'wild.'},\n",
              " {'end': '160.5', 'start': '158.5', 'text': 'I'},\n",
              " {'end': '160.7', 'start': '160.5', 'text': 'mean,'},\n",
              " {'end': '160.8', 'start': '160.7', 'text': \"it's\"},\n",
              " {'end': '160.9', 'start': '160.8', 'text': 'so'},\n",
              " {'end': '161.1', 'start': '160.9', 'text': 'much'},\n",
              " {'end': '161.7', 'start': '161.1', 'text': 'self-pity'},\n",
              " {'end': '162.4', 'start': '161.7', 'text': 'Arthur'},\n",
              " {'end': '163.1', 'start': '162.4', 'text': 'you'},\n",
              " {'end': '163.3', 'start': '163.1', 'text': 'sound'},\n",
              " {'end': '163.4', 'start': '163.3', 'text': 'like'},\n",
              " {'end': '163.6', 'start': '163.4', 'text': \"you're\"},\n",
              " {'end': '163.7', 'start': '163.6', 'text': 'making'},\n",
              " {'end': '164.4', 'start': '163.7', 'text': 'excuses'},\n",
              " {'end': '164.6', 'start': '164.4', 'text': 'for'},\n",
              " {'end': '165', 'start': '164.6', 'text': 'killing'},\n",
              " {'end': '165.1', 'start': '165', 'text': 'those'},\n",
              " {'end': '165.4', 'start': '165.1', 'text': 'young'},\n",
              " {'end': '165.5', 'start': '165.4', 'text': 'men'},\n",
              " {'end': '166.5', 'start': '165.5', 'text': 'not'},\n",
              " {'end': '167', 'start': '166.5', 'text': 'everybody'},\n",
              " {'end': '167.4', 'start': '167', 'text': 'and'},\n",
              " {'end': '167.5', 'start': '167.4', 'text': \"I'll\"},\n",
              " {'end': '167.7', 'start': '167.5', 'text': 'tell'},\n",
              " {'end': '167.8', 'start': '167.7', 'text': 'you'},\n",
              " {'end': '168', 'start': '167.8', 'text': 'this'},\n",
              " {'end': '168.2', 'start': '168', 'text': 'not'},\n",
              " {'end': '168.6', 'start': '168.2', 'text': 'everyone'},\n",
              " {'end': '168.7', 'start': '168.6', 'text': 'is'},\n",
              " {'end': '169.1', 'start': '168.7', 'text': 'awful.'},\n",
              " {'end': '171.6', 'start': '169.1', 'text': '-'},\n",
              " {'end': '172.1', 'start': '171.6', 'text': \"You're\"},\n",
              " {'end': '172.3', 'start': '172.1', 'text': 'off'},\n",
              " {'end': '173.3', 'start': '172.3', 'text': 'me.'},\n",
              " {'end': '174.5', 'start': '173.3', 'text': \"I'm\"},\n",
              " {'end': '174.9', 'start': '174.5', 'text': 'awful.'},\n",
              " {'end': '175.4', 'start': '174.9', 'text': 'Oh,'},\n",
              " {'end': '175.6', 'start': '175.4', 'text': 'yeah,'},\n",
              " {'end': '175.7', 'start': '175.6', 'text': 'how'},\n",
              " {'end': '175.9', 'start': '175.7', 'text': 'am'},\n",
              " {'end': '176', 'start': '175.9', 'text': 'I'},\n",
              " {'end': '176.5', 'start': '176', 'text': 'awful?'},\n",
              " {'end': '184.8', 'start': '176.5', 'text': '-'},\n",
              " {'end': '185.2', 'start': '184.8', 'text': 'You'},\n",
              " {'end': '185.6', 'start': '185.2', 'text': 'just'},\n",
              " {'end': '185.9', 'start': '185.6', 'text': 'wanted'},\n",
              " {'end': '186', 'start': '185.9', 'text': 'to'},\n",
              " {'end': '186.1', 'start': '186', 'text': 'make'},\n",
              " {'end': '186.8', 'start': '186.1', 'text': 'fun'},\n",
              " {'end': '186.8', 'start': '186.8', 'text': 'of'},\n",
              " {'end': '187', 'start': '186.8', 'text': 'me.'},\n",
              " {'end': '188.6', 'start': '187', 'text': \"You're\"},\n",
              " {'end': '188.8', 'start': '188.6', 'text': 'just'},\n",
              " {'end': '189.1', 'start': '188.8', 'text': 'like'},\n",
              " {'end': '189.2', 'start': '189.1', 'text': 'the'},\n",
              " {'end': '189.3', 'start': '189.2', 'text': 'rest'},\n",
              " {'end': '189.7', 'start': '189.3', 'text': 'of'},\n",
              " {'end': '189.8', 'start': '189.7', 'text': 'them.'},\n",
              " {'end': '190.6', 'start': '189.8', 'text': 'You'},\n",
              " {'end': '190.7', 'start': '190.6', 'text': \"don't\"},\n",
              " {'end': '190.9', 'start': '190.7', 'text': 'know'},\n",
              " {'end': '191', 'start': '190.9', 'text': 'the'},\n",
              " {'end': '191', 'start': '191', 'text': 'first'},\n",
              " {'end': '191.3', 'start': '191', 'text': 'thing'},\n",
              " {'end': '191.5', 'start': '191.3', 'text': 'about'},\n",
              " {'end': '191.9', 'start': '191.5', 'text': 'me'},\n",
              " {'end': '192.2', 'start': '191.9', 'text': 'pal.'},\n",
              " {'end': '192.9', 'start': '192.2', 'text': 'Look'},\n",
              " {'end': '193.1', 'start': '192.9', 'text': 'what'},\n",
              " {'end': '193.3', 'start': '193.1', 'text': 'happened'},\n",
              " {'end': '193.4', 'start': '193.3', 'text': 'because'},\n",
              " {'end': '193.6', 'start': '193.4', 'text': 'of'},\n",
              " {'end': '193.7', 'start': '193.6', 'text': 'what'},\n",
              " {'end': '194', 'start': '193.7', 'text': 'you'},\n",
              " {'end': '194.2', 'start': '194', 'text': 'did'},\n",
              " {'end': '194.6', 'start': '194.2', 'text': 'what'},\n",
              " {'end': '194.7', 'start': '194.6', 'text': 'and'},\n",
              " {'end': '194.9', 'start': '194.7', 'text': 'led'},\n",
              " {'end': '195.1', 'start': '194.9', 'text': 'to'},\n",
              " {'end': '195.6', 'start': '195.1', 'text': 'the'},\n",
              " {'end': '196.3', 'start': '195.6', 'text': 'riots'},\n",
              " {'end': '196.4', 'start': '196.3', 'text': 'out'},\n",
              " {'end': '196.7', 'start': '196.4', 'text': 'there'},\n",
              " {'end': '197.4', 'start': '196.7', 'text': 'two'},\n",
              " {'end': '198', 'start': '197.4', 'text': 'policemen'},\n",
              " {'end': '198.1', 'start': '198', 'text': 'are'},\n",
              " {'end': '198.2', 'start': '198.1', 'text': 'in'},\n",
              " {'end': '198.4', 'start': '198.2', 'text': 'critical'},\n",
              " {'end': '198.8', 'start': '198.4', 'text': 'condition.'},\n",
              " {'end': '199.3', 'start': '198.8', 'text': \"You're\"},\n",
              " {'end': '199.8', 'start': '199.3', 'text': 'laughing.'},\n",
              " {'end': '200', 'start': '199.8', 'text': '-'},\n",
              " {'end': '200.2', 'start': '200', 'text': \"You're\"},\n",
              " {'end': '200.5', 'start': '200.2', 'text': 'laughing'},\n",
              " {'end': '201.4', 'start': '200.5', 'text': 'someone'},\n",
              " {'end': '201.6', 'start': '201.4', 'text': 'was'},\n",
              " {'end': '202.1', 'start': '201.6', 'text': 'killed'},\n",
              " {'end': '202.3', 'start': '202.1', 'text': 'today'},\n",
              " {'end': '202.9', 'start': '202.3', 'text': 'because'},\n",
              " {'end': '203', 'start': '202.9', 'text': 'of'},\n",
              " {'end': '203.2', 'start': '203', 'text': 'what'},\n",
              " {'end': '203.5', 'start': '203.2', 'text': 'you'},\n",
              " {'end': '203.8', 'start': '203.5', 'text': 'did.'},\n",
              " {'end': '204.3', 'start': '203.8', 'text': 'I'},\n",
              " {'end': '204.7', 'start': '204.3', 'text': 'know.'},\n",
              " {'end': '208', 'start': '204.7', 'text': '-'},\n",
              " {'end': '208.4', 'start': '208', 'text': 'How'},\n",
              " {'end': '208.6', 'start': '208.4', 'text': 'about'},\n",
              " {'end': '208.8', 'start': '208.6', 'text': 'another'},\n",
              " {'end': '209', 'start': '208.8', 'text': 'joke'},\n",
              " {'end': '209.3', 'start': '209', 'text': 'Murray?'},\n",
              " {'end': '250', 'start': '209.3', 'text': '-'},\n",
              " {'end': '259.9', 'start': '250', 'text': '-'},\n",
              " {'end': '260.2', 'start': '259.9', 'text': 'Good'},\n",
              " {'end': '260.6', 'start': '260.2', 'text': 'night,'},\n",
              " {'end': '261.5', 'start': '260.6', 'text': 'and'},\n",
              " {'end': '261.8', 'start': '261.5', 'text': 'always'},\n",
              " {'end': '262.3', 'start': '261.8', 'text': 'remember'},\n",
              " {'end': '263', 'start': '262.3', 'text': 'that.'},\n",
              " {'end': '268.5', 'start': '263', 'text': '-'},\n",
              " {'end': '269.1', 'start': '268.5', 'text': 'breaking'},\n",
              " {'end': '269.6', 'start': '269.1', 'text': 'news'},\n",
              " {'end': '270.8', 'start': '269.6', 'text': 'TV'},\n",
              " {'end': '271.1', 'start': '270.8', 'text': 'talk'},\n",
              " {'end': '271.2', 'start': '271.1', 'text': 'show'},\n",
              " {'end': '271.3', 'start': '271.2', 'text': 'host'},\n",
              " {'end': '271.9', 'start': '271.3', 'text': 'Murray'},\n",
              " {'end': '272.5', 'start': '271.9', 'text': 'Franklin'},\n",
              " {'end': '273', 'start': '272.5', 'text': 'shot'},\n",
              " {'end': '273.4', 'start': '273', 'text': 'dead'},\n",
              " {'end': '273.6', 'start': '273.4', 'text': 'tonight'},\n",
              " {'end': '273.9', 'start': '273.6', 'text': 'in'},\n",
              " {'end': '280.9', 'start': '273.9', 'text': 'Braintree'},\n",
              " {'end': '284.6', 'start': '280.9', 'text': '-'},\n",
              " {'end': '285.1', 'start': '284.6', 'text': 'Are'},\n",
              " {'end': '285.2', 'start': '285.1', 'text': 'we'},\n",
              " {'end': '285.4', 'start': '285.2', 'text': 'just'},\n",
              " {'end': '285.6', 'start': '285.4', 'text': 'having'},\n",
              " {'end': '285.8', 'start': '285.6', 'text': 'fun'},\n",
              " {'end': '286.3', 'start': '285.8', 'text': 'trying'},\n",
              " {'end': '286.5', 'start': '286.3', 'text': 'to'},\n",
              " {'end': '286.7', 'start': '286.5', 'text': 'a'},\n",
              " {'end': '287', 'start': '286.7', 'text': 'chair?'},\n",
              " {'end': '298', 'start': '287', 'text': '-'}]"
            ]
          },
          "metadata": {},
          "execution_count": 233
        }
      ],
      "source": [
        "transcript"
      ]
    },
    {
      "cell_type": "code",
      "source": [
        "# Initialize an empty list to store root words\n",
        "root_words = []\n",
        "\n",
        "# Iterate through each word in the transcript\n",
        "for word in transcript:\n",
        "    text = word.get('text')\n",
        "\n",
        "    # Check if the text is not equal to '-'\n",
        "    if text not in ['-']:\n",
        "        # Assuming get_root_word() function returns the root word\n",
        "        root_word = get_root_word(text)\n",
        "\n",
        "        # Append the root word to the list\n",
        "        root_words.append(root_word)\n",
        "\n",
        "# Print the list of root words\n",
        "print(root_words)"
      ],
      "metadata": {
        "colab": {
          "base_uri": "https://localhost:8080/"
        },
        "id": "T4NlmPScDXVP",
        "outputId": "a86f0efc-92ab-4f85-b2ca-c6d7f75feae4"
      },
      "id": "T4NlmPScDXVP",
      "execution_count": 241,
      "outputs": [
        {
          "output_type": "stream",
          "name": "stdout",
          "text": [
            "['kill', 'history', 'wall', 'street', 'guy', 'okay', 'I', 'wait', 'for', 'the', 'punchline', 'there', 'no', 'punchline', 'not', 'a', 'joke', 'you', 'serious', 'be', 'you', 'you', 'tell', 'we', 'you', 'kill', 'those', 'three', 'young', 'man', 'on', 'the', 'subway', 'and', 'why', 'should', 'we', 'believe', 'you', 'be', 'it', 'go', 'to', 'rain', 'anymore', 'my', 'life', 'be', 'nothing', 'but', 'a', 'comedy', 'let', 'I', 'get', 'this', 'straight', 'you', 'think', 'that', 'kill', 'those', 'guy', 'be', 'funny', 'I', 'do', 'and', 'I', 'tired', 'of', 'pretend', 'its', 'not', 'comedy', 'be', 'subjective', 'Murray', 'so', 'much', 'you', 'decide', 'what', 'right', 'or', 'wrong', 'the', 'same', 'way', 'if', 'you', 'decide', 'what', 'funny', 'or', 'not', 'okay', 'I', 'think', 'I', 'might', 'understand', 'that', 'you', 'do', 'this', 'to', 'start', 'a', 'movement', 'to', 'become', 'a', 'symbol', 'come', 'on', 'Marais', 'that', 'look', 'like', 'they', 'kind', 'of', 'clown', 'kill', 'those', 'guy', 'because', 'they', 'be', 'awful', 'everybody', 'be', 'awful', 'these', 'day', 'its', 'enough', 'to', 'make', 'anyone', 'crazy', 'okay', 'so', 'that', 'it', 'you', 'crazy', 'that', 'your', 'defense', 'for', 'kill', 'three', 'young', 'man', 'they', 'could', 'carry', 'a', 'tune', 'to', 'save', 'their', 'live', 'why', 'be', 'everybody', 'so', 'upset', 'about', 'these', 'guy', 'if', 'it', 'be', 'I', 'die', 'on', 'the', 'sidewalk', 'you', 'walk', 'right', 'over', 'I', 'I', 'pass', 'you', 'everyday', 'and', 'you', 'do', 'notice', 'I', 'but', 'these', 'guy', 'swain', 'would', 'write', 'about', 'they', 'on', 'tv', 'you', 'have', 'a', 'problem', 'with', 'Thomas', 'when', 'I', 'guess', 'I', 'do', 'have', 'you', 'see', 'what', 'its', 'like', 'out', 'there', 'Murray', 'you', 'ever', 'actually', 'leave', 'the', 'studio', 'everybody', 'just', 'yell', 'and', 'scream', 'at', 'each', 'other', 'Nobodys', 'civil', 'anymore', 'you', 'think', 'man', 'like', 'swain', 'ever', 'pick', 'what', 'its', 'like', 'to', 'be', 'someone', 'like', 'I', 'to', 'be', 'somebody', 'but', 'they', 'they', 'do', 'they', 'think', 'that', 'will', 'just', 'sit', 'there', 'and', 'take', 'it', 'like', 'good', 'little', 'boy', 'that', 'we', 'will', 'werewolf', 'and', 'go', 'wild', 'I', 'mean', 'its', 'so', 'much', 'selfpity', 'Arthur', 'you', 'sound', 'like', 'you', 'make', 'excuse', 'for', 'kill', 'those', 'young', 'man', 'not', 'everybody', 'and', 'Ill', 'tell', 'you', 'this', 'not', 'everyone', 'be', 'awful', 'you', 'off', 'I', 'I', 'awful', 'oh', 'yeah', 'how', 'be', 'I', 'awful', 'you', 'just', 'want', 'to', 'make', 'fun', 'of', 'I', 'you', 'just', 'like', 'the', 'rest', 'of', 'they', 'you', 'do', 'know', 'the', 'first', 'thing', 'about', 'I', 'pal', 'look', 'what', 'happen', 'because', 'of', 'what', 'you', 'do', 'what', 'and', 'lead', 'to', 'the', 'riot', 'out', 'there', 'two', 'policeman', 'be', 'in', 'critical', 'condition', 'you', 'laugh', 'you', 'laugh', 'someone', 'be', 'kill', 'today', 'because', 'of', 'what', 'you', 'do', 'I', 'know', 'how', 'about', 'another', 'joke', 'Murray', 'good', 'night', 'and', 'always', 'remember', 'that', 'break', 'news', 'tv', 'talk', 'show', 'host', 'Murray', 'Franklin', 'shot', 'dead', 'tonight', 'in', 'braintree', 'be', 'we', 'just', 'have', 'fun', 'try', 'to', 'a', 'chair']\n"
          ]
        }
      ]
    },
    {
      "cell_type": "code",
      "execution_count": 235,
      "id": "42635a2f-585d-42c3-80e2-49884256915d",
      "metadata": {
        "id": "42635a2f-585d-42c3-80e2-49884256915d",
        "colab": {
          "base_uri": "https://localhost:8080/"
        },
        "outputId": "7c47161d-3e48-4cbe-aa61-f7164c2a254f"
      },
      "outputs": [
        {
          "output_type": "stream",
          "name": "stdout",
          "text": [
            "beep the word: killed, 2.0:2.6 \n",
            "beep the word: killed, 25.7:26.0 \n",
            "beep the word: killing, 47.7:48.0 \n",
            "beep the word: kill, 86.0:88.3 \n",
            "beep the word: awful., 89.4:90.0 \n",
            "beep the word: awful, 92.1:92.8 \n",
            "beep the word: killing, 98.9:99.2 \n",
            "beep the word: carry, 103.3:103.7 \n",
            "beep the word: dying, 112.7:113.2 \n",
            "beep the word: yells, 134.2:135.1 \n",
            "beep the word: killing, 164.6:165.0 \n",
            "beep the word: awful., 168.7:169.1 \n",
            "beep the word: awful., 174.5:174.9 \n",
            "beep the word: awful?, 176.0:176.5 \n",
            "beep the word: critical, 198.2:198.4 \n",
            "beep the word: killed, 201.6:202.1 \n"
          ]
        }
      ],
      "source": [
        "# create a new timeline\n",
        "timeline = Timeline(conn)\n",
        "# add the main video inline\n",
        "video_asset = VideoAsset(asset_id=video.id)\n",
        "timeline.add_inline(video_asset)\n",
        "\n",
        "for word in transcript:\n",
        "    text = word.get('text')\n",
        "\n",
        "    if text not in ['-']:\n",
        "        root_word = get_root_word(text)\n",
        "\n",
        "        if root_word in curse_words_list:\n",
        "            beep_start_time = float(word.get('start'))\n",
        "            beep_end_time = float(word.get('end'))\n",
        "            beep_duration = beep_end_time - beep_start_time\n",
        "\n",
        "            #add asset overlay of beep duration\n",
        "            print(f\"beep the word: {text}, {beep_start_time}:{beep_end_time} \")\n",
        "            timeline.add_overlay(start=beep_start_time, asset=AudioAsset(asset_id=beep.id,start=0, end=beep_duration, disable_other_tracks=False))\n",
        "\n",
        "stream_url = timeline.generate_stream()"
      ]
    },
    {
      "cell_type": "code",
      "execution_count": 236,
      "id": "8e598cc1-42ab-4d16-9e70-cbc45d83d5aa",
      "metadata": {
        "colab": {
          "base_uri": "https://localhost:8080/",
          "height": 421
        },
        "id": "8e598cc1-42ab-4d16-9e70-cbc45d83d5aa",
        "outputId": "7630c094-f4ff-464a-f4dd-8b84c309f78d"
      },
      "outputs": [
        {
          "output_type": "execute_result",
          "data": {
            "text/plain": [
              "<IPython.lib.display.IFrame at 0x7bc0438ffe20>"
            ],
            "text/html": [
              "\n",
              "        <iframe\n",
              "            width=\"800\"\n",
              "            height=\"400\"\n",
              "            src=\"https://console.videodb.io/player?url=https://stream.videodb.io/v3/published/manifests/937ac5f9-7dd8-476a-a804-3bc11fab6f7b.m3u8\"\n",
              "            frameborder=\"0\"\n",
              "            allowfullscreen\n",
              "            \n",
              "        ></iframe>\n",
              "        "
            ]
          },
          "metadata": {},
          "execution_count": 236
        }
      ],
      "source": [
        "from videodb import play_stream\n",
        "play_stream(stream_url)"
      ]
    }
  ],
  "metadata": {
    "kernelspec": {
      "display_name": "Python 3 (ipykernel)",
      "language": "python",
      "name": "python3"
    },
    "language_info": {
      "codemirror_mode": {
        "name": "ipython",
        "version": 3
      },
      "file_extension": ".py",
      "mimetype": "text/x-python",
      "name": "python",
      "nbconvert_exporter": "python",
      "pygments_lexer": "ipython3",
      "version": "3.12.0"
    },
    "colab": {
      "provenance": [],
      "include_colab_link": true
    }
  },
  "nbformat": 4,
  "nbformat_minor": 5
}