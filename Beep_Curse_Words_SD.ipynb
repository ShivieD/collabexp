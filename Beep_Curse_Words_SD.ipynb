{
  "cells": [
    {
      "cell_type": "markdown",
      "metadata": {
        "id": "view-in-github",
        "colab_type": "text"
      },
      "source": [
        "<a href=\"https://colab.research.google.com/github/ShivieD/collabexp/blob/main/Beep_Curse_Words_SD.ipynb\" target=\"_parent\"><img src=\"https://colab.research.google.com/assets/colab-badge.svg\" alt=\"Open In Colab\"/></a>"
      ]
    },
    {
      "cell_type": "code",
      "execution_count": 1,
      "id": "b22e22c5-2110-4720-8530-9527cf1cf789",
      "metadata": {
        "colab": {
          "base_uri": "https://localhost:8080/"
        },
        "id": "b22e22c5-2110-4720-8530-9527cf1cf789",
        "outputId": "5d0d15e0-7001-4253-8212-55bad4322c95"
      },
      "outputs": [
        {
          "output_type": "stream",
          "name": "stdout",
          "text": [
            "Collecting videodb\n",
            "  Downloading videodb-0.0.3.tar.gz (21 kB)\n",
            "  Preparing metadata (setup.py) ... \u001b[?25l\u001b[?25hdone\n",
            "Requirement already satisfied: requests>=2.25.1 in /usr/local/lib/python3.10/dist-packages (from videodb) (2.31.0)\n",
            "Collecting backoff>=2.2.1 (from videodb)\n",
            "  Downloading backoff-2.2.1-py3-none-any.whl (15 kB)\n",
            "Requirement already satisfied: tqdm>=4.66.1 in /usr/local/lib/python3.10/dist-packages (from videodb) (4.66.1)\n",
            "Requirement already satisfied: charset-normalizer<4,>=2 in /usr/local/lib/python3.10/dist-packages (from requests>=2.25.1->videodb) (3.3.2)\n",
            "Requirement already satisfied: idna<4,>=2.5 in /usr/local/lib/python3.10/dist-packages (from requests>=2.25.1->videodb) (3.6)\n",
            "Requirement already satisfied: urllib3<3,>=1.21.1 in /usr/local/lib/python3.10/dist-packages (from requests>=2.25.1->videodb) (2.0.7)\n",
            "Requirement already satisfied: certifi>=2017.4.17 in /usr/local/lib/python3.10/dist-packages (from requests>=2.25.1->videodb) (2023.11.17)\n",
            "Building wheels for collected packages: videodb\n",
            "  Building wheel for videodb (setup.py) ... \u001b[?25l\u001b[?25hdone\n",
            "  Created wheel for videodb: filename=videodb-0.0.3-py3-none-any.whl size=21653 sha256=01a7ae1b464556809d8156ad81d80e548e006433a64f6891fd458329b2ad1ee5\n",
            "  Stored in directory: /root/.cache/pip/wheels/47/4f/17/9b87ad35fa777e51d06cbbe31540dabcff417a473979780c7a\n",
            "Successfully built videodb\n",
            "Installing collected packages: backoff, videodb\n",
            "Successfully installed backoff-2.2.1 videodb-0.0.3\n"
          ]
        }
      ],
      "source": [
        "#update to latest version\n",
        "!pip install -U videodb"
      ]
    },
    {
      "cell_type": "code",
      "execution_count": 2,
      "id": "98d0c77b-c8b7-49a9-8e6c-1deb72dffcdf",
      "metadata": {
        "colab": {
          "base_uri": "https://localhost:8080/"
        },
        "id": "98d0c77b-c8b7-49a9-8e6c-1deb72dffcdf",
        "outputId": "7f2298f2-9a59-4c17-bad3-e1c5c944ad9d"
      },
      "outputs": [
        {
          "output_type": "stream",
          "name": "stdout",
          "text": [
            "Requirement already satisfied: spacy in /usr/local/lib/python3.10/dist-packages (3.6.1)\n",
            "Requirement already satisfied: spacy-legacy<3.1.0,>=3.0.11 in /usr/local/lib/python3.10/dist-packages (from spacy) (3.0.12)\n",
            "Requirement already satisfied: spacy-loggers<2.0.0,>=1.0.0 in /usr/local/lib/python3.10/dist-packages (from spacy) (1.0.5)\n",
            "Requirement already satisfied: murmurhash<1.1.0,>=0.28.0 in /usr/local/lib/python3.10/dist-packages (from spacy) (1.0.10)\n",
            "Requirement already satisfied: cymem<2.1.0,>=2.0.2 in /usr/local/lib/python3.10/dist-packages (from spacy) (2.0.8)\n",
            "Requirement already satisfied: preshed<3.1.0,>=3.0.2 in /usr/local/lib/python3.10/dist-packages (from spacy) (3.0.9)\n",
            "Requirement already satisfied: thinc<8.2.0,>=8.1.8 in /usr/local/lib/python3.10/dist-packages (from spacy) (8.1.12)\n",
            "Requirement already satisfied: wasabi<1.2.0,>=0.9.1 in /usr/local/lib/python3.10/dist-packages (from spacy) (1.1.2)\n",
            "Requirement already satisfied: srsly<3.0.0,>=2.4.3 in /usr/local/lib/python3.10/dist-packages (from spacy) (2.4.8)\n",
            "Requirement already satisfied: catalogue<2.1.0,>=2.0.6 in /usr/local/lib/python3.10/dist-packages (from spacy) (2.0.10)\n",
            "Requirement already satisfied: typer<0.10.0,>=0.3.0 in /usr/local/lib/python3.10/dist-packages (from spacy) (0.9.0)\n",
            "Requirement already satisfied: pathy>=0.10.0 in /usr/local/lib/python3.10/dist-packages (from spacy) (0.11.0)\n",
            "Requirement already satisfied: smart-open<7.0.0,>=5.2.1 in /usr/local/lib/python3.10/dist-packages (from spacy) (6.4.0)\n",
            "Requirement already satisfied: tqdm<5.0.0,>=4.38.0 in /usr/local/lib/python3.10/dist-packages (from spacy) (4.66.1)\n",
            "Requirement already satisfied: numpy>=1.15.0 in /usr/local/lib/python3.10/dist-packages (from spacy) (1.23.5)\n",
            "Requirement already satisfied: requests<3.0.0,>=2.13.0 in /usr/local/lib/python3.10/dist-packages (from spacy) (2.31.0)\n",
            "Requirement already satisfied: pydantic!=1.8,!=1.8.1,<3.0.0,>=1.7.4 in /usr/local/lib/python3.10/dist-packages (from spacy) (1.10.14)\n",
            "Requirement already satisfied: jinja2 in /usr/local/lib/python3.10/dist-packages (from spacy) (3.1.3)\n",
            "Requirement already satisfied: setuptools in /usr/local/lib/python3.10/dist-packages (from spacy) (67.7.2)\n",
            "Requirement already satisfied: packaging>=20.0 in /usr/local/lib/python3.10/dist-packages (from spacy) (23.2)\n",
            "Requirement already satisfied: langcodes<4.0.0,>=3.2.0 in /usr/local/lib/python3.10/dist-packages (from spacy) (3.3.0)\n",
            "Requirement already satisfied: pathlib-abc==0.1.1 in /usr/local/lib/python3.10/dist-packages (from pathy>=0.10.0->spacy) (0.1.1)\n",
            "Requirement already satisfied: typing-extensions>=4.2.0 in /usr/local/lib/python3.10/dist-packages (from pydantic!=1.8,!=1.8.1,<3.0.0,>=1.7.4->spacy) (4.5.0)\n",
            "Requirement already satisfied: charset-normalizer<4,>=2 in /usr/local/lib/python3.10/dist-packages (from requests<3.0.0,>=2.13.0->spacy) (3.3.2)\n",
            "Requirement already satisfied: idna<4,>=2.5 in /usr/local/lib/python3.10/dist-packages (from requests<3.0.0,>=2.13.0->spacy) (3.6)\n",
            "Requirement already satisfied: urllib3<3,>=1.21.1 in /usr/local/lib/python3.10/dist-packages (from requests<3.0.0,>=2.13.0->spacy) (2.0.7)\n",
            "Requirement already satisfied: certifi>=2017.4.17 in /usr/local/lib/python3.10/dist-packages (from requests<3.0.0,>=2.13.0->spacy) (2023.11.17)\n",
            "Requirement already satisfied: blis<0.8.0,>=0.7.8 in /usr/local/lib/python3.10/dist-packages (from thinc<8.2.0,>=8.1.8->spacy) (0.7.11)\n",
            "Requirement already satisfied: confection<1.0.0,>=0.0.1 in /usr/local/lib/python3.10/dist-packages (from thinc<8.2.0,>=8.1.8->spacy) (0.1.4)\n",
            "Requirement already satisfied: click<9.0.0,>=7.1.1 in /usr/local/lib/python3.10/dist-packages (from typer<0.10.0,>=0.3.0->spacy) (8.1.7)\n",
            "Requirement already satisfied: MarkupSafe>=2.0 in /usr/local/lib/python3.10/dist-packages (from jinja2->spacy) (2.1.4)\n"
          ]
        }
      ],
      "source": [
        "!pip install spacy"
      ]
    },
    {
      "cell_type": "code",
      "execution_count": 3,
      "id": "40c98098-be52-4575-ab04-7299e71bf8db",
      "metadata": {
        "colab": {
          "base_uri": "https://localhost:8080/"
        },
        "id": "40c98098-be52-4575-ab04-7299e71bf8db",
        "outputId": "c78c0571-5717-4d78-f73f-704a9816d842"
      },
      "outputs": [
        {
          "output_type": "stream",
          "name": "stdout",
          "text": [
            "2024-02-01 09:18:45.996888: E external/local_xla/xla/stream_executor/cuda/cuda_dnn.cc:9261] Unable to register cuDNN factory: Attempting to register factory for plugin cuDNN when one has already been registered\n",
            "2024-02-01 09:18:45.996962: E external/local_xla/xla/stream_executor/cuda/cuda_fft.cc:607] Unable to register cuFFT factory: Attempting to register factory for plugin cuFFT when one has already been registered\n",
            "2024-02-01 09:18:45.998981: E external/local_xla/xla/stream_executor/cuda/cuda_blas.cc:1515] Unable to register cuBLAS factory: Attempting to register factory for plugin cuBLAS when one has already been registered\n",
            "2024-02-01 09:18:46.008555: I tensorflow/core/platform/cpu_feature_guard.cc:182] This TensorFlow binary is optimized to use available CPU instructions in performance-critical operations.\n",
            "To enable the following instructions: AVX2 FMA, in other operations, rebuild TensorFlow with the appropriate compiler flags.\n",
            "2024-02-01 09:18:47.311274: W tensorflow/compiler/tf2tensorrt/utils/py_utils.cc:38] TF-TRT Warning: Could not find TensorRT\n",
            "Collecting en-core-web-sm==3.6.0\n",
            "  Downloading https://github.com/explosion/spacy-models/releases/download/en_core_web_sm-3.6.0/en_core_web_sm-3.6.0-py3-none-any.whl (12.8 MB)\n",
            "\u001b[2K     \u001b[90m━━━━━━━━━━━━━━━━━━━━━━━━━━━━━━━━━━━━━━━━\u001b[0m \u001b[32m12.8/12.8 MB\u001b[0m \u001b[31m62.8 MB/s\u001b[0m eta \u001b[36m0:00:00\u001b[0m\n",
            "\u001b[?25hRequirement already satisfied: spacy<3.7.0,>=3.6.0 in /usr/local/lib/python3.10/dist-packages (from en-core-web-sm==3.6.0) (3.6.1)\n",
            "Requirement already satisfied: spacy-legacy<3.1.0,>=3.0.11 in /usr/local/lib/python3.10/dist-packages (from spacy<3.7.0,>=3.6.0->en-core-web-sm==3.6.0) (3.0.12)\n",
            "Requirement already satisfied: spacy-loggers<2.0.0,>=1.0.0 in /usr/local/lib/python3.10/dist-packages (from spacy<3.7.0,>=3.6.0->en-core-web-sm==3.6.0) (1.0.5)\n",
            "Requirement already satisfied: murmurhash<1.1.0,>=0.28.0 in /usr/local/lib/python3.10/dist-packages (from spacy<3.7.0,>=3.6.0->en-core-web-sm==3.6.0) (1.0.10)\n",
            "Requirement already satisfied: cymem<2.1.0,>=2.0.2 in /usr/local/lib/python3.10/dist-packages (from spacy<3.7.0,>=3.6.0->en-core-web-sm==3.6.0) (2.0.8)\n",
            "Requirement already satisfied: preshed<3.1.0,>=3.0.2 in /usr/local/lib/python3.10/dist-packages (from spacy<3.7.0,>=3.6.0->en-core-web-sm==3.6.0) (3.0.9)\n",
            "Requirement already satisfied: thinc<8.2.0,>=8.1.8 in /usr/local/lib/python3.10/dist-packages (from spacy<3.7.0,>=3.6.0->en-core-web-sm==3.6.0) (8.1.12)\n",
            "Requirement already satisfied: wasabi<1.2.0,>=0.9.1 in /usr/local/lib/python3.10/dist-packages (from spacy<3.7.0,>=3.6.0->en-core-web-sm==3.6.0) (1.1.2)\n",
            "Requirement already satisfied: srsly<3.0.0,>=2.4.3 in /usr/local/lib/python3.10/dist-packages (from spacy<3.7.0,>=3.6.0->en-core-web-sm==3.6.0) (2.4.8)\n",
            "Requirement already satisfied: catalogue<2.1.0,>=2.0.6 in /usr/local/lib/python3.10/dist-packages (from spacy<3.7.0,>=3.6.0->en-core-web-sm==3.6.0) (2.0.10)\n",
            "Requirement already satisfied: typer<0.10.0,>=0.3.0 in /usr/local/lib/python3.10/dist-packages (from spacy<3.7.0,>=3.6.0->en-core-web-sm==3.6.0) (0.9.0)\n",
            "Requirement already satisfied: pathy>=0.10.0 in /usr/local/lib/python3.10/dist-packages (from spacy<3.7.0,>=3.6.0->en-core-web-sm==3.6.0) (0.11.0)\n",
            "Requirement already satisfied: smart-open<7.0.0,>=5.2.1 in /usr/local/lib/python3.10/dist-packages (from spacy<3.7.0,>=3.6.0->en-core-web-sm==3.6.0) (6.4.0)\n",
            "Requirement already satisfied: tqdm<5.0.0,>=4.38.0 in /usr/local/lib/python3.10/dist-packages (from spacy<3.7.0,>=3.6.0->en-core-web-sm==3.6.0) (4.66.1)\n",
            "Requirement already satisfied: numpy>=1.15.0 in /usr/local/lib/python3.10/dist-packages (from spacy<3.7.0,>=3.6.0->en-core-web-sm==3.6.0) (1.23.5)\n",
            "Requirement already satisfied: requests<3.0.0,>=2.13.0 in /usr/local/lib/python3.10/dist-packages (from spacy<3.7.0,>=3.6.0->en-core-web-sm==3.6.0) (2.31.0)\n",
            "Requirement already satisfied: pydantic!=1.8,!=1.8.1,<3.0.0,>=1.7.4 in /usr/local/lib/python3.10/dist-packages (from spacy<3.7.0,>=3.6.0->en-core-web-sm==3.6.0) (1.10.14)\n",
            "Requirement already satisfied: jinja2 in /usr/local/lib/python3.10/dist-packages (from spacy<3.7.0,>=3.6.0->en-core-web-sm==3.6.0) (3.1.3)\n",
            "Requirement already satisfied: setuptools in /usr/local/lib/python3.10/dist-packages (from spacy<3.7.0,>=3.6.0->en-core-web-sm==3.6.0) (67.7.2)\n",
            "Requirement already satisfied: packaging>=20.0 in /usr/local/lib/python3.10/dist-packages (from spacy<3.7.0,>=3.6.0->en-core-web-sm==3.6.0) (23.2)\n",
            "Requirement already satisfied: langcodes<4.0.0,>=3.2.0 in /usr/local/lib/python3.10/dist-packages (from spacy<3.7.0,>=3.6.0->en-core-web-sm==3.6.0) (3.3.0)\n",
            "Requirement already satisfied: pathlib-abc==0.1.1 in /usr/local/lib/python3.10/dist-packages (from pathy>=0.10.0->spacy<3.7.0,>=3.6.0->en-core-web-sm==3.6.0) (0.1.1)\n",
            "Requirement already satisfied: typing-extensions>=4.2.0 in /usr/local/lib/python3.10/dist-packages (from pydantic!=1.8,!=1.8.1,<3.0.0,>=1.7.4->spacy<3.7.0,>=3.6.0->en-core-web-sm==3.6.0) (4.5.0)\n",
            "Requirement already satisfied: charset-normalizer<4,>=2 in /usr/local/lib/python3.10/dist-packages (from requests<3.0.0,>=2.13.0->spacy<3.7.0,>=3.6.0->en-core-web-sm==3.6.0) (3.3.2)\n",
            "Requirement already satisfied: idna<4,>=2.5 in /usr/local/lib/python3.10/dist-packages (from requests<3.0.0,>=2.13.0->spacy<3.7.0,>=3.6.0->en-core-web-sm==3.6.0) (3.6)\n",
            "Requirement already satisfied: urllib3<3,>=1.21.1 in /usr/local/lib/python3.10/dist-packages (from requests<3.0.0,>=2.13.0->spacy<3.7.0,>=3.6.0->en-core-web-sm==3.6.0) (2.0.7)\n",
            "Requirement already satisfied: certifi>=2017.4.17 in /usr/local/lib/python3.10/dist-packages (from requests<3.0.0,>=2.13.0->spacy<3.7.0,>=3.6.0->en-core-web-sm==3.6.0) (2023.11.17)\n",
            "Requirement already satisfied: blis<0.8.0,>=0.7.8 in /usr/local/lib/python3.10/dist-packages (from thinc<8.2.0,>=8.1.8->spacy<3.7.0,>=3.6.0->en-core-web-sm==3.6.0) (0.7.11)\n",
            "Requirement already satisfied: confection<1.0.0,>=0.0.1 in /usr/local/lib/python3.10/dist-packages (from thinc<8.2.0,>=8.1.8->spacy<3.7.0,>=3.6.0->en-core-web-sm==3.6.0) (0.1.4)\n",
            "Requirement already satisfied: click<9.0.0,>=7.1.1 in /usr/local/lib/python3.10/dist-packages (from typer<0.10.0,>=0.3.0->spacy<3.7.0,>=3.6.0->en-core-web-sm==3.6.0) (8.1.7)\n",
            "Requirement already satisfied: MarkupSafe>=2.0 in /usr/local/lib/python3.10/dist-packages (from jinja2->spacy<3.7.0,>=3.6.0->en-core-web-sm==3.6.0) (2.1.4)\n",
            "\u001b[38;5;2m✔ Download and installation successful\u001b[0m\n",
            "You can now load the package via spacy.load('en_core_web_sm')\n"
          ]
        }
      ],
      "source": [
        "!python -m spacy download en_core_web_sm"
      ]
    },
    {
      "cell_type": "code",
      "execution_count": 4,
      "id": "3c5d3ea5-e80c-4381-b768-6a90cf96f302",
      "metadata": {
        "id": "3c5d3ea5-e80c-4381-b768-6a90cf96f302"
      },
      "outputs": [],
      "source": [
        "from videodb import connect, play_stream\n",
        "conn = connect(api_key=\"\")"
      ]
    },
    {
      "cell_type": "code",
      "execution_count": 5,
      "id": "5e3c82b2-5655-4eaa-887b-fb19678b0aab",
      "metadata": {
        "id": "5e3c82b2-5655-4eaa-887b-fb19678b0aab"
      },
      "outputs": [],
      "source": [
        "# upload a video with curse words\n",
        "video = conn.upload(url='https://www.youtube.com/watch?v=igh9iO5BxBo')"
      ]
    },
    {
      "cell_type": "code",
      "execution_count": 6,
      "id": "d53afa75-5438-4a7b-b0ea-0ad09c03c517",
      "metadata": {
        "colab": {
          "base_uri": "https://localhost:8080/"
        },
        "id": "d53afa75-5438-4a7b-b0ea-0ad09c03c517",
        "outputId": "c06c95bc-4908-4f26-8b11-3bcd0b170668"
      },
      "outputs": [
        {
          "output_type": "stream",
          "name": "stderr",
          "text": [
            "100%|████████████████████████████████████████████████████████████████████████████████████████████████████| 100/100 [00:49<00:00,  2.03it/s]\n"
          ]
        }
      ],
      "source": [
        "video.index_spoken_words()"
      ]
    },
    {
      "cell_type": "code",
      "execution_count": 28,
      "id": "34852693-5717-4251-a7fe-5615a388ed5a",
      "metadata": {
        "id": "34852693-5717-4251-a7fe-5615a388ed5a"
      },
      "outputs": [],
      "source": [
        "# find and upload a beep sound\n",
        "beep = conn.upload(file_path=\"./beep2.mp3\")"
      ]
    },
    {
      "cell_type": "code",
      "execution_count": 29,
      "id": "96f4b4f4-e085-4e67-babc-b4ba8f9a98ff",
      "metadata": {
        "id": "96f4b4f4-e085-4e67-babc-b4ba8f9a98ff"
      },
      "outputs": [],
      "source": [
        "from videodb.asset import VideoAsset, AudioAsset\n",
        "from videodb.timeline import Timeline"
      ]
    },
    {
      "cell_type": "code",
      "execution_count": 30,
      "id": "30634d3a-ad33-428d-9c2f-a088f96f81a5",
      "metadata": {
        "colab": {
          "base_uri": "https://localhost:8080/"
        },
        "id": "30634d3a-ad33-428d-9c2f-a088f96f81a5",
        "outputId": "17c75e55-88c8-4a18-b675-5c7798aaf35b"
      },
      "outputs": [
        {
          "output_type": "execute_result",
          "data": {
            "text/plain": [
              "AudioAsset(asset_id=a-cda1fca2-95fb-49a6-ac83-718913baa112, start=0, end=None, disable_other_tracks=True, fade_in_duration=0, fade_out_duration=0)"
            ]
          },
          "metadata": {},
          "execution_count": 30
        }
      ],
      "source": [
        "AudioAsset(asset_id=beep.id)"
      ]
    },
    {
      "cell_type": "code",
      "execution_count": 31,
      "id": "8c4b842f-5c19-44b4-9657-1ece2bec23a0",
      "metadata": {
        "scrolled": true,
        "colab": {
          "base_uri": "https://localhost:8080/",
          "height": 321
        },
        "id": "8c4b842f-5c19-44b4-9657-1ece2bec23a0",
        "outputId": "fe7197c8-d80c-461a-e242-5168ad3a506b"
      },
      "outputs": [
        {
          "output_type": "execute_result",
          "data": {
            "text/plain": [
              "\"That's so many difficult words. And I think the hardest word in America has been the word sheet. I thought it easy. I know what it means but it turns out I didn't know shit. They get the most complicated word. Like how can it be if something is bad? It's shit. If something is really good. It's the shit. I would have never guessed that. I have to study that sheet. so important the article like if I if I give it to you that means that the Telling you off, but if I give a shit. Riverbend Eyecare And if I take sheet if I take it then I accept that you are bullying me. but if I take a sheet I I take a shit and I learned it is always good and positive but your shit his sheet Hershey or wet by I can't deal with her shit. I have to put up with his shit clean up your shit. But don't touch my shit. I have shit to do. It can refer to any activity. Whatsoever any except one actually shity. Nobody says that when they're going to the bathroom. Nobody except me. I love the dough that I love you, but I have to go I have shit to do. What are you going to do? I have already told you. I've been aware that the phrase and it doesn't mean anything. It's just something that you say to make your list. I want longer. Like if somebody says ooh, I like to travel and sheet. If you have to know that they only like to travel. And to make it even more complicated sheet can be divided into a piece of shit. I got has a completely different meaning. A piece of shit is a bad movie allowed to car or a person who's being selfish. of the pizza Can I get bigger and bigger but it can never be the whole sheet. Like like if I'm a piece of shit, I'm being selfish and if I'm a giant piece of shit, I'm even more selfies, but if I'm good, I'm great. Thanks a lot. I'll be nice. Thank you for watching if you want to see more there is more, so please watch some more and I click subscribe and please share and thank you and see you again by.\""
            ],
            "application/vnd.google.colaboratory.intrinsic+json": {
              "type": "string"
            }
          },
          "metadata": {},
          "execution_count": 31
        }
      ],
      "source": [
        "video.get_transcript_text()"
      ]
    },
    {
      "cell_type": "code",
      "execution_count": 32,
      "id": "c190cc4e-8a94-4fe0-a448-6fb36f47ed33",
      "metadata": {
        "id": "c190cc4e-8a94-4fe0-a448-6fb36f47ed33"
      },
      "outputs": [],
      "source": [
        "curse_words_list = ['shit', 'shity' 'fuck', 'motherfucker','damn', 'fucking', 'love']"
      ]
    },
    {
      "cell_type": "code",
      "execution_count": 33,
      "id": "4f5e93cf-61b3-44f2-83ec-65956359052d",
      "metadata": {
        "id": "4f5e93cf-61b3-44f2-83ec-65956359052d"
      },
      "outputs": [],
      "source": [
        "import spacy\n",
        "import re\n",
        "nlp = spacy.load(\"en_core_web_sm\")"
      ]
    },
    {
      "cell_type": "code",
      "execution_count": 34,
      "id": "af6001f1-4bea-47fd-babc-fe1d7baf2ed5",
      "metadata": {
        "colab": {
          "base_uri": "https://localhost:8080/"
        },
        "id": "af6001f1-4bea-47fd-babc-fe1d7baf2ed5",
        "outputId": "7c7f62a2-f317-4a6f-ed75-41ace43eb056"
      },
      "outputs": [
        {
          "output_type": "stream",
          "name": "stdout",
          "text": [
            "shity\n"
          ]
        }
      ],
      "source": [
        "def get_root_word(word):\n",
        "    try:\n",
        "        cleaned_word = re.sub(r'[^\\w\\s]', '', word)\n",
        "        # Load the English language model\n",
        "\n",
        "        # Process the sentence\n",
        "        doc = nlp(cleaned_word)\n",
        "\n",
        "        # Lemmatize the word\n",
        "        lemmatized_word = [token.lemma_ for token in doc][0]  # Assuming single word input\n",
        "\n",
        "        return lemmatized_word\n",
        "    except Exception as e:\n",
        "        print(f\"some issue with lemma for the word {word}\")\n",
        "        return word\n",
        "\n",
        "print(get_root_word('shity'))"
      ]
    },
    {
      "cell_type": "code",
      "execution_count": 35,
      "id": "855abba9-7f91-43e5-a123-f1a4e00bed3a",
      "metadata": {
        "id": "855abba9-7f91-43e5-a123-f1a4e00bed3a"
      },
      "outputs": [],
      "source": [
        "transcript = video.get_transcript()"
      ]
    },
    {
      "cell_type": "code",
      "execution_count": 36,
      "id": "c04d162e-1474-475b-8ebe-69b6a147533a",
      "metadata": {
        "colab": {
          "base_uri": "https://localhost:8080/"
        },
        "id": "c04d162e-1474-475b-8ebe-69b6a147533a",
        "outputId": "f6418301-db94-4ca4-9d2b-3a1d025cc6b1"
      },
      "outputs": [
        {
          "output_type": "execute_result",
          "data": {
            "text/plain": [
              "[{'end': '0.3', 'start': '0', 'text': \"That's\"},\n",
              " {'end': '0.4', 'start': '0.3', 'text': 'so'},\n",
              " {'end': '0.6', 'start': '0.4', 'text': 'many'},\n",
              " {'end': '1.1', 'start': '0.6', 'text': 'difficult'},\n",
              " {'end': '1.4', 'start': '1.1', 'text': 'words.'},\n",
              " {'end': '1.5', 'start': '1.4', 'text': 'And'},\n",
              " {'end': '1.6', 'start': '1.5', 'text': 'I'},\n",
              " {'end': '1.8', 'start': '1.6', 'text': 'think'},\n",
              " {'end': '1.8', 'start': '1.8', 'text': 'the'},\n",
              " {'end': '2.2', 'start': '1.8', 'text': 'hardest'},\n",
              " {'end': '2.6', 'start': '2.2', 'text': 'word'},\n",
              " {'end': '2.8', 'start': '2.6', 'text': 'in'},\n",
              " {'end': '3.2', 'start': '2.8', 'text': 'America'},\n",
              " {'end': '3.4', 'start': '3.2', 'text': 'has'},\n",
              " {'end': '3.6', 'start': '3.4', 'text': 'been'},\n",
              " {'end': '3.7', 'start': '3.6', 'text': 'the'},\n",
              " {'end': '4', 'start': '3.7', 'text': 'word'},\n",
              " {'end': '4.7', 'start': '4', 'text': 'sheet.'},\n",
              " {'end': '6.7', 'start': '4.7', 'text': '-'},\n",
              " {'end': '7', 'start': '6.7', 'text': 'I'},\n",
              " {'end': '7.4', 'start': '7', 'text': 'thought'},\n",
              " {'end': '7.5', 'start': '7.4', 'text': 'it'},\n",
              " {'end': '8.2', 'start': '7.5', 'text': 'easy.'},\n",
              " {'end': '8.5', 'start': '8.2', 'text': 'I'},\n",
              " {'end': '8.6', 'start': '8.5', 'text': 'know'},\n",
              " {'end': '8.9', 'start': '8.6', 'text': 'what'},\n",
              " {'end': '9.2', 'start': '8.9', 'text': 'it'},\n",
              " {'end': '9.3', 'start': '9.2', 'text': 'means'},\n",
              " {'end': '10.5', 'start': '9.3', 'text': 'but'},\n",
              " {'end': '10.7', 'start': '10.5', 'text': 'it'},\n",
              " {'end': '11', 'start': '10.7', 'text': 'turns'},\n",
              " {'end': '11', 'start': '11', 'text': 'out'},\n",
              " {'end': '11.9', 'start': '11', 'text': 'I'},\n",
              " {'end': '12.3', 'start': '11.9', 'text': \"didn't\"},\n",
              " {'end': '12.4', 'start': '12.3', 'text': 'know'},\n",
              " {'end': '12.7', 'start': '12.4', 'text': 'shit.'},\n",
              " {'end': '15.9', 'start': '12.7', 'text': '-'},\n",
              " {'end': '16.4', 'start': '15.9', 'text': 'They'},\n",
              " {'end': '16.5', 'start': '16.4', 'text': 'get'},\n",
              " {'end': '16.7', 'start': '16.5', 'text': 'the'},\n",
              " {'end': '16.9', 'start': '16.7', 'text': 'most'},\n",
              " {'end': '17.1', 'start': '16.9', 'text': 'complicated'},\n",
              " {'end': '17.5', 'start': '17.1', 'text': 'word.'},\n",
              " {'end': '17.8', 'start': '17.5', 'text': 'Like'},\n",
              " {'end': '18', 'start': '17.8', 'text': 'how'},\n",
              " {'end': '18.2', 'start': '18', 'text': 'can'},\n",
              " {'end': '18.4', 'start': '18.2', 'text': 'it'},\n",
              " {'end': '18.4', 'start': '18.4', 'text': 'be'},\n",
              " {'end': '19.3', 'start': '18.4', 'text': 'if'},\n",
              " {'end': '19.7', 'start': '19.3', 'text': 'something'},\n",
              " {'end': '19.9', 'start': '19.7', 'text': 'is'},\n",
              " {'end': '20.1', 'start': '19.9', 'text': 'bad?'},\n",
              " {'end': '20.8', 'start': '20.1', 'text': \"It's\"},\n",
              " {'end': '21.3', 'start': '20.8', 'text': 'shit.'},\n",
              " {'end': '22.4', 'start': '21.3', 'text': 'If'},\n",
              " {'end': '22.6', 'start': '22.4', 'text': 'something'},\n",
              " {'end': '22.8', 'start': '22.6', 'text': 'is'},\n",
              " {'end': '23.1', 'start': '22.8', 'text': 'really'},\n",
              " {'end': '23.6', 'start': '23.1', 'text': 'good.'},\n",
              " {'end': '24.5', 'start': '23.6', 'text': \"It's\"},\n",
              " {'end': '24.7', 'start': '24.5', 'text': 'the'},\n",
              " {'end': '25.2', 'start': '24.7', 'text': 'shit.'},\n",
              " {'end': '29.5', 'start': '25.2', 'text': '-'},\n",
              " {'end': '29.9', 'start': '29.5', 'text': 'I'},\n",
              " {'end': '30.5', 'start': '29.9', 'text': 'would'},\n",
              " {'end': '30.6', 'start': '30.5', 'text': 'have'},\n",
              " {'end': '30.9', 'start': '30.6', 'text': 'never'},\n",
              " {'end': '31.4', 'start': '30.9', 'text': 'guessed'},\n",
              " {'end': '31.8', 'start': '31.4', 'text': 'that.'},\n",
              " {'end': '34.5', 'start': '31.8', 'text': '-'},\n",
              " {'end': '34.8', 'start': '34.5', 'text': 'I'},\n",
              " {'end': '35.3', 'start': '34.8', 'text': 'have'},\n",
              " {'end': '35.4', 'start': '35.3', 'text': 'to'},\n",
              " {'end': '35.6', 'start': '35.4', 'text': 'study'},\n",
              " {'end': '35.8', 'start': '35.6', 'text': 'that'},\n",
              " {'end': '36.2', 'start': '35.8', 'text': 'sheet.'},\n",
              " {'end': '40.8', 'start': '36.2', 'text': '-'},\n",
              " {'end': '41.2', 'start': '40.8', 'text': 'so'},\n",
              " {'end': '41.5', 'start': '41.2', 'text': 'important'},\n",
              " {'end': '41.9', 'start': '41.5', 'text': 'the'},\n",
              " {'end': '42.7', 'start': '41.9', 'text': 'article'},\n",
              " {'end': '43.3', 'start': '42.7', 'text': 'like'},\n",
              " {'end': '43.6', 'start': '43.3', 'text': 'if'},\n",
              " {'end': '44.8', 'start': '43.6', 'text': 'I'},\n",
              " {'end': '45.4', 'start': '44.8', 'text': 'if'},\n",
              " {'end': '45.6', 'start': '45.4', 'text': 'I'},\n",
              " {'end': '46', 'start': '45.6', 'text': 'give'},\n",
              " {'end': '47.9', 'start': '46', 'text': 'it'},\n",
              " {'end': '47.9', 'start': '47.9', 'text': 'to'},\n",
              " {'end': '48.2', 'start': '47.9', 'text': 'you'},\n",
              " {'end': '48.5', 'start': '48.2', 'text': 'that'},\n",
              " {'end': '48.8', 'start': '48.5', 'text': 'means'},\n",
              " {'end': '48.9', 'start': '48.8', 'text': 'that'},\n",
              " {'end': '49.2', 'start': '48.9', 'text': 'the'},\n",
              " {'end': '50', 'start': '49.2', 'text': '-'},\n",
              " {'end': '50.3', 'start': '50', 'text': 'Telling'},\n",
              " {'end': '50.4', 'start': '50.3', 'text': 'you'},\n",
              " {'end': '50.7', 'start': '50.4', 'text': 'off,'},\n",
              " {'end': '51.5', 'start': '50.7', 'text': 'but'},\n",
              " {'end': '51.7', 'start': '51.5', 'text': 'if'},\n",
              " {'end': '51.8', 'start': '51.7', 'text': 'I'},\n",
              " {'end': '52.1', 'start': '51.8', 'text': 'give'},\n",
              " {'end': '52.2', 'start': '52.1', 'text': 'a'},\n",
              " {'end': '52.8', 'start': '52.2', 'text': 'shit.'},\n",
              " {'end': '56.5', 'start': '52.8', 'text': '-'},\n",
              " {'end': '57.1', 'start': '56.5', 'text': 'Riverbend'},\n",
              " {'end': '57.8', 'start': '57.1', 'text': 'Eyecare'},\n",
              " {'end': '64.1', 'start': '57.8', 'text': '-'},\n",
              " {'end': '65.6', 'start': '64.1', 'text': 'And'},\n",
              " {'end': '65.7', 'start': '65.6', 'text': 'if'},\n",
              " {'end': '65.7', 'start': '65.7', 'text': 'I'},\n",
              " {'end': '66', 'start': '65.7', 'text': 'take'},\n",
              " {'end': '66.5', 'start': '66', 'text': 'sheet'},\n",
              " {'end': '66.9', 'start': '66.5', 'text': 'if'},\n",
              " {'end': '66.9', 'start': '66.9', 'text': 'I'},\n",
              " {'end': '67.3', 'start': '66.9', 'text': 'take'},\n",
              " {'end': '67.4', 'start': '67.3', 'text': 'it'},\n",
              " {'end': '67.7', 'start': '67.4', 'text': 'then'},\n",
              " {'end': '67.8', 'start': '67.7', 'text': 'I'},\n",
              " {'end': '68.2', 'start': '67.8', 'text': 'accept'},\n",
              " {'end': '68.4', 'start': '68.2', 'text': 'that'},\n",
              " {'end': '68.5', 'start': '68.4', 'text': 'you'},\n",
              " {'end': '68.6', 'start': '68.5', 'text': 'are'},\n",
              " {'end': '69', 'start': '68.6', 'text': 'bullying'},\n",
              " {'end': '69.1', 'start': '69', 'text': 'me.'},\n",
              " {'end': '70.5', 'start': '69.1', 'text': '-'},\n",
              " {'end': '70.8', 'start': '70.5', 'text': 'but'},\n",
              " {'end': '71', 'start': '70.8', 'text': 'if'},\n",
              " {'end': '71.1', 'start': '71', 'text': 'I'},\n",
              " {'end': '71.3', 'start': '71.1', 'text': 'take'},\n",
              " {'end': '71.6', 'start': '71.3', 'text': 'a'},\n",
              " {'end': '72.1', 'start': '71.6', 'text': 'sheet'},\n",
              " {'end': '74.1', 'start': '72.1', 'text': '-'},\n",
              " {'end': '74.5', 'start': '74.1', 'text': 'I'},\n",
              " {'end': '74.6', 'start': '74.5', 'text': 'I'},\n",
              " {'end': '75', 'start': '74.6', 'text': 'take'},\n",
              " {'end': '75.2', 'start': '75', 'text': 'a'},\n",
              " {'end': '75.4', 'start': '75.2', 'text': 'shit'},\n",
              " {'end': '78.9', 'start': '75.4', 'text': 'and'},\n",
              " {'end': '79', 'start': '78.9', 'text': 'I'},\n",
              " {'end': '79.2', 'start': '79', 'text': 'learned'},\n",
              " {'end': '80.1', 'start': '79.2', 'text': 'it'},\n",
              " {'end': '80.2', 'start': '80.1', 'text': 'is'},\n",
              " {'end': '80.5', 'start': '80.2', 'text': 'always'},\n",
              " {'end': '80.9', 'start': '80.5', 'text': 'good'},\n",
              " {'end': '81.3', 'start': '80.9', 'text': 'and'},\n",
              " {'end': '81.7', 'start': '81.3', 'text': 'positive'},\n",
              " {'end': '82.7', 'start': '81.7', 'text': 'but'},\n",
              " {'end': '83', 'start': '82.7', 'text': 'your'},\n",
              " {'end': '83.3', 'start': '83', 'text': 'shit'},\n",
              " {'end': '84', 'start': '83.3', 'text': 'his'},\n",
              " {'end': '84.3', 'start': '84', 'text': 'sheet'},\n",
              " {'end': '84.9', 'start': '84.3', 'text': 'Hershey'},\n",
              " {'end': '85.4', 'start': '84.9', 'text': 'or'},\n",
              " {'end': '85.6', 'start': '85.4', 'text': 'wet'},\n",
              " {'end': '85.8', 'start': '85.6', 'text': 'by'},\n",
              " {'end': '88', 'start': '85.8', 'text': '-'},\n",
              " {'end': '88', 'start': '88', 'text': 'I'},\n",
              " {'end': '88.6', 'start': '88', 'text': \"can't\"},\n",
              " {'end': '89.1', 'start': '88.6', 'text': 'deal'},\n",
              " {'end': '89.3', 'start': '89.1', 'text': 'with'},\n",
              " {'end': '89.5', 'start': '89.3', 'text': 'her'},\n",
              " {'end': '89.8', 'start': '89.5', 'text': 'shit.'},\n",
              " {'end': '90.5', 'start': '89.8', 'text': 'I'},\n",
              " {'end': '90.7', 'start': '90.5', 'text': 'have'},\n",
              " {'end': '90.9', 'start': '90.7', 'text': 'to'},\n",
              " {'end': '91.1', 'start': '90.9', 'text': 'put'},\n",
              " {'end': '91.1', 'start': '91.1', 'text': 'up'},\n",
              " {'end': '91.3', 'start': '91.1', 'text': 'with'},\n",
              " {'end': '91.6', 'start': '91.3', 'text': 'his'},\n",
              " {'end': '91.9', 'start': '91.6', 'text': 'shit'},\n",
              " {'end': '93.3', 'start': '91.9', 'text': 'clean'},\n",
              " {'end': '93.4', 'start': '93.3', 'text': 'up'},\n",
              " {'end': '93.6', 'start': '93.4', 'text': 'your'},\n",
              " {'end': '94', 'start': '93.6', 'text': 'shit.'},\n",
              " {'end': '95.3', 'start': '94', 'text': '-'},\n",
              " {'end': '95.6', 'start': '95.3', 'text': 'But'},\n",
              " {'end': '95.9', 'start': '95.6', 'text': \"don't\"},\n",
              " {'end': '96', 'start': '95.9', 'text': 'touch'},\n",
              " {'end': '96.2', 'start': '96', 'text': 'my'},\n",
              " {'end': '96.5', 'start': '96.2', 'text': 'shit.'},\n",
              " {'end': '100', 'start': '96.5', 'text': '-'},\n",
              " {'end': '106.4', 'start': '100', 'text': '-'},\n",
              " {'end': '110.3', 'start': '106.4', 'text': 'I'},\n",
              " {'end': '115.2', 'start': '110.3', 'text': 'have'},\n",
              " {'end': '115.5', 'start': '115.2', 'text': 'shit'},\n",
              " {'end': '115.7', 'start': '115.5', 'text': 'to'},\n",
              " {'end': '115.9', 'start': '115.7', 'text': 'do.'},\n",
              " {'end': '118.3', 'start': '115.9', 'text': '-'},\n",
              " {'end': '118.7', 'start': '118.3', 'text': 'It'},\n",
              " {'end': '118.9', 'start': '118.7', 'text': 'can'},\n",
              " {'end': '119.2', 'start': '118.9', 'text': 'refer'},\n",
              " {'end': '119.3', 'start': '119.2', 'text': 'to'},\n",
              " {'end': '119.7', 'start': '119.3', 'text': 'any'},\n",
              " {'end': '120.4', 'start': '119.7', 'text': 'activity.'},\n",
              " {'end': '122', 'start': '120.4', 'text': '-'},\n",
              " {'end': '122.7', 'start': '122', 'text': 'Whatsoever'},\n",
              " {'end': '123.9', 'start': '122.7', 'text': 'any'},\n",
              " {'end': '124.6', 'start': '123.9', 'text': 'except'},\n",
              " {'end': '124.9', 'start': '124.6', 'text': 'one'},\n",
              " {'end': '126', 'start': '124.9', 'text': 'actually'},\n",
              " {'end': '126.4', 'start': '126', 'text': 'shity.'},\n",
              " {'end': '128.6', 'start': '126.4', 'text': '-'},\n",
              " {'end': '129.3', 'start': '128.6', 'text': 'Nobody'},\n",
              " {'end': '129.6', 'start': '129.3', 'text': 'says'},\n",
              " {'end': '129.7', 'start': '129.6', 'text': 'that'},\n",
              " {'end': '130.1', 'start': '129.7', 'text': 'when'},\n",
              " {'end': '130.3', 'start': '130.1', 'text': \"they're\"},\n",
              " {'end': '130.4', 'start': '130.3', 'text': 'going'},\n",
              " {'end': '130.5', 'start': '130.4', 'text': 'to'},\n",
              " {'end': '130.6', 'start': '130.5', 'text': 'the'},\n",
              " {'end': '131.2', 'start': '130.6', 'text': 'bathroom.'},\n",
              " {'end': '132.8', 'start': '131.2', 'text': '-'},\n",
              " {'end': '134.2', 'start': '132.8', 'text': 'Nobody'},\n",
              " {'end': '134.3', 'start': '134.2', 'text': 'except'},\n",
              " {'end': '135', 'start': '134.3', 'text': 'me.'},\n",
              " {'end': '137', 'start': '135', 'text': '-'},\n",
              " {'end': '137.3', 'start': '137', 'text': 'I'},\n",
              " {'end': '137.7', 'start': '137.3', 'text': 'love'},\n",
              " {'end': '137.8', 'start': '137.7', 'text': 'the'},\n",
              " {'end': '137.9', 'start': '137.8', 'text': 'dough'},\n",
              " {'end': '138.1', 'start': '137.9', 'text': 'that'},\n",
              " {'end': '138.8', 'start': '138.1', 'text': 'I'},\n",
              " {'end': '139.1', 'start': '138.8', 'text': 'love'},\n",
              " {'end': '139.2', 'start': '139.1', 'text': 'you,'},\n",
              " {'end': '139.7', 'start': '139.2', 'text': 'but'},\n",
              " {'end': '139.9', 'start': '139.7', 'text': 'I'},\n",
              " {'end': '140', 'start': '139.9', 'text': 'have'},\n",
              " {'end': '140.1', 'start': '140', 'text': 'to'},\n",
              " {'end': '140.3', 'start': '140.1', 'text': 'go'},\n",
              " {'end': '140.6', 'start': '140.3', 'text': 'I'},\n",
              " {'end': '140.7', 'start': '140.6', 'text': 'have'},\n",
              " {'end': '141', 'start': '140.7', 'text': 'shit'},\n",
              " {'end': '141.2', 'start': '141', 'text': 'to'},\n",
              " {'end': '141.3', 'start': '141.2', 'text': 'do.'},\n",
              " {'end': '143.6', 'start': '141.3', 'text': 'What'},\n",
              " {'end': '144.8', 'start': '143.6', 'text': 'are'},\n",
              " {'end': '144.9', 'start': '144.8', 'text': 'you'},\n",
              " {'end': '145', 'start': '144.9', 'text': 'going'},\n",
              " {'end': '145.2', 'start': '145', 'text': 'to'},\n",
              " {'end': '145.4', 'start': '145.2', 'text': 'do?'},\n",
              " {'end': '145.7', 'start': '145.4', 'text': 'I'},\n",
              " {'end': '146', 'start': '145.7', 'text': 'have'},\n",
              " {'end': '146.4', 'start': '146', 'text': 'already'},\n",
              " {'end': '146.8', 'start': '146.4', 'text': 'told'},\n",
              " {'end': '147', 'start': '146.8', 'text': 'you.'},\n",
              " {'end': '150', 'start': '147', 'text': '-'},\n",
              " {'end': '153.5', 'start': '150', 'text': \"I've\"},\n",
              " {'end': '153.6', 'start': '153.5', 'text': 'been'},\n",
              " {'end': '153.9', 'start': '153.6', 'text': 'aware'},\n",
              " {'end': '154.1', 'start': '153.9', 'text': 'that'},\n",
              " {'end': '154.3', 'start': '154.1', 'text': 'the'},\n",
              " {'end': '154.9', 'start': '154.3', 'text': 'phrase'},\n",
              " {'end': '155.4', 'start': '154.9', 'text': 'and'},\n",
              " {'end': '156', 'start': '155.4', 'text': 'it'},\n",
              " {'end': '157.4', 'start': '156', 'text': \"doesn't\"},\n",
              " {'end': '157.5', 'start': '157.4', 'text': 'mean'},\n",
              " {'end': '157.6', 'start': '157.5', 'text': 'anything.'},\n",
              " {'end': '163', 'start': '157.6', 'text': \"It's\"},\n",
              " {'end': '163.2', 'start': '163', 'text': 'just'},\n",
              " {'end': '163.6', 'start': '163.2', 'text': 'something'},\n",
              " {'end': '163.7', 'start': '163.6', 'text': 'that'},\n",
              " {'end': '163.8', 'start': '163.7', 'text': 'you'},\n",
              " {'end': '164', 'start': '163.8', 'text': 'say'},\n",
              " {'end': '164.2', 'start': '164', 'text': 'to'},\n",
              " {'end': '164.4', 'start': '164.2', 'text': 'make'},\n",
              " {'end': '164.7', 'start': '164.4', 'text': 'your'},\n",
              " {'end': '165.1', 'start': '164.7', 'text': 'list.'},\n",
              " {'end': '165.3', 'start': '165.1', 'text': 'I'},\n",
              " {'end': '165.5', 'start': '165.3', 'text': 'want'},\n",
              " {'end': '165.9', 'start': '165.5', 'text': 'longer.'},\n",
              " {'end': '168.1', 'start': '165.9', 'text': '-'},\n",
              " {'end': '168.6', 'start': '168.1', 'text': 'Like'},\n",
              " {'end': '168.7', 'start': '168.6', 'text': 'if'},\n",
              " {'end': '168.9', 'start': '168.7', 'text': 'somebody'},\n",
              " {'end': '169.2', 'start': '168.9', 'text': 'says'},\n",
              " {'end': '169.3', 'start': '169.2', 'text': 'ooh,'},\n",
              " {'end': '169.8', 'start': '169.3', 'text': 'I'},\n",
              " {'end': '170', 'start': '169.8', 'text': 'like'},\n",
              " {'end': '170.2', 'start': '170', 'text': 'to'},\n",
              " {'end': '170.4', 'start': '170.2', 'text': 'travel'},\n",
              " {'end': '170.7', 'start': '170.4', 'text': 'and'},\n",
              " {'end': '171.1', 'start': '170.7', 'text': 'sheet.'},\n",
              " {'end': '175.3', 'start': '171.1', 'text': '-'},\n",
              " {'end': '176', 'start': '175.3', 'text': 'If'},\n",
              " {'end': '176.1', 'start': '176', 'text': 'you'},\n",
              " {'end': '176.3', 'start': '176.1', 'text': 'have'},\n",
              " {'end': '176.4', 'start': '176.3', 'text': 'to'},\n",
              " {'end': '176.5', 'start': '176.4', 'text': 'know'},\n",
              " {'end': '176.6', 'start': '176.5', 'text': 'that'},\n",
              " {'end': '176.8', 'start': '176.6', 'text': 'they'},\n",
              " {'end': '177', 'start': '176.8', 'text': 'only'},\n",
              " {'end': '177.6', 'start': '177', 'text': 'like'},\n",
              " {'end': '177.7', 'start': '177.6', 'text': 'to'},\n",
              " {'end': '178', 'start': '177.7', 'text': 'travel.'},\n",
              " {'end': '181.4', 'start': '178', 'text': '-'},\n",
              " {'end': '183.6', 'start': '181.4', 'text': 'And'},\n",
              " {'end': '183.7', 'start': '183.6', 'text': 'to'},\n",
              " {'end': '183.8', 'start': '183.7', 'text': 'make'},\n",
              " {'end': '183.9', 'start': '183.8', 'text': 'it'},\n",
              " {'end': '184', 'start': '183.9', 'text': 'even'},\n",
              " {'end': '184.3', 'start': '184', 'text': 'more'},\n",
              " {'end': '184.5', 'start': '184.3', 'text': 'complicated'},\n",
              " {'end': '185.2', 'start': '184.5', 'text': 'sheet'},\n",
              " {'end': '185.3', 'start': '185.2', 'text': 'can'},\n",
              " {'end': '185.4', 'start': '185.3', 'text': 'be'},\n",
              " {'end': '186', 'start': '185.4', 'text': 'divided'},\n",
              " {'end': '186.2', 'start': '186', 'text': 'into'},\n",
              " {'end': '186.5', 'start': '186.2', 'text': 'a'},\n",
              " {'end': '186.9', 'start': '186.5', 'text': 'piece'},\n",
              " {'end': '187', 'start': '186.9', 'text': 'of'},\n",
              " {'end': '187.3', 'start': '187', 'text': 'shit.'},\n",
              " {'end': '189', 'start': '187.3', 'text': '-'},\n",
              " {'end': '189.3', 'start': '189', 'text': 'I'},\n",
              " {'end': '189.6', 'start': '189.3', 'text': 'got'},\n",
              " {'end': '189.8', 'start': '189.6', 'text': 'has'},\n",
              " {'end': '189.8', 'start': '189.8', 'text': 'a'},\n",
              " {'end': '190.2', 'start': '189.8', 'text': 'completely'},\n",
              " {'end': '190.4', 'start': '190.2', 'text': 'different'},\n",
              " {'end': '190.7', 'start': '190.4', 'text': 'meaning.'},\n",
              " {'end': '191.8', 'start': '190.7', 'text': '-'},\n",
              " {'end': '192.1', 'start': '191.8', 'text': 'A'},\n",
              " {'end': '192.4', 'start': '192.1', 'text': 'piece'},\n",
              " {'end': '192.5', 'start': '192.4', 'text': 'of'},\n",
              " {'end': '192.7', 'start': '192.5', 'text': 'shit'},\n",
              " {'end': '192.9', 'start': '192.7', 'text': 'is'},\n",
              " {'end': '193.1', 'start': '192.9', 'text': 'a'},\n",
              " {'end': '193.4', 'start': '193.1', 'text': 'bad'},\n",
              " {'end': '193.6', 'start': '193.4', 'text': 'movie'},\n",
              " {'end': '194.3', 'start': '193.6', 'text': 'allowed'},\n",
              " {'end': '194.4', 'start': '194.3', 'text': 'to'},\n",
              " {'end': '194.8', 'start': '194.4', 'text': 'car'},\n",
              " {'end': '195.1', 'start': '194.8', 'text': 'or'},\n",
              " {'end': '195.2', 'start': '195.1', 'text': 'a'},\n",
              " {'end': '195.5', 'start': '195.2', 'text': 'person'},\n",
              " {'end': '195.8', 'start': '195.5', 'text': \"who's\"},\n",
              " {'end': '196.1', 'start': '195.8', 'text': 'being'},\n",
              " {'end': '196.6', 'start': '196.1', 'text': 'selfish.'},\n",
              " {'end': '199', 'start': '196.6', 'text': '-'},\n",
              " {'end': '199.4', 'start': '199', 'text': 'of'},\n",
              " {'end': '199.6', 'start': '199.4', 'text': 'the'},\n",
              " {'end': '199.8', 'start': '199.6', 'text': 'pizza'},\n",
              " {'end': '200', 'start': '199.8', 'text': '-'},\n",
              " {'end': '200.2', 'start': '200', 'text': 'Can'},\n",
              " {'end': '200.2', 'start': '200.2', 'text': 'I'},\n",
              " {'end': '200.3', 'start': '200.2', 'text': 'get'},\n",
              " {'end': '200.6', 'start': '200.3', 'text': 'bigger'},\n",
              " {'end': '200.8', 'start': '200.6', 'text': 'and'},\n",
              " {'end': '200.9', 'start': '200.8', 'text': 'bigger'},\n",
              " {'end': '202.4', 'start': '200.9', 'text': 'but'},\n",
              " {'end': '202.5', 'start': '202.4', 'text': 'it'},\n",
              " {'end': '202.6', 'start': '202.5', 'text': 'can'},\n",
              " {'end': '202.7', 'start': '202.6', 'text': 'never'},\n",
              " {'end': '202.9', 'start': '202.7', 'text': 'be'},\n",
              " {'end': '203', 'start': '202.9', 'text': 'the'},\n",
              " {'end': '203.4', 'start': '203', 'text': 'whole'},\n",
              " {'end': '203.6', 'start': '203.4', 'text': 'sheet.'},\n",
              " {'end': '206.8', 'start': '203.6', 'text': '-'},\n",
              " {'end': '207.3', 'start': '206.8', 'text': 'Like'},\n",
              " {'end': '207.7', 'start': '207.3', 'text': 'like'},\n",
              " {'end': '208', 'start': '207.7', 'text': 'if'},\n",
              " {'end': '208.2', 'start': '208', 'text': \"I'm\"},\n",
              " {'end': '208.3', 'start': '208.2', 'text': 'a'},\n",
              " {'end': '208.5', 'start': '208.3', 'text': 'piece'},\n",
              " {'end': '208.6', 'start': '208.5', 'text': 'of'},\n",
              " {'end': '208.9', 'start': '208.6', 'text': 'shit,'},\n",
              " {'end': '209.3', 'start': '208.9', 'text': \"I'm\"},\n",
              " {'end': '209.6', 'start': '209.3', 'text': 'being'},\n",
              " {'end': '210', 'start': '209.6', 'text': 'selfish'},\n",
              " {'end': '210.9', 'start': '210', 'text': 'and'},\n",
              " {'end': '211', 'start': '210.9', 'text': 'if'},\n",
              " {'end': '211.2', 'start': '211', 'text': \"I'm\"},\n",
              " {'end': '211.3', 'start': '211.2', 'text': 'a'},\n",
              " {'end': '211.7', 'start': '211.3', 'text': 'giant'},\n",
              " {'end': '211.9', 'start': '211.7', 'text': 'piece'},\n",
              " {'end': '212', 'start': '211.9', 'text': 'of'},\n",
              " {'end': '212.2', 'start': '212', 'text': 'shit,'},\n",
              " {'end': '212.6', 'start': '212.2', 'text': \"I'm\"},\n",
              " {'end': '212.8', 'start': '212.6', 'text': 'even'},\n",
              " {'end': '213', 'start': '212.8', 'text': 'more'},\n",
              " {'end': '213.6', 'start': '213', 'text': 'selfies,'},\n",
              " {'end': '214.5', 'start': '213.6', 'text': 'but'},\n",
              " {'end': '214.7', 'start': '214.5', 'text': 'if'},\n",
              " {'end': '214.9', 'start': '214.7', 'text': \"I'm\"},\n",
              " {'end': '215.1', 'start': '214.9', 'text': 'good,'},\n",
              " {'end': '215.8', 'start': '215.1', 'text': \"I'm\"},\n",
              " {'end': '216', 'start': '215.8', 'text': 'great.'},\n",
              " {'end': '218.9', 'start': '216', 'text': '-'},\n",
              " {'end': '220', 'start': '218.9', 'text': 'Thanks'},\n",
              " {'end': '220.1', 'start': '220', 'text': 'a'},\n",
              " {'end': '220.3', 'start': '220.1', 'text': 'lot.'},\n",
              " {'end': '221', 'start': '220.3', 'text': \"I'll\"},\n",
              " {'end': '221.1', 'start': '221', 'text': 'be'},\n",
              " {'end': '221.5', 'start': '221.1', 'text': 'nice.'},\n",
              " {'end': '223.2', 'start': '221.5', 'text': '-'},\n",
              " {'end': '223.7', 'start': '223.2', 'text': 'Thank'},\n",
              " {'end': '223.8', 'start': '223.7', 'text': 'you'},\n",
              " {'end': '223.9', 'start': '223.8', 'text': 'for'},\n",
              " {'end': '224.2', 'start': '223.9', 'text': 'watching'},\n",
              " {'end': '225.3', 'start': '224.2', 'text': 'if'},\n",
              " {'end': '225.4', 'start': '225.3', 'text': 'you'},\n",
              " {'end': '225.5', 'start': '225.4', 'text': 'want'},\n",
              " {'end': '225.6', 'start': '225.5', 'text': 'to'},\n",
              " {'end': '225.7', 'start': '225.6', 'text': 'see'},\n",
              " {'end': '225.8', 'start': '225.7', 'text': 'more'},\n",
              " {'end': '226.2', 'start': '225.8', 'text': 'there'},\n",
              " {'end': '226.4', 'start': '226.2', 'text': 'is'},\n",
              " {'end': '226.7', 'start': '226.4', 'text': 'more,'},\n",
              " {'end': '227.1', 'start': '226.7', 'text': 'so'},\n",
              " {'end': '227.5', 'start': '227.1', 'text': 'please'},\n",
              " {'end': '227.9', 'start': '227.5', 'text': 'watch'},\n",
              " {'end': '228.2', 'start': '227.9', 'text': 'some'},\n",
              " {'end': '228.3', 'start': '228.2', 'text': 'more'},\n",
              " {'end': '228.6', 'start': '228.3', 'text': 'and'},\n",
              " {'end': '228.7', 'start': '228.6', 'text': 'I'},\n",
              " {'end': '229.1', 'start': '228.7', 'text': 'click'},\n",
              " {'end': '229.4', 'start': '229.1', 'text': 'subscribe'},\n",
              " {'end': '230.4', 'start': '229.4', 'text': 'and'},\n",
              " {'end': '230.7', 'start': '230.4', 'text': 'please'},\n",
              " {'end': '231', 'start': '230.7', 'text': 'share'},\n",
              " {'end': '231.5', 'start': '231', 'text': 'and'},\n",
              " {'end': '231.8', 'start': '231.5', 'text': 'thank'},\n",
              " {'end': '232', 'start': '231.8', 'text': 'you'},\n",
              " {'end': '232.3', 'start': '232', 'text': 'and'},\n",
              " {'end': '232.4', 'start': '232.3', 'text': 'see'},\n",
              " {'end': '232.5', 'start': '232.4', 'text': 'you'},\n",
              " {'end': '232.7', 'start': '232.5', 'text': 'again'},\n",
              " {'end': '233.3', 'start': '232.7', 'text': 'by.'},\n",
              " {'end': '235', 'start': '233.3', 'text': '-'}]"
            ]
          },
          "metadata": {},
          "execution_count": 36
        }
      ],
      "source": [
        "transcript"
      ]
    },
    {
      "cell_type": "code",
      "execution_count": 37,
      "id": "a1d03a9c-e183-4fde-978b-9d6e333de110",
      "metadata": {
        "id": "a1d03a9c-e183-4fde-978b-9d6e333de110"
      },
      "outputs": [],
      "source": [
        "curse_words_list.append('sheet')"
      ]
    },
    {
      "cell_type": "code",
      "execution_count": 38,
      "id": "42635a2f-585d-42c3-80e2-49884256915d",
      "metadata": {
        "colab": {
          "base_uri": "https://localhost:8080/"
        },
        "id": "42635a2f-585d-42c3-80e2-49884256915d",
        "outputId": "68881c90-663d-4384-f72a-03af7d8789bb"
      },
      "outputs": [
        {
          "output_type": "stream",
          "name": "stdout",
          "text": [
            "beep the word: sheet., 4.0:4.7 \n",
            "beep the word: shit., 12.4:12.7 \n",
            "beep the word: shit., 20.8:21.3 \n",
            "beep the word: shit., 24.7:25.2 \n",
            "beep the word: sheet., 35.8:36.2 \n",
            "beep the word: shit., 52.2:52.8 \n",
            "beep the word: sheet, 66.0:66.5 \n",
            "beep the word: sheet, 71.6:72.1 \n",
            "beep the word: shit, 75.2:75.4 \n",
            "beep the word: shit, 83.0:83.3 \n",
            "beep the word: sheet, 84.0:84.3 \n",
            "beep the word: shit., 89.5:89.8 \n",
            "beep the word: shit, 91.6:91.9 \n",
            "beep the word: shit., 93.6:94.0 \n",
            "beep the word: shit., 96.2:96.5 \n",
            "beep the word: shit, 115.2:115.5 \n",
            "beep the word: love, 137.3:137.7 \n",
            "beep the word: love, 138.8:139.1 \n",
            "beep the word: shit, 140.7:141.0 \n",
            "beep the word: sheet., 170.7:171.1 \n",
            "beep the word: sheet, 184.5:185.2 \n",
            "beep the word: shit., 187.0:187.3 \n",
            "beep the word: shit, 192.5:192.7 \n",
            "beep the word: sheet., 203.4:203.6 \n",
            "beep the word: shit,, 208.6:208.9 \n",
            "beep the word: shit,, 212.0:212.2 \n"
          ]
        }
      ],
      "source": [
        "# create a new timeline\n",
        "timeline = Timeline(conn)\n",
        "# add the main video inline\n",
        "video_asset = VideoAsset(asset_id=video.id)\n",
        "timeline.add_inline(video_asset)\n",
        "\n",
        "for word in transcript:\n",
        "    text = word.get('text')\n",
        "\n",
        "    if text not in ['-']:\n",
        "        root_word = get_root_word(text)\n",
        "\n",
        "        if root_word in curse_words_list:\n",
        "            beep_start_time = float(word.get('start'))\n",
        "            beep_end_time = float(word.get('end'))\n",
        "            beep_duration = beep_end_time - beep_start_time\n",
        "\n",
        "            #add asset overlay of beep duration\n",
        "            print(f\"beep the word: {text}, {beep_start_time}:{beep_end_time} \")\n",
        "            timeline.add_overlay(start=beep_start_time, asset=AudioAsset(asset_id=beep.id,start=0, end=beep_duration))\n",
        "\n",
        "stream_url = timeline.generate_stream()"
      ]
    },
    {
      "cell_type": "code",
      "execution_count": 39,
      "id": "8e598cc1-42ab-4d16-9e70-cbc45d83d5aa",
      "metadata": {
        "colab": {
          "base_uri": "https://localhost:8080/",
          "height": 421
        },
        "id": "8e598cc1-42ab-4d16-9e70-cbc45d83d5aa",
        "outputId": "67c28138-1171-43b4-fc3b-e1536fff36d2"
      },
      "outputs": [
        {
          "output_type": "execute_result",
          "data": {
            "text/plain": [
              "<IPython.lib.display.IFrame at 0x7bc03f387eb0>"
            ],
            "text/html": [
              "\n",
              "        <iframe\n",
              "            width=\"800\"\n",
              "            height=\"400\"\n",
              "            src=\"https://console.videodb.io/player?url=https://stream.videodb.io/v3/published/manifests/26aa9c7b-d7b1-474f-bdcf-3714f32713a2.m3u8\"\n",
              "            frameborder=\"0\"\n",
              "            allowfullscreen\n",
              "            \n",
              "        ></iframe>\n",
              "        "
            ]
          },
          "metadata": {},
          "execution_count": 39
        }
      ],
      "source": [
        "from videodb import play_stream\n",
        "play_stream(stream_url)"
      ]
    }
  ],
  "metadata": {
    "kernelspec": {
      "display_name": "Python 3 (ipykernel)",
      "language": "python",
      "name": "python3"
    },
    "language_info": {
      "codemirror_mode": {
        "name": "ipython",
        "version": 3
      },
      "file_extension": ".py",
      "mimetype": "text/x-python",
      "name": "python",
      "nbconvert_exporter": "python",
      "pygments_lexer": "ipython3",
      "version": "3.12.0"
    },
    "colab": {
      "provenance": [],
      "include_colab_link": true
    }
  },
  "nbformat": 4,
  "nbformat_minor": 5
}